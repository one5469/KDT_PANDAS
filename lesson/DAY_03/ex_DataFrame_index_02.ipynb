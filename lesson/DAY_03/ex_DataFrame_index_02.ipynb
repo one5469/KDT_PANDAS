{
 "cells": [
  {
   "cell_type": "markdown",
   "id": "7e41b1c9-8ddc-4856-92bf-43c83205a06c",
   "metadata": {},
   "source": [
    "## [ DataFrame 인덱스 다루기 ]"
   ]
  },
  {
   "cell_type": "markdown",
   "id": "ccc208ab-9028-47ae-af33-9a8c46ae4b12",
   "metadata": {},
   "source": [
    "- (1) 새로운 인덱스 설정 컬럼 ==> 인덱스 설정"
   ]
  },
  {
   "cell_type": "markdown",
   "id": "5ea68f23-b09c-4b07-98a7-ac60ea870257",
   "metadata": {},
   "source": [
    "(1) 모듈 로딩"
   ]
  },
  {
   "cell_type": "code",
   "execution_count": 4,
   "id": "a23182f5-fabb-4ad4-98b9-d71bcf871ff8",
   "metadata": {},
   "outputs": [],
   "source": [
    "import pandas as pd"
   ]
  },
  {
   "cell_type": "markdown",
   "id": "ccbd4869-4c4c-4e5e-a868-96b102eac674",
   "metadata": {},
   "source": [
    "(2) 데이터 준비"
   ]
  },
  {
   "cell_type": "code",
   "execution_count": 5,
   "id": "0075e3a6-7551-48b8-ae36-e7d9a1caaa84",
   "metadata": {},
   "outputs": [],
   "source": [
    "exam = { '이름': ['마징가', '베트맨', '홍길동', '임꺽정'],\n",
    "         '국어': [98, 79, 99, 100],\n",
    "         '미술': [70, 99, 87, 80],\n",
    "         '수학': [80, 87, 99, 72],\n",
    "         '체육': [80, 83, 90, 88]}"
   ]
  },
  {
   "cell_type": "markdown",
   "id": "ae6e1786-d1e6-4759-9920-b28fcff01fba",
   "metadata": {},
   "source": [
    "(3) 데이터 저장"
   ]
  },
  {
   "cell_type": "code",
   "execution_count": 6,
   "id": "0bffec51-6f87-4780-8f97-bd76740c66ca",
   "metadata": {},
   "outputs": [],
   "source": [
    "examDF = pd.DataFrame(exam)\n"
   ]
  },
  {
   "cell_type": "markdown",
   "id": "37aae83b-f599-47a3-a62e-2d5f7d15ddaa",
   "metadata": {},
   "source": [
    "(4) 데이터 확인"
   ]
  },
  {
   "cell_type": "code",
   "execution_count": 7,
   "id": "9a64e172-de3f-44a5-abae-e86a6b988357",
   "metadata": {},
   "outputs": [
    {
     "data": {
      "text/html": [
       "<div>\n",
       "<style scoped>\n",
       "    .dataframe tbody tr th:only-of-type {\n",
       "        vertical-align: middle;\n",
       "    }\n",
       "\n",
       "    .dataframe tbody tr th {\n",
       "        vertical-align: top;\n",
       "    }\n",
       "\n",
       "    .dataframe thead th {\n",
       "        text-align: right;\n",
       "    }\n",
       "</style>\n",
       "<table border=\"1\" class=\"dataframe\">\n",
       "  <thead>\n",
       "    <tr style=\"text-align: right;\">\n",
       "      <th></th>\n",
       "      <th>이름</th>\n",
       "      <th>국어</th>\n",
       "      <th>미술</th>\n",
       "      <th>수학</th>\n",
       "      <th>체육</th>\n",
       "    </tr>\n",
       "  </thead>\n",
       "  <tbody>\n",
       "    <tr>\n",
       "      <th>0</th>\n",
       "      <td>마징가</td>\n",
       "      <td>98</td>\n",
       "      <td>70</td>\n",
       "      <td>80</td>\n",
       "      <td>80</td>\n",
       "    </tr>\n",
       "    <tr>\n",
       "      <th>1</th>\n",
       "      <td>베트맨</td>\n",
       "      <td>79</td>\n",
       "      <td>99</td>\n",
       "      <td>87</td>\n",
       "      <td>83</td>\n",
       "    </tr>\n",
       "    <tr>\n",
       "      <th>2</th>\n",
       "      <td>홍길동</td>\n",
       "      <td>99</td>\n",
       "      <td>87</td>\n",
       "      <td>99</td>\n",
       "      <td>90</td>\n",
       "    </tr>\n",
       "    <tr>\n",
       "      <th>3</th>\n",
       "      <td>임꺽정</td>\n",
       "      <td>100</td>\n",
       "      <td>80</td>\n",
       "      <td>72</td>\n",
       "      <td>88</td>\n",
       "    </tr>\n",
       "  </tbody>\n",
       "</table>\n",
       "</div>"
      ],
      "text/plain": [
       "    이름   국어  미술  수학  체육\n",
       "0  마징가   98  70  80  80\n",
       "1  베트맨   79  99  87  83\n",
       "2  홍길동   99  87  99  90\n",
       "3  임꺽정  100  80  72  88"
      ]
     },
     "execution_count": 7,
     "metadata": {},
     "output_type": "execute_result"
    }
   ],
   "source": [
    "examDF"
   ]
  },
  {
   "cell_type": "markdown",
   "id": "2a7bd20f-03fa-46d2-a5f6-0b950fb6b020",
   "metadata": {},
   "source": [
    "- 행 데이터 추가"
   ]
  },
  {
   "cell_type": "code",
   "execution_count": 18,
   "id": "304e7bc8-14c7-4370-aee4-0f8750f2cac0",
   "metadata": {},
   "outputs": [],
   "source": [
    "# 마징가 98 50 60 77\n",
    "examDF.loc[4] = ['마징가', 98, 50, 60, 80]"
   ]
  },
  {
   "cell_type": "code",
   "execution_count": 21,
   "id": "9b8db447-d363-4625-96cb-325f5ce0418a",
   "metadata": {},
   "outputs": [],
   "source": [
    "# 마징가 98 87 77 91\n",
    "examDF.loc[5] = ['마징가', 98, 87, 87, 91]"
   ]
  },
  {
   "cell_type": "code",
   "execution_count": 22,
   "id": "64c8166d-ffcb-4a4b-b29b-1e6fbeaf1eb2",
   "metadata": {},
   "outputs": [
    {
     "data": {
      "text/html": [
       "<div>\n",
       "<style scoped>\n",
       "    .dataframe tbody tr th:only-of-type {\n",
       "        vertical-align: middle;\n",
       "    }\n",
       "\n",
       "    .dataframe tbody tr th {\n",
       "        vertical-align: top;\n",
       "    }\n",
       "\n",
       "    .dataframe thead th {\n",
       "        text-align: right;\n",
       "    }\n",
       "</style>\n",
       "<table border=\"1\" class=\"dataframe\">\n",
       "  <thead>\n",
       "    <tr style=\"text-align: right;\">\n",
       "      <th></th>\n",
       "      <th>이름</th>\n",
       "      <th>국어</th>\n",
       "      <th>미술</th>\n",
       "      <th>수학</th>\n",
       "      <th>체육</th>\n",
       "    </tr>\n",
       "  </thead>\n",
       "  <tbody>\n",
       "    <tr>\n",
       "      <th>0</th>\n",
       "      <td>마징가</td>\n",
       "      <td>98</td>\n",
       "      <td>70</td>\n",
       "      <td>80</td>\n",
       "      <td>80</td>\n",
       "    </tr>\n",
       "    <tr>\n",
       "      <th>1</th>\n",
       "      <td>베트맨</td>\n",
       "      <td>79</td>\n",
       "      <td>99</td>\n",
       "      <td>87</td>\n",
       "      <td>83</td>\n",
       "    </tr>\n",
       "    <tr>\n",
       "      <th>2</th>\n",
       "      <td>홍길동</td>\n",
       "      <td>99</td>\n",
       "      <td>87</td>\n",
       "      <td>99</td>\n",
       "      <td>90</td>\n",
       "    </tr>\n",
       "    <tr>\n",
       "      <th>3</th>\n",
       "      <td>임꺽정</td>\n",
       "      <td>100</td>\n",
       "      <td>80</td>\n",
       "      <td>72</td>\n",
       "      <td>88</td>\n",
       "    </tr>\n",
       "    <tr>\n",
       "      <th>4</th>\n",
       "      <td>마징가</td>\n",
       "      <td>98</td>\n",
       "      <td>50</td>\n",
       "      <td>60</td>\n",
       "      <td>80</td>\n",
       "    </tr>\n",
       "    <tr>\n",
       "      <th>5</th>\n",
       "      <td>마징가</td>\n",
       "      <td>98</td>\n",
       "      <td>87</td>\n",
       "      <td>87</td>\n",
       "      <td>91</td>\n",
       "    </tr>\n",
       "  </tbody>\n",
       "</table>\n",
       "</div>"
      ],
      "text/plain": [
       "    이름   국어  미술  수학  체육\n",
       "0  마징가   98  70  80  80\n",
       "1  베트맨   79  99  87  83\n",
       "2  홍길동   99  87  99  90\n",
       "3  임꺽정  100  80  72  88\n",
       "4  마징가   98  50  60  80\n",
       "5  마징가   98  87  87  91"
      ]
     },
     "execution_count": 22,
     "metadata": {},
     "output_type": "execute_result"
    }
   ],
   "source": [
    "examDF"
   ]
  },
  {
   "cell_type": "markdown",
   "id": "93bbb6c5-9932-494a-9b0c-94645948c15d",
   "metadata": {},
   "source": [
    "(5) 새로운 인덱스 설정 - 방법 1 : 인덱스 일부 변경 DF.rename()"
   ]
  },
  {
   "cell_type": "code",
   "execution_count": 46,
   "id": "94f8bf3b-64c7-4251-8688-247443116d1b",
   "metadata": {},
   "outputs": [
    {
     "data": {
      "text/html": [
       "<div>\n",
       "<style scoped>\n",
       "    .dataframe tbody tr th:only-of-type {\n",
       "        vertical-align: middle;\n",
       "    }\n",
       "\n",
       "    .dataframe tbody tr th {\n",
       "        vertical-align: top;\n",
       "    }\n",
       "\n",
       "    .dataframe thead th {\n",
       "        text-align: right;\n",
       "    }\n",
       "</style>\n",
       "<table border=\"1\" class=\"dataframe\">\n",
       "  <thead>\n",
       "    <tr style=\"text-align: right;\">\n",
       "      <th></th>\n",
       "      <th>이름</th>\n",
       "      <th>국어</th>\n",
       "      <th>미술</th>\n",
       "      <th>수학</th>\n",
       "      <th>체육</th>\n",
       "    </tr>\n",
       "  </thead>\n",
       "  <tbody>\n",
       "    <tr>\n",
       "      <th>zero</th>\n",
       "      <td>마징가</td>\n",
       "      <td>98</td>\n",
       "      <td>70</td>\n",
       "      <td>80</td>\n",
       "      <td>72</td>\n",
       "    </tr>\n",
       "    <tr>\n",
       "      <th>1</th>\n",
       "      <td>베트맨</td>\n",
       "      <td>79</td>\n",
       "      <td>99</td>\n",
       "      <td>87</td>\n",
       "      <td>83</td>\n",
       "    </tr>\n",
       "    <tr>\n",
       "      <th>2</th>\n",
       "      <td>홍길동</td>\n",
       "      <td>99</td>\n",
       "      <td>87</td>\n",
       "      <td>99</td>\n",
       "      <td>90</td>\n",
       "    </tr>\n",
       "    <tr>\n",
       "      <th>3</th>\n",
       "      <td>임꺽정</td>\n",
       "      <td>100</td>\n",
       "      <td>80</td>\n",
       "      <td>72</td>\n",
       "      <td>88</td>\n",
       "    </tr>\n",
       "  </tbody>\n",
       "</table>\n",
       "</div>"
      ],
      "text/plain": [
       "       이름   국어  미술  수학  체육\n",
       "zero  마징가   98  70  80  72\n",
       "1     베트맨   79  99  87  83\n",
       "2     홍길동   99  87  99  90\n",
       "3     임꺽정  100  80  72  88"
      ]
     },
     "execution_count": 46,
     "metadata": {},
     "output_type": "execute_result"
    }
   ],
   "source": [
    "# 행 인덱스 일부 변경 => {기존인덱스:새로운인덱스}\n",
    "# inplace 매개변수/파라미터 => 원본 DataFrame에 변경 여부 결정, 기본은 원본 변경 안함 False!!\n",
    "examDF.rename(index={0:'zero'}, inplace=True)\n",
    "examDF"
   ]
  },
  {
   "cell_type": "code",
   "execution_count": 47,
   "id": "1236ec5f-3d8e-4007-a1de-cff813eece8f",
   "metadata": {},
   "outputs": [],
   "source": [
    "# 열 이름 인덱스 일부 변경 => column = {기존인덱스:새로운인덱스}\n",
    "examDF.rename(columns = {'체육':'음악'}, inplace=True)"
   ]
  },
  {
   "cell_type": "code",
   "execution_count": 48,
   "id": "0b368408-d5c3-4a70-8fe6-a221476214b6",
   "metadata": {},
   "outputs": [
    {
     "data": {
      "text/html": [
       "<div>\n",
       "<style scoped>\n",
       "    .dataframe tbody tr th:only-of-type {\n",
       "        vertical-align: middle;\n",
       "    }\n",
       "\n",
       "    .dataframe tbody tr th {\n",
       "        vertical-align: top;\n",
       "    }\n",
       "\n",
       "    .dataframe thead th {\n",
       "        text-align: right;\n",
       "    }\n",
       "</style>\n",
       "<table border=\"1\" class=\"dataframe\">\n",
       "  <thead>\n",
       "    <tr style=\"text-align: right;\">\n",
       "      <th></th>\n",
       "      <th>이름</th>\n",
       "      <th>국어</th>\n",
       "      <th>미술</th>\n",
       "      <th>수학</th>\n",
       "      <th>음악</th>\n",
       "    </tr>\n",
       "  </thead>\n",
       "  <tbody>\n",
       "    <tr>\n",
       "      <th>zero</th>\n",
       "      <td>마징가</td>\n",
       "      <td>98</td>\n",
       "      <td>70</td>\n",
       "      <td>80</td>\n",
       "      <td>72</td>\n",
       "    </tr>\n",
       "    <tr>\n",
       "      <th>1</th>\n",
       "      <td>베트맨</td>\n",
       "      <td>79</td>\n",
       "      <td>99</td>\n",
       "      <td>87</td>\n",
       "      <td>83</td>\n",
       "    </tr>\n",
       "    <tr>\n",
       "      <th>2</th>\n",
       "      <td>홍길동</td>\n",
       "      <td>99</td>\n",
       "      <td>87</td>\n",
       "      <td>99</td>\n",
       "      <td>90</td>\n",
       "    </tr>\n",
       "    <tr>\n",
       "      <th>3</th>\n",
       "      <td>임꺽정</td>\n",
       "      <td>100</td>\n",
       "      <td>80</td>\n",
       "      <td>72</td>\n",
       "      <td>88</td>\n",
       "    </tr>\n",
       "  </tbody>\n",
       "</table>\n",
       "</div>"
      ],
      "text/plain": [
       "       이름   국어  미술  수학  음악\n",
       "zero  마징가   98  70  80  72\n",
       "1     베트맨   79  99  87  83\n",
       "2     홍길동   99  87  99  90\n",
       "3     임꺽정  100  80  72  88"
      ]
     },
     "execution_count": 48,
     "metadata": {},
     "output_type": "execute_result"
    }
   ],
   "source": [
    "examDF"
   ]
  },
  {
   "cell_type": "markdown",
   "id": "33471ba0-a887-4b48-a082-558bd2542919",
   "metadata": {},
   "source": [
    "- (5) 새로운 인덱스 설정 - 방법 2 : 특정 컬럼 => 인덱스 : DF.set_index()"
   ]
  },
  {
   "cell_type": "code",
   "execution_count": 49,
   "id": "0a89893b-960e-4b7b-bca8-b69ca198776a",
   "metadata": {},
   "outputs": [
    {
     "data": {
      "text/plain": [
       "Index(['zero', 1, 2, 3], dtype='object')"
      ]
     },
     "execution_count": 49,
     "metadata": {},
     "output_type": "execute_result"
    }
   ],
   "source": [
    "# 현재 기본 0 ~ ==> 이름 컬럼 인덱스로 설정\n",
    "examDF.index"
   ]
  },
  {
   "cell_type": "code",
   "execution_count": 50,
   "id": "37b072ae-deab-42e7-b09e-a1bc16d594c1",
   "metadata": {},
   "outputs": [
    {
     "name": "stdout",
     "output_type": "stream",
     "text": [
      "      국어  미술  수학  음악\n",
      "이름                  \n",
      "마징가   98  70  80  72\n",
      "베트맨   79  99  87  83\n",
      "홍길동   99  87  99  90\n",
      "임꺽정  100  80  72  88\n"
     ]
    }
   ],
   "source": [
    "# 1개 컬럼을 인덱스로 설정 단, inplace 파라미터가 False로 원본 적용 안됨!\n",
    "examDF2 = examDF.set_index('이름')\n",
    "print(examDF2)"
   ]
  },
  {
   "cell_type": "code",
   "execution_count": 51,
   "id": "e2e9321e-f5aa-420e-91dc-e1f6b657f349",
   "metadata": {},
   "outputs": [
    {
     "data": {
      "text/plain": [
       "Index(['마징가', '베트맨', '홍길동', '임꺽정'], dtype='object', name='이름')"
      ]
     },
     "execution_count": 51,
     "metadata": {},
     "output_type": "execute_result"
    }
   ],
   "source": [
    "examDF2.index"
   ]
  },
  {
   "cell_type": "code",
   "execution_count": 52,
   "id": "47c611af-4f04-4fc7-ad18-415bf6838131",
   "metadata": {},
   "outputs": [
    {
     "data": {
      "text/html": [
       "<div>\n",
       "<style scoped>\n",
       "    .dataframe tbody tr th:only-of-type {\n",
       "        vertical-align: middle;\n",
       "    }\n",
       "\n",
       "    .dataframe tbody tr th {\n",
       "        vertical-align: top;\n",
       "    }\n",
       "\n",
       "    .dataframe thead th {\n",
       "        text-align: right;\n",
       "    }\n",
       "</style>\n",
       "<table border=\"1\" class=\"dataframe\">\n",
       "  <thead>\n",
       "    <tr style=\"text-align: right;\">\n",
       "      <th></th>\n",
       "      <th>이름</th>\n",
       "      <th>국어</th>\n",
       "      <th>미술</th>\n",
       "      <th>수학</th>\n",
       "      <th>음악</th>\n",
       "    </tr>\n",
       "  </thead>\n",
       "  <tbody>\n",
       "    <tr>\n",
       "      <th>zero</th>\n",
       "      <td>마징가</td>\n",
       "      <td>98</td>\n",
       "      <td>70</td>\n",
       "      <td>80</td>\n",
       "      <td>72</td>\n",
       "    </tr>\n",
       "    <tr>\n",
       "      <th>1</th>\n",
       "      <td>베트맨</td>\n",
       "      <td>79</td>\n",
       "      <td>99</td>\n",
       "      <td>87</td>\n",
       "      <td>83</td>\n",
       "    </tr>\n",
       "    <tr>\n",
       "      <th>2</th>\n",
       "      <td>홍길동</td>\n",
       "      <td>99</td>\n",
       "      <td>87</td>\n",
       "      <td>99</td>\n",
       "      <td>90</td>\n",
       "    </tr>\n",
       "    <tr>\n",
       "      <th>3</th>\n",
       "      <td>임꺽정</td>\n",
       "      <td>100</td>\n",
       "      <td>80</td>\n",
       "      <td>72</td>\n",
       "      <td>88</td>\n",
       "    </tr>\n",
       "  </tbody>\n",
       "</table>\n",
       "</div>"
      ],
      "text/plain": [
       "       이름   국어  미술  수학  음악\n",
       "zero  마징가   98  70  80  72\n",
       "1     베트맨   79  99  87  83\n",
       "2     홍길동   99  87  99  90\n",
       "3     임꺽정  100  80  72  88"
      ]
     },
     "execution_count": 52,
     "metadata": {},
     "output_type": "execute_result"
    }
   ],
   "source": [
    "examDF"
   ]
  },
  {
   "cell_type": "code",
   "execution_count": 53,
   "id": "3b1aca29-ed00-4875-814c-48be4f9f88bb",
   "metadata": {},
   "outputs": [
    {
     "name": "stdout",
     "output_type": "stream",
     "text": [
      "            미술  음악\n",
      "이름  국어  수학        \n",
      "마징가 98  80  70  72\n",
      "베트맨 79  87  99  83\n",
      "홍길동 99  99  87  90\n",
      "임꺽정 100 72  80  88\n"
     ]
    }
   ],
   "source": [
    "# 2개의 컬름을 행 인덱스 설정 단, inplace 파라미터가 False로 원본 적용 안됨!\n",
    "examDF.set_index(['이름', '국어'])\n",
    "examDF3 = examDF.set_index(['이름', '국어', '수학'])\n",
    "print(examDF3)"
   ]
  },
  {
   "cell_type": "code",
   "execution_count": 54,
   "id": "89b7e801-624c-4cdb-97b1-24322d05b8c3",
   "metadata": {},
   "outputs": [
    {
     "data": {
      "text/plain": [
       "미술    70\n",
       "음악    72\n",
       "Name: (마징가, 98, 80), dtype: int64"
      ]
     },
     "execution_count": 54,
     "metadata": {},
     "output_type": "execute_result"
    }
   ],
   "source": [
    "examDF3.loc[('마징가', 98, 80)]"
   ]
  },
  {
   "cell_type": "code",
   "execution_count": 55,
   "id": "ee4384ff-60d7-4cd2-a615-56c15cba00b1",
   "metadata": {},
   "outputs": [
    {
     "data": {
      "text/html": [
       "<div>\n",
       "<style scoped>\n",
       "    .dataframe tbody tr th:only-of-type {\n",
       "        vertical-align: middle;\n",
       "    }\n",
       "\n",
       "    .dataframe tbody tr th {\n",
       "        vertical-align: top;\n",
       "    }\n",
       "\n",
       "    .dataframe thead th {\n",
       "        text-align: right;\n",
       "    }\n",
       "</style>\n",
       "<table border=\"1\" class=\"dataframe\">\n",
       "  <thead>\n",
       "    <tr style=\"text-align: right;\">\n",
       "      <th></th>\n",
       "      <th></th>\n",
       "      <th>미술</th>\n",
       "      <th>음악</th>\n",
       "    </tr>\n",
       "    <tr>\n",
       "      <th>국어</th>\n",
       "      <th>수학</th>\n",
       "      <th></th>\n",
       "      <th></th>\n",
       "    </tr>\n",
       "  </thead>\n",
       "  <tbody>\n",
       "    <tr>\n",
       "      <th>98</th>\n",
       "      <th>80</th>\n",
       "      <td>70</td>\n",
       "      <td>72</td>\n",
       "    </tr>\n",
       "  </tbody>\n",
       "</table>\n",
       "</div>"
      ],
      "text/plain": [
       "       미술  음악\n",
       "국어 수학        \n",
       "98 80  70  72"
      ]
     },
     "execution_count": 55,
     "metadata": {},
     "output_type": "execute_result"
    }
   ],
   "source": [
    "examDF3.loc['마징가']"
   ]
  },
  {
   "cell_type": "code",
   "execution_count": 56,
   "id": "c73f4ef5-9350-49ca-bb73-7ac0f93cc3a8",
   "metadata": {},
   "outputs": [],
   "source": [
    "# KeyError => '마징가,' 98, 98 형식에서 98로 시작하는 key 없음\n",
    "# examDF3.loc[(98, n98)]"
   ]
  },
  {
   "cell_type": "markdown",
   "id": "9daad471-bb1b-4bb4-a2a6-4c2f588f9c63",
   "metadata": {},
   "source": [
    "- (5) 새로운 인덱스 설정 - 방법 3 : 멀티인덱스 제어 DataFrame.set_index([컬럼1, 컬럼2, ..., 컬럼n])"
   ]
  },
  {
   "cell_type": "code",
   "execution_count": 25,
   "id": "9e6c7ecb-12a7-4637-bfac-7e4f18c2eaef",
   "metadata": {},
   "outputs": [
    {
     "data": {
      "text/html": [
       "<div>\n",
       "<style scoped>\n",
       "    .dataframe tbody tr th:only-of-type {\n",
       "        vertical-align: middle;\n",
       "    }\n",
       "\n",
       "    .dataframe tbody tr th {\n",
       "        vertical-align: top;\n",
       "    }\n",
       "\n",
       "    .dataframe thead th {\n",
       "        text-align: right;\n",
       "    }\n",
       "</style>\n",
       "<table border=\"1\" class=\"dataframe\">\n",
       "  <thead>\n",
       "    <tr style=\"text-align: right;\">\n",
       "      <th></th>\n",
       "      <th></th>\n",
       "      <th></th>\n",
       "      <th>미술</th>\n",
       "      <th>체육</th>\n",
       "    </tr>\n",
       "    <tr>\n",
       "      <th>이름</th>\n",
       "      <th>국어</th>\n",
       "      <th>수학</th>\n",
       "      <th></th>\n",
       "      <th></th>\n",
       "    </tr>\n",
       "  </thead>\n",
       "  <tbody>\n",
       "    <tr>\n",
       "      <th>마징가</th>\n",
       "      <th>98</th>\n",
       "      <th>80</th>\n",
       "      <td>70</td>\n",
       "      <td>80</td>\n",
       "    </tr>\n",
       "    <tr>\n",
       "      <th>베트맨</th>\n",
       "      <th>79</th>\n",
       "      <th>87</th>\n",
       "      <td>99</td>\n",
       "      <td>83</td>\n",
       "    </tr>\n",
       "    <tr>\n",
       "      <th>홍길동</th>\n",
       "      <th>99</th>\n",
       "      <th>99</th>\n",
       "      <td>87</td>\n",
       "      <td>90</td>\n",
       "    </tr>\n",
       "    <tr>\n",
       "      <th>임꺽정</th>\n",
       "      <th>100</th>\n",
       "      <th>72</th>\n",
       "      <td>80</td>\n",
       "      <td>88</td>\n",
       "    </tr>\n",
       "    <tr>\n",
       "      <th rowspan=\"2\" valign=\"top\">마징가</th>\n",
       "      <th rowspan=\"2\" valign=\"top\">98</th>\n",
       "      <th>60</th>\n",
       "      <td>50</td>\n",
       "      <td>80</td>\n",
       "    </tr>\n",
       "    <tr>\n",
       "      <th>87</th>\n",
       "      <td>87</td>\n",
       "      <td>91</td>\n",
       "    </tr>\n",
       "  </tbody>\n",
       "</table>\n",
       "</div>"
      ],
      "text/plain": [
       "            미술  체육\n",
       "이름  국어  수학        \n",
       "마징가 98  80  70  80\n",
       "베트맨 79  87  99  83\n",
       "홍길동 99  99  87  90\n",
       "임꺽정 100 72  80  88\n",
       "마징가 98  60  50  80\n",
       "        87  87  91"
      ]
     },
     "execution_count": 25,
     "metadata": {},
     "output_type": "execute_result"
    }
   ],
   "source": [
    "# 이름, 국어, 수학을 인덱스 설정\n",
    "examDF1 = examDF.set_index(['이름', '국어', '수학'])\n",
    "examDF.set_index(['이름', '국어', '수학'])"
   ]
  },
  {
   "cell_type": "code",
   "execution_count": 26,
   "id": "364f3d76-a8b2-4c82-8c23-0d616275a537",
   "metadata": {},
   "outputs": [
    {
     "data": {
      "text/plain": [
       "MultiIndex([('마징가',  98, 80),\n",
       "            ('베트맨',  79, 87),\n",
       "            ('홍길동',  99, 99),\n",
       "            ('임꺽정', 100, 72),\n",
       "            ('마징가',  98, 60),\n",
       "            ('마징가',  98, 87)],\n",
       "           names=['이름', '국어', '수학'])"
      ]
     },
     "execution_count": 26,
     "metadata": {},
     "output_type": "execute_result"
    }
   ],
   "source": [
    "# 인덱스 속성 확인\n",
    "examDF1.index"
   ]
  },
  {
   "cell_type": "markdown",
   "id": "80bfef77-b120-4bf9-b7c5-f09c2a1a8e0d",
   "metadata": {},
   "source": [
    "- 행 데이터 선택 : DF객체변수명.loc[행레이블] / DF객체변수명.iloc[위치인덱스]"
   ]
  },
  {
   "cell_type": "code",
   "execution_count": 28,
   "id": "f9956d0e-b463-45bf-8997-7076a574f551",
   "metadata": {},
   "outputs": [
    {
     "data": {
      "text/plain": [
       "미술    70\n",
       "체육    80\n",
       "Name: (마징가, 98, 80), dtype: int64"
      ]
     },
     "execution_count": 28,
     "metadata": {},
     "output_type": "execute_result"
    }
   ],
   "source": [
    "examDF1.loc[('마징가', 98, 80)]"
   ]
  },
  {
   "cell_type": "code",
   "execution_count": 30,
   "id": "669422f7-6c10-46d2-af0e-aa7ea3b695b3",
   "metadata": {},
   "outputs": [
    {
     "data": {
      "text/plain": [
       "미술    50\n",
       "체육    80\n",
       "Name: (마징가, 98, 60), dtype: int64"
      ]
     },
     "execution_count": 30,
     "metadata": {},
     "output_type": "execute_result"
    }
   ],
   "source": [
    "examDF1.loc[('마징가', 98, 60)]"
   ]
  },
  {
   "cell_type": "code",
   "execution_count": 31,
   "id": "2aa9d28b-198c-4ee8-bd39-9772b916f38f",
   "metadata": {},
   "outputs": [
    {
     "data": {
      "text/plain": [
       "미술    87\n",
       "체육    91\n",
       "Name: (마징가, 98, 87), dtype: int64"
      ]
     },
     "execution_count": 31,
     "metadata": {},
     "output_type": "execute_result"
    }
   ],
   "source": [
    "examDF1.loc[('마징가', 98, 87)]"
   ]
  },
  {
   "cell_type": "code",
   "execution_count": 33,
   "id": "5e90c7fe-0560-471d-a204-4fbe2c4e6e0f",
   "metadata": {},
   "outputs": [],
   "source": [
    "# KeyError 발생\n",
    "# examDF1.loc[(98)]"
   ]
  },
  {
   "cell_type": "markdown",
   "id": "bbb595b3-5c48-4378-9cc2-5021470a56ef",
   "metadata": {},
   "source": [
    "- 멀티인덱스의 인덱스의 일부분을 기준으로 행 선택 : xs()\n",
    "      * 예) '마징가' 98 77 => level 0, 1, 2"
   ]
  },
  {
   "cell_type": "code",
   "execution_count": 35,
   "id": "6d88f939-6209-4ecb-b5f4-85aefcbfaedc",
   "metadata": {},
   "outputs": [
    {
     "data": {
      "text/html": [
       "<div>\n",
       "<style scoped>\n",
       "    .dataframe tbody tr th:only-of-type {\n",
       "        vertical-align: middle;\n",
       "    }\n",
       "\n",
       "    .dataframe tbody tr th {\n",
       "        vertical-align: top;\n",
       "    }\n",
       "\n",
       "    .dataframe thead th {\n",
       "        text-align: right;\n",
       "    }\n",
       "</style>\n",
       "<table border=\"1\" class=\"dataframe\">\n",
       "  <thead>\n",
       "    <tr style=\"text-align: right;\">\n",
       "      <th></th>\n",
       "      <th></th>\n",
       "      <th>미술</th>\n",
       "      <th>체육</th>\n",
       "    </tr>\n",
       "    <tr>\n",
       "      <th>국어</th>\n",
       "      <th>수학</th>\n",
       "      <th></th>\n",
       "      <th></th>\n",
       "    </tr>\n",
       "  </thead>\n",
       "  <tbody>\n",
       "    <tr>\n",
       "      <th rowspan=\"3\" valign=\"top\">98</th>\n",
       "      <th>80</th>\n",
       "      <td>70</td>\n",
       "      <td>80</td>\n",
       "    </tr>\n",
       "    <tr>\n",
       "      <th>60</th>\n",
       "      <td>50</td>\n",
       "      <td>80</td>\n",
       "    </tr>\n",
       "    <tr>\n",
       "      <th>87</th>\n",
       "      <td>87</td>\n",
       "      <td>91</td>\n",
       "    </tr>\n",
       "  </tbody>\n",
       "</table>\n",
       "</div>"
      ],
      "text/plain": [
       "       미술  체육\n",
       "국어 수학        \n",
       "98 80  70  80\n",
       "   60  50  80\n",
       "   87  87  91"
      ]
     },
     "execution_count": 35,
     "metadata": {},
     "output_type": "execute_result"
    }
   ],
   "source": [
    "examDF1.xs('마징가', level=0)"
   ]
  },
  {
   "cell_type": "code",
   "execution_count": 36,
   "id": "0930a6fc-67ba-48d0-8863-91462a14e7a1",
   "metadata": {},
   "outputs": [
    {
     "data": {
      "text/html": [
       "<div>\n",
       "<style scoped>\n",
       "    .dataframe tbody tr th:only-of-type {\n",
       "        vertical-align: middle;\n",
       "    }\n",
       "\n",
       "    .dataframe tbody tr th {\n",
       "        vertical-align: top;\n",
       "    }\n",
       "\n",
       "    .dataframe thead th {\n",
       "        text-align: right;\n",
       "    }\n",
       "</style>\n",
       "<table border=\"1\" class=\"dataframe\">\n",
       "  <thead>\n",
       "    <tr style=\"text-align: right;\">\n",
       "      <th></th>\n",
       "      <th></th>\n",
       "      <th>미술</th>\n",
       "      <th>체육</th>\n",
       "    </tr>\n",
       "    <tr>\n",
       "      <th>이름</th>\n",
       "      <th>수학</th>\n",
       "      <th></th>\n",
       "      <th></th>\n",
       "    </tr>\n",
       "  </thead>\n",
       "  <tbody>\n",
       "    <tr>\n",
       "      <th rowspan=\"3\" valign=\"top\">마징가</th>\n",
       "      <th>80</th>\n",
       "      <td>70</td>\n",
       "      <td>80</td>\n",
       "    </tr>\n",
       "    <tr>\n",
       "      <th>60</th>\n",
       "      <td>50</td>\n",
       "      <td>80</td>\n",
       "    </tr>\n",
       "    <tr>\n",
       "      <th>87</th>\n",
       "      <td>87</td>\n",
       "      <td>91</td>\n",
       "    </tr>\n",
       "  </tbody>\n",
       "</table>\n",
       "</div>"
      ],
      "text/plain": [
       "        미술  체육\n",
       "이름  수학        \n",
       "마징가 80  70  80\n",
       "    60  50  80\n",
       "    87  87  91"
      ]
     },
     "execution_count": 36,
     "metadata": {},
     "output_type": "execute_result"
    }
   ],
   "source": [
    "examDF1.xs(98, level=1)"
   ]
  },
  {
   "cell_type": "code",
   "execution_count": 37,
   "id": "cbb89f3f-23ba-4aca-b891-162ccd1ed609",
   "metadata": {},
   "outputs": [
    {
     "data": {
      "text/html": [
       "<div>\n",
       "<style scoped>\n",
       "    .dataframe tbody tr th:only-of-type {\n",
       "        vertical-align: middle;\n",
       "    }\n",
       "\n",
       "    .dataframe tbody tr th {\n",
       "        vertical-align: top;\n",
       "    }\n",
       "\n",
       "    .dataframe thead th {\n",
       "        text-align: right;\n",
       "    }\n",
       "</style>\n",
       "<table border=\"1\" class=\"dataframe\">\n",
       "  <thead>\n",
       "    <tr style=\"text-align: right;\">\n",
       "      <th></th>\n",
       "      <th></th>\n",
       "      <th>미술</th>\n",
       "      <th>체육</th>\n",
       "    </tr>\n",
       "    <tr>\n",
       "      <th>이름</th>\n",
       "      <th>국어</th>\n",
       "      <th></th>\n",
       "      <th></th>\n",
       "    </tr>\n",
       "  </thead>\n",
       "  <tbody>\n",
       "    <tr>\n",
       "      <th>마징가</th>\n",
       "      <th>98</th>\n",
       "      <td>70</td>\n",
       "      <td>80</td>\n",
       "    </tr>\n",
       "  </tbody>\n",
       "</table>\n",
       "</div>"
      ],
      "text/plain": [
       "        미술  체육\n",
       "이름  국어        \n",
       "마징가 98  70  80"
      ]
     },
     "execution_count": 37,
     "metadata": {},
     "output_type": "execute_result"
    }
   ],
   "source": [
    "examDF1.xs(80, level=2)"
   ]
  },
  {
   "cell_type": "markdown",
   "id": "fb249e15-36cb-458a-915d-b57ffc690f2f",
   "metadata": {},
   "source": [
    "- ('마징가', 98, 80), ('임꺽정', 100, 72) 2개 행을 한꺼번에 가져오기"
   ]
  },
  {
   "cell_type": "code",
   "execution_count": 42,
   "id": "41399fc0-bcdd-4b2a-8146-9834344329d7",
   "metadata": {},
   "outputs": [
    {
     "data": {
      "text/html": [
       "<div>\n",
       "<style scoped>\n",
       "    .dataframe tbody tr th:only-of-type {\n",
       "        vertical-align: middle;\n",
       "    }\n",
       "\n",
       "    .dataframe tbody tr th {\n",
       "        vertical-align: top;\n",
       "    }\n",
       "\n",
       "    .dataframe thead th {\n",
       "        text-align: right;\n",
       "    }\n",
       "</style>\n",
       "<table border=\"1\" class=\"dataframe\">\n",
       "  <thead>\n",
       "    <tr style=\"text-align: right;\">\n",
       "      <th></th>\n",
       "      <th></th>\n",
       "      <th></th>\n",
       "      <th>미술</th>\n",
       "      <th>체육</th>\n",
       "    </tr>\n",
       "    <tr>\n",
       "      <th>이름</th>\n",
       "      <th>국어</th>\n",
       "      <th>수학</th>\n",
       "      <th></th>\n",
       "      <th></th>\n",
       "    </tr>\n",
       "  </thead>\n",
       "  <tbody>\n",
       "    <tr>\n",
       "      <th>마징가</th>\n",
       "      <th>98</th>\n",
       "      <th>80</th>\n",
       "      <td>70</td>\n",
       "      <td>80</td>\n",
       "    </tr>\n",
       "    <tr>\n",
       "      <th>임꺽정</th>\n",
       "      <th>100</th>\n",
       "      <th>72</th>\n",
       "      <td>80</td>\n",
       "      <td>88</td>\n",
       "    </tr>\n",
       "  </tbody>\n",
       "</table>\n",
       "</div>"
      ],
      "text/plain": [
       "            미술  체육\n",
       "이름  국어  수학        \n",
       "마징가 98  80  70  80\n",
       "임꺽정 100 72  80  88"
      ]
     },
     "execution_count": 42,
     "metadata": {},
     "output_type": "execute_result"
    }
   ],
   "source": [
    "examDF1.loc[(['마징가','임꺽정'], [98, 100], [80, 72])]\n",
    "# ?"
   ]
  },
  {
   "cell_type": "code",
   "execution_count": 40,
   "id": "48897ed3-8b82-4242-96ea-3882e80b4fbb",
   "metadata": {},
   "outputs": [
    {
     "data": {
      "text/html": [
       "<div>\n",
       "<style scoped>\n",
       "    .dataframe tbody tr th:only-of-type {\n",
       "        vertical-align: middle;\n",
       "    }\n",
       "\n",
       "    .dataframe tbody tr th {\n",
       "        vertical-align: top;\n",
       "    }\n",
       "\n",
       "    .dataframe thead th {\n",
       "        text-align: right;\n",
       "    }\n",
       "</style>\n",
       "<table border=\"1\" class=\"dataframe\">\n",
       "  <thead>\n",
       "    <tr style=\"text-align: right;\">\n",
       "      <th></th>\n",
       "      <th></th>\n",
       "      <th></th>\n",
       "      <th>미술</th>\n",
       "      <th>체육</th>\n",
       "    </tr>\n",
       "    <tr>\n",
       "      <th>이름</th>\n",
       "      <th>국어</th>\n",
       "      <th>수학</th>\n",
       "      <th></th>\n",
       "      <th></th>\n",
       "    </tr>\n",
       "  </thead>\n",
       "  <tbody>\n",
       "    <tr>\n",
       "      <th>마징가</th>\n",
       "      <th>98</th>\n",
       "      <th>80</th>\n",
       "      <td>70</td>\n",
       "      <td>80</td>\n",
       "    </tr>\n",
       "    <tr>\n",
       "      <th>임꺽정</th>\n",
       "      <th>100</th>\n",
       "      <th>72</th>\n",
       "      <td>80</td>\n",
       "      <td>88</td>\n",
       "    </tr>\n",
       "  </tbody>\n",
       "</table>\n",
       "</div>"
      ],
      "text/plain": [
       "            미술  체육\n",
       "이름  국어  수학        \n",
       "마징가 98  80  70  80\n",
       "임꺽정 100 72  80  88"
      ]
     },
     "execution_count": 40,
     "metadata": {},
     "output_type": "execute_result"
    }
   ],
   "source": [
    "examDF1.loc[ [('마징가', 98, 80), ('임꺽정', 100, 72)] ]"
   ]
  },
  {
   "cell_type": "markdown",
   "id": "043b067e-98b7-4cd2-a5fb-5d15adb9669c",
   "metadata": {},
   "source": [
    "- (5) 인덱스 재배치 : 행/열 인덱스를 원하는 순서대로 재배치 + 존재하지 않는 행/열 추가\n",
    "    * DF.reindex()"
   ]
  },
  {
   "cell_type": "code",
   "execution_count": 43,
   "id": "10cbe3db-ebc5-46ad-97c5-427d8ceb09d9",
   "metadata": {},
   "outputs": [
    {
     "name": "stdout",
     "output_type": "stream",
     "text": [
      "Int64Index([0, 1, 2, 3, 4, 5], dtype='int64')\n",
      "\n",
      "Index(['이름', '국어', '미술', '수학', '체육'], dtype='object')\n"
     ]
    }
   ],
   "source": [
    "print( examDF.index, examDF.columns, sep='\\n\\n' )"
   ]
  },
  {
   "cell_type": "markdown",
   "id": "761fc106-c156-48be-a566-c253a14cc7ba",
   "metadata": {},
   "source": [
    "- 컬럼명 순서 변경 ==> '체육', '미술', '국어', '수학'"
   ]
  },
  {
   "cell_type": "code",
   "execution_count": 49,
   "id": "83234ff9-daa3-4f34-94d1-1ed3dc22282b",
   "metadata": {},
   "outputs": [
    {
     "data": {
      "text/html": [
       "<div>\n",
       "<style scoped>\n",
       "    .dataframe tbody tr th:only-of-type {\n",
       "        vertical-align: middle;\n",
       "    }\n",
       "\n",
       "    .dataframe tbody tr th {\n",
       "        vertical-align: top;\n",
       "    }\n",
       "\n",
       "    .dataframe thead th {\n",
       "        text-align: right;\n",
       "    }\n",
       "</style>\n",
       "<table border=\"1\" class=\"dataframe\">\n",
       "  <thead>\n",
       "    <tr style=\"text-align: right;\">\n",
       "      <th></th>\n",
       "      <th>체육</th>\n",
       "      <th>미술</th>\n",
       "      <th>국어</th>\n",
       "      <th>수학</th>\n",
       "      <th>총합</th>\n",
       "    </tr>\n",
       "  </thead>\n",
       "  <tbody>\n",
       "    <tr>\n",
       "      <th>0</th>\n",
       "      <td>80</td>\n",
       "      <td>70</td>\n",
       "      <td>98</td>\n",
       "      <td>80</td>\n",
       "      <td>0</td>\n",
       "    </tr>\n",
       "    <tr>\n",
       "      <th>1</th>\n",
       "      <td>83</td>\n",
       "      <td>99</td>\n",
       "      <td>79</td>\n",
       "      <td>87</td>\n",
       "      <td>0</td>\n",
       "    </tr>\n",
       "    <tr>\n",
       "      <th>2</th>\n",
       "      <td>90</td>\n",
       "      <td>87</td>\n",
       "      <td>99</td>\n",
       "      <td>99</td>\n",
       "      <td>0</td>\n",
       "    </tr>\n",
       "    <tr>\n",
       "      <th>3</th>\n",
       "      <td>88</td>\n",
       "      <td>80</td>\n",
       "      <td>100</td>\n",
       "      <td>72</td>\n",
       "      <td>0</td>\n",
       "    </tr>\n",
       "    <tr>\n",
       "      <th>4</th>\n",
       "      <td>80</td>\n",
       "      <td>50</td>\n",
       "      <td>98</td>\n",
       "      <td>60</td>\n",
       "      <td>0</td>\n",
       "    </tr>\n",
       "    <tr>\n",
       "      <th>5</th>\n",
       "      <td>91</td>\n",
       "      <td>87</td>\n",
       "      <td>98</td>\n",
       "      <td>87</td>\n",
       "      <td>0</td>\n",
       "    </tr>\n",
       "  </tbody>\n",
       "</table>\n",
       "</div>"
      ],
      "text/plain": [
       "   체육  미술   국어  수학  총합\n",
       "0  80  70   98  80   0\n",
       "1  83  99   79  87   0\n",
       "2  90  87   99  99   0\n",
       "3  88  80  100  72   0\n",
       "4  80  50   98  60   0\n",
       "5  91  87   98  87   0"
      ]
     },
     "execution_count": 49,
     "metadata": {},
     "output_type": "execute_result"
    }
   ],
   "source": [
    "examDF.reindex(['체육', '미술', '국어', '수학', '총합'], axis='columns', fill_value=0)"
   ]
  },
  {
   "cell_type": "code",
   "execution_count": 48,
   "id": "47d28c80-8189-4c18-9049-80c8a463647b",
   "metadata": {},
   "outputs": [
    {
     "data": {
      "text/html": [
       "<div>\n",
       "<style scoped>\n",
       "    .dataframe tbody tr th:only-of-type {\n",
       "        vertical-align: middle;\n",
       "    }\n",
       "\n",
       "    .dataframe tbody tr th {\n",
       "        vertical-align: top;\n",
       "    }\n",
       "\n",
       "    .dataframe thead th {\n",
       "        text-align: right;\n",
       "    }\n",
       "</style>\n",
       "<table border=\"1\" class=\"dataframe\">\n",
       "  <thead>\n",
       "    <tr style=\"text-align: right;\">\n",
       "      <th></th>\n",
       "      <th>이름</th>\n",
       "      <th>국어</th>\n",
       "      <th>미술</th>\n",
       "      <th>수학</th>\n",
       "      <th>체육</th>\n",
       "    </tr>\n",
       "  </thead>\n",
       "  <tbody>\n",
       "    <tr>\n",
       "      <th>0</th>\n",
       "      <td>마징가</td>\n",
       "      <td>98</td>\n",
       "      <td>70</td>\n",
       "      <td>80</td>\n",
       "      <td>80</td>\n",
       "    </tr>\n",
       "    <tr>\n",
       "      <th>1</th>\n",
       "      <td>베트맨</td>\n",
       "      <td>79</td>\n",
       "      <td>99</td>\n",
       "      <td>87</td>\n",
       "      <td>83</td>\n",
       "    </tr>\n",
       "    <tr>\n",
       "      <th>2</th>\n",
       "      <td>홍길동</td>\n",
       "      <td>99</td>\n",
       "      <td>87</td>\n",
       "      <td>99</td>\n",
       "      <td>90</td>\n",
       "    </tr>\n",
       "    <tr>\n",
       "      <th>3</th>\n",
       "      <td>임꺽정</td>\n",
       "      <td>100</td>\n",
       "      <td>80</td>\n",
       "      <td>72</td>\n",
       "      <td>88</td>\n",
       "    </tr>\n",
       "    <tr>\n",
       "      <th>4</th>\n",
       "      <td>마징가</td>\n",
       "      <td>98</td>\n",
       "      <td>50</td>\n",
       "      <td>60</td>\n",
       "      <td>80</td>\n",
       "    </tr>\n",
       "    <tr>\n",
       "      <th>5</th>\n",
       "      <td>마징가</td>\n",
       "      <td>98</td>\n",
       "      <td>87</td>\n",
       "      <td>87</td>\n",
       "      <td>91</td>\n",
       "    </tr>\n",
       "  </tbody>\n",
       "</table>\n",
       "</div>"
      ],
      "text/plain": [
       "    이름   국어  미술  수학  체육\n",
       "0  마징가   98  70  80  80\n",
       "1  베트맨   79  99  87  83\n",
       "2  홍길동   99  87  99  90\n",
       "3  임꺽정  100  80  72  88\n",
       "4  마징가   98  50  60  80\n",
       "5  마징가   98  87  87  91"
      ]
     },
     "execution_count": 48,
     "metadata": {},
     "output_type": "execute_result"
    }
   ],
   "source": [
    "examDF"
   ]
  },
  {
   "cell_type": "code",
   "execution_count": 51,
   "id": "94105dee-5ff0-47d7-8541-f7e83d02e2a1",
   "metadata": {},
   "outputs": [
    {
     "data": {
      "text/html": [
       "<div>\n",
       "<style scoped>\n",
       "    .dataframe tbody tr th:only-of-type {\n",
       "        vertical-align: middle;\n",
       "    }\n",
       "\n",
       "    .dataframe tbody tr th {\n",
       "        vertical-align: top;\n",
       "    }\n",
       "\n",
       "    .dataframe thead th {\n",
       "        text-align: right;\n",
       "    }\n",
       "</style>\n",
       "<table border=\"1\" class=\"dataframe\">\n",
       "  <thead>\n",
       "    <tr style=\"text-align: right;\">\n",
       "      <th></th>\n",
       "      <th>이름</th>\n",
       "      <th>국어</th>\n",
       "      <th>미술</th>\n",
       "      <th>수학</th>\n",
       "      <th>체육</th>\n",
       "    </tr>\n",
       "  </thead>\n",
       "  <tbody>\n",
       "    <tr>\n",
       "      <th>0</th>\n",
       "      <td>마징가</td>\n",
       "      <td>98</td>\n",
       "      <td>70</td>\n",
       "      <td>80</td>\n",
       "      <td>80</td>\n",
       "    </tr>\n",
       "    <tr>\n",
       "      <th>2</th>\n",
       "      <td>홍길동</td>\n",
       "      <td>99</td>\n",
       "      <td>87</td>\n",
       "      <td>99</td>\n",
       "      <td>90</td>\n",
       "    </tr>\n",
       "    <tr>\n",
       "      <th>1</th>\n",
       "      <td>베트맨</td>\n",
       "      <td>79</td>\n",
       "      <td>99</td>\n",
       "      <td>87</td>\n",
       "      <td>83</td>\n",
       "    </tr>\n",
       "    <tr>\n",
       "      <th>4</th>\n",
       "      <td>마징가</td>\n",
       "      <td>98</td>\n",
       "      <td>50</td>\n",
       "      <td>60</td>\n",
       "      <td>80</td>\n",
       "    </tr>\n",
       "    <tr>\n",
       "      <th>5</th>\n",
       "      <td>마징가</td>\n",
       "      <td>98</td>\n",
       "      <td>87</td>\n",
       "      <td>87</td>\n",
       "      <td>91</td>\n",
       "    </tr>\n",
       "    <tr>\n",
       "      <th>1</th>\n",
       "      <td>베트맨</td>\n",
       "      <td>79</td>\n",
       "      <td>99</td>\n",
       "      <td>87</td>\n",
       "      <td>83</td>\n",
       "    </tr>\n",
       "    <tr>\n",
       "      <th>10</th>\n",
       "      <td>0</td>\n",
       "      <td>0</td>\n",
       "      <td>0</td>\n",
       "      <td>0</td>\n",
       "      <td>0</td>\n",
       "    </tr>\n",
       "  </tbody>\n",
       "</table>\n",
       "</div>"
      ],
      "text/plain": [
       "     이름  국어  미술  수학  체육\n",
       "0   마징가  98  70  80  80\n",
       "2   홍길동  99  87  99  90\n",
       "1   베트맨  79  99  87  83\n",
       "4   마징가  98  50  60  80\n",
       "5   마징가  98  87  87  91\n",
       "1   베트맨  79  99  87  83\n",
       "10    0   0   0   0   0"
      ]
     },
     "execution_count": 51,
     "metadata": {},
     "output_type": "execute_result"
    }
   ],
   "source": [
    "examDF.reindex([0,2,1,4,5,1,10], axis='index', fill_value=0)"
   ]
  },
  {
   "cell_type": "markdown",
   "id": "33055c34-a2cd-4470-9904-2c09464f551e",
   "metadata": {},
   "source": [
    "- 컬럼명 순서 변경 ==> '체육','미술','국어','수학','총합' + 행인덱스 => 0,2,4,1,3,5 재배치"
   ]
  },
  {
   "cell_type": "code",
   "execution_count": 52,
   "id": "6922940e-ce15-41ac-b307-abc006c500c6",
   "metadata": {},
   "outputs": [
    {
     "data": {
      "text/html": [
       "<div>\n",
       "<style scoped>\n",
       "    .dataframe tbody tr th:only-of-type {\n",
       "        vertical-align: middle;\n",
       "    }\n",
       "\n",
       "    .dataframe tbody tr th {\n",
       "        vertical-align: top;\n",
       "    }\n",
       "\n",
       "    .dataframe thead th {\n",
       "        text-align: right;\n",
       "    }\n",
       "</style>\n",
       "<table border=\"1\" class=\"dataframe\">\n",
       "  <thead>\n",
       "    <tr style=\"text-align: right;\">\n",
       "      <th></th>\n",
       "      <th>체육</th>\n",
       "      <th>미술</th>\n",
       "      <th>국어</th>\n",
       "      <th>수학</th>\n",
       "      <th>총합</th>\n",
       "    </tr>\n",
       "  </thead>\n",
       "  <tbody>\n",
       "    <tr>\n",
       "      <th>0</th>\n",
       "      <td>80</td>\n",
       "      <td>70</td>\n",
       "      <td>98</td>\n",
       "      <td>80</td>\n",
       "      <td>0</td>\n",
       "    </tr>\n",
       "    <tr>\n",
       "      <th>2</th>\n",
       "      <td>90</td>\n",
       "      <td>87</td>\n",
       "      <td>99</td>\n",
       "      <td>99</td>\n",
       "      <td>0</td>\n",
       "    </tr>\n",
       "    <tr>\n",
       "      <th>4</th>\n",
       "      <td>80</td>\n",
       "      <td>50</td>\n",
       "      <td>98</td>\n",
       "      <td>60</td>\n",
       "      <td>0</td>\n",
       "    </tr>\n",
       "    <tr>\n",
       "      <th>1</th>\n",
       "      <td>83</td>\n",
       "      <td>99</td>\n",
       "      <td>79</td>\n",
       "      <td>87</td>\n",
       "      <td>0</td>\n",
       "    </tr>\n",
       "    <tr>\n",
       "      <th>3</th>\n",
       "      <td>88</td>\n",
       "      <td>80</td>\n",
       "      <td>100</td>\n",
       "      <td>72</td>\n",
       "      <td>0</td>\n",
       "    </tr>\n",
       "    <tr>\n",
       "      <th>5</th>\n",
       "      <td>91</td>\n",
       "      <td>87</td>\n",
       "      <td>98</td>\n",
       "      <td>87</td>\n",
       "      <td>0</td>\n",
       "    </tr>\n",
       "  </tbody>\n",
       "</table>\n",
       "</div>"
      ],
      "text/plain": [
       "   체육  미술   국어  수학  총합\n",
       "0  80  70   98  80   0\n",
       "2  90  87   99  99   0\n",
       "4  80  50   98  60   0\n",
       "1  83  99   79  87   0\n",
       "3  88  80  100  72   0\n",
       "5  91  87   98  87   0"
      ]
     },
     "execution_count": 52,
     "metadata": {},
     "output_type": "execute_result"
    }
   ],
   "source": [
    "examDF.reindex(index=[0,2,4,1,3,5], columns=['체육', '미술', '국어', '수학', '총합'], fill_value=0)"
   ]
  },
  {
   "cell_type": "code",
   "execution_count": null,
   "id": "0520b739-e648-4a9e-85b7-7cc590fd5b4b",
   "metadata": {},
   "outputs": [],
   "source": []
  }
 ],
 "metadata": {
  "kernelspec": {
   "display_name": "Python 3 (ipykernel)",
   "language": "python",
   "name": "python3"
  },
  "language_info": {
   "codemirror_mode": {
    "name": "ipython",
    "version": 3
   },
   "file_extension": ".py",
   "mimetype": "text/x-python",
   "name": "python",
   "nbconvert_exporter": "python",
   "pygments_lexer": "ipython3",
   "version": "3.8.18"
  }
 },
 "nbformat": 4,
 "nbformat_minor": 5
}
