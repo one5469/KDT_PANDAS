{
 "cells": [
  {
   "cell_type": "markdown",
   "id": "449ee82f-d024-41ee-83f2-56ae1ede1649",
   "metadata": {},
   "source": [
    "## [ DataFrame 행/열 추가 ]"
   ]
  },
  {
   "cell_type": "markdown",
   "id": "90dd1f37-cec6-4f0f-8f9c-73dc29880b2c",
   "metadata": {},
   "source": [
    "(1) 모듈 로딩"
   ]
  },
  {
   "cell_type": "code",
   "execution_count": 17,
   "id": "c216ae9b-1039-418b-88d0-0820c714767d",
   "metadata": {},
   "outputs": [],
   "source": [
    "import pandas as pd"
   ]
  },
  {
   "cell_type": "markdown",
   "id": "7548e7c8-97ed-4b96-93f8-200342b8303a",
   "metadata": {},
   "source": [
    "(2) 데이터 준비"
   ]
  },
  {
   "cell_type": "code",
   "execution_count": 18,
   "id": "47ed54d0-6115-43c3-9423-8582d3f30c41",
   "metadata": {},
   "outputs": [],
   "source": [
    "# dict 타입의 데이터 생성\n",
    "exam = { '이름': ['마징가', '베트맨', '홍길동', '임꺽정'],\n",
    "         '국어': [98, 79, 99, 100],\n",
    "         '미술': [70, 99, 87, 80],\n",
    "         '수학': [80, 87, 99, 72],\n",
    "         '체육': [72, 83, 90, 88]}"
   ]
  },
  {
   "cell_type": "markdown",
   "id": "e8843f0b-ea40-4134-8d25-64350e49adcf",
   "metadata": {},
   "source": [
    "(3) DataFrame에 데이터 저장"
   ]
  },
  {
   "cell_type": "code",
   "execution_count": 19,
   "id": "94d31292-c1c9-4bd1-96d0-a509fbf4de5b",
   "metadata": {},
   "outputs": [
    {
     "data": {
      "text/html": [
       "<div>\n",
       "<style scoped>\n",
       "    .dataframe tbody tr th:only-of-type {\n",
       "        vertical-align: middle;\n",
       "    }\n",
       "\n",
       "    .dataframe tbody tr th {\n",
       "        vertical-align: top;\n",
       "    }\n",
       "\n",
       "    .dataframe thead th {\n",
       "        text-align: right;\n",
       "    }\n",
       "</style>\n",
       "<table border=\"1\" class=\"dataframe\">\n",
       "  <thead>\n",
       "    <tr style=\"text-align: right;\">\n",
       "      <th></th>\n",
       "      <th>이름</th>\n",
       "      <th>국어</th>\n",
       "      <th>미술</th>\n",
       "      <th>수학</th>\n",
       "      <th>체육</th>\n",
       "    </tr>\n",
       "  </thead>\n",
       "  <tbody>\n",
       "    <tr>\n",
       "      <th>0</th>\n",
       "      <td>마징가</td>\n",
       "      <td>98</td>\n",
       "      <td>70</td>\n",
       "      <td>80</td>\n",
       "      <td>72</td>\n",
       "    </tr>\n",
       "    <tr>\n",
       "      <th>1</th>\n",
       "      <td>베트맨</td>\n",
       "      <td>79</td>\n",
       "      <td>99</td>\n",
       "      <td>87</td>\n",
       "      <td>83</td>\n",
       "    </tr>\n",
       "    <tr>\n",
       "      <th>2</th>\n",
       "      <td>홍길동</td>\n",
       "      <td>99</td>\n",
       "      <td>87</td>\n",
       "      <td>99</td>\n",
       "      <td>90</td>\n",
       "    </tr>\n",
       "    <tr>\n",
       "      <th>3</th>\n",
       "      <td>임꺽정</td>\n",
       "      <td>100</td>\n",
       "      <td>80</td>\n",
       "      <td>72</td>\n",
       "      <td>88</td>\n",
       "    </tr>\n",
       "  </tbody>\n",
       "</table>\n",
       "</div>"
      ],
      "text/plain": [
       "    이름   국어  미술  수학  체육\n",
       "0  마징가   98  70  80  72\n",
       "1  베트맨   79  99  87  83\n",
       "2  홍길동   99  87  99  90\n",
       "3  임꺽정  100  80  72  88"
      ]
     },
     "execution_count": 19,
     "metadata": {},
     "output_type": "execute_result"
    }
   ],
   "source": [
    "examDF = pd.DataFrame(exam)\n",
    "examDF"
   ]
  },
  {
   "cell_type": "markdown",
   "id": "fbf9c744-9443-40f1-bf33-fe9893bf2572",
   "metadata": {},
   "source": [
    "(4) 저장된 데이터 속성 확인"
   ]
  },
  {
   "cell_type": "code",
   "execution_count": 20,
   "id": "14c32df4-1cb6-44ae-85d6-365286f52b17",
   "metadata": {},
   "outputs": [],
   "source": [
    "def printAttribute(df, dfname):\n",
    "    print(f'[ {dfname} attribute ]')\n",
    "    print(f'index\\n===> {df.index}\\n')\n",
    "    print(f'columns\\n===> {df.columns}\\n')\n",
    "    print(f'shape\\n===> {df.shape}\\n')\n",
    "    print(f'ndim\\n===> {df.ndim}\\n')\n",
    "    print(f'dtype\\n===>\\n{df.dtypes}\\n')"
   ]
  },
  {
   "cell_type": "code",
   "execution_count": 22,
   "id": "15808d14-212d-4102-9de6-816010d4f493",
   "metadata": {},
   "outputs": [
    {
     "name": "stdout",
     "output_type": "stream",
     "text": [
      "[ examDF attribute ]\n",
      "index\n",
      "===> RangeIndex(start=0, stop=4, step=1)\n",
      "\n",
      "columns\n",
      "===> Index(['이름', '국어', '미술', '수학', '체육'], dtype='object')\n",
      "\n",
      "shape\n",
      "===> (4, 5)\n",
      "\n",
      "ndim\n",
      "===> 2\n",
      "\n",
      "dtype\n",
      "===>\n",
      "이름    object\n",
      "국어     int64\n",
      "미술     int64\n",
      "수학     int64\n",
      "체육     int64\n",
      "dtype: object\n",
      "\n"
     ]
    }
   ],
   "source": [
    "printAttribute(examDF, 'examDF')"
   ]
  },
  {
   "cell_type": "markdown",
   "id": "c8b1187a-143b-4437-9e87-58ce5bb3b035",
   "metadata": {},
   "source": [
    "(5) DataFrame에 컬럼(column) 추가\n",
    "- 방법 : DF객체변수명[새로운컬럼명] = 값"
   ]
  },
  {
   "cell_type": "code",
   "execution_count": 23,
   "id": "c888c013-46a2-4a9c-99da-85cb9ab6b456",
   "metadata": {},
   "outputs": [
    {
     "data": {
      "text/plain": [
       "Index(['이름', '국어', '미술', '수학', '체육'], dtype='object')"
      ]
     },
     "execution_count": 23,
     "metadata": {},
     "output_type": "execute_result"
    }
   ],
   "source": [
    "examDF.columns"
   ]
  },
  {
   "cell_type": "code",
   "execution_count": 27,
   "id": "fbc55203-dabd-43cc-9e34-7bd23c1c9817",
   "metadata": {},
   "outputs": [
    {
     "data": {
      "text/html": [
       "<div>\n",
       "<style scoped>\n",
       "    .dataframe tbody tr th:only-of-type {\n",
       "        vertical-align: middle;\n",
       "    }\n",
       "\n",
       "    .dataframe tbody tr th {\n",
       "        vertical-align: top;\n",
       "    }\n",
       "\n",
       "    .dataframe thead th {\n",
       "        text-align: right;\n",
       "    }\n",
       "</style>\n",
       "<table border=\"1\" class=\"dataframe\">\n",
       "  <thead>\n",
       "    <tr style=\"text-align: right;\">\n",
       "      <th></th>\n",
       "      <th>이름</th>\n",
       "      <th>국어</th>\n",
       "      <th>미술</th>\n",
       "      <th>수학</th>\n",
       "      <th>체육</th>\n",
       "      <th>영어</th>\n",
       "    </tr>\n",
       "  </thead>\n",
       "  <tbody>\n",
       "    <tr>\n",
       "      <th>0</th>\n",
       "      <td>마징가</td>\n",
       "      <td>98</td>\n",
       "      <td>70</td>\n",
       "      <td>80</td>\n",
       "      <td>72</td>\n",
       "      <td>90</td>\n",
       "    </tr>\n",
       "    <tr>\n",
       "      <th>1</th>\n",
       "      <td>베트맨</td>\n",
       "      <td>79</td>\n",
       "      <td>99</td>\n",
       "      <td>87</td>\n",
       "      <td>83</td>\n",
       "      <td>89</td>\n",
       "    </tr>\n",
       "    <tr>\n",
       "      <th>2</th>\n",
       "      <td>홍길동</td>\n",
       "      <td>99</td>\n",
       "      <td>87</td>\n",
       "      <td>99</td>\n",
       "      <td>90</td>\n",
       "      <td>100</td>\n",
       "    </tr>\n",
       "    <tr>\n",
       "      <th>3</th>\n",
       "      <td>임꺽정</td>\n",
       "      <td>100</td>\n",
       "      <td>80</td>\n",
       "      <td>72</td>\n",
       "      <td>88</td>\n",
       "      <td>99</td>\n",
       "    </tr>\n",
       "  </tbody>\n",
       "</table>\n",
       "</div>"
      ],
      "text/plain": [
       "    이름   국어  미술  수학  체육   영어\n",
       "0  마징가   98  70  80  72   90\n",
       "1  베트맨   79  99  87  83   89\n",
       "2  홍길동   99  87  99  90  100\n",
       "3  임꺽정  100  80  72  88   99"
      ]
     },
     "execution_count": 27,
     "metadata": {},
     "output_type": "execute_result"
    }
   ],
   "source": [
    "# 행 갯수 만큼 값 추가\n",
    "examDF['영어'] = [90, 89, 100, 99]\n",
    "examDF"
   ]
  },
  {
   "cell_type": "code",
   "execution_count": 31,
   "id": "9b37e85a-0aeb-47e3-b452-a2eda43314f4",
   "metadata": {},
   "outputs": [
    {
     "data": {
      "text/html": [
       "<div>\n",
       "<style scoped>\n",
       "    .dataframe tbody tr th:only-of-type {\n",
       "        vertical-align: middle;\n",
       "    }\n",
       "\n",
       "    .dataframe tbody tr th {\n",
       "        vertical-align: top;\n",
       "    }\n",
       "\n",
       "    .dataframe thead th {\n",
       "        text-align: right;\n",
       "    }\n",
       "</style>\n",
       "<table border=\"1\" class=\"dataframe\">\n",
       "  <thead>\n",
       "    <tr style=\"text-align: right;\">\n",
       "      <th></th>\n",
       "      <th>이름</th>\n",
       "      <th>국어</th>\n",
       "      <th>미술</th>\n",
       "      <th>수학</th>\n",
       "      <th>체육</th>\n",
       "      <th>영어</th>\n",
       "      <th>과학</th>\n",
       "    </tr>\n",
       "  </thead>\n",
       "  <tbody>\n",
       "    <tr>\n",
       "      <th>0</th>\n",
       "      <td>마징가</td>\n",
       "      <td>98</td>\n",
       "      <td>70</td>\n",
       "      <td>80</td>\n",
       "      <td>72</td>\n",
       "      <td>90</td>\n",
       "      <td>10</td>\n",
       "    </tr>\n",
       "    <tr>\n",
       "      <th>1</th>\n",
       "      <td>베트맨</td>\n",
       "      <td>79</td>\n",
       "      <td>99</td>\n",
       "      <td>87</td>\n",
       "      <td>83</td>\n",
       "      <td>89</td>\n",
       "      <td>10</td>\n",
       "    </tr>\n",
       "    <tr>\n",
       "      <th>2</th>\n",
       "      <td>홍길동</td>\n",
       "      <td>99</td>\n",
       "      <td>87</td>\n",
       "      <td>99</td>\n",
       "      <td>90</td>\n",
       "      <td>100</td>\n",
       "      <td>10</td>\n",
       "    </tr>\n",
       "    <tr>\n",
       "      <th>3</th>\n",
       "      <td>임꺽정</td>\n",
       "      <td>100</td>\n",
       "      <td>80</td>\n",
       "      <td>72</td>\n",
       "      <td>88</td>\n",
       "      <td>99</td>\n",
       "      <td>10</td>\n",
       "    </tr>\n",
       "  </tbody>\n",
       "</table>\n",
       "</div>"
      ],
      "text/plain": [
       "    이름   국어  미술  수학  체육   영어  과학\n",
       "0  마징가   98  70  80  72   90  10\n",
       "1  베트맨   79  99  87  83   89  10\n",
       "2  홍길동   99  87  99  90  100  10\n",
       "3  임꺽정  100  80  72  88   99  10"
      ]
     },
     "execution_count": 31,
     "metadata": {},
     "output_type": "execute_result"
    }
   ],
   "source": [
    "# 1개의 데이터 즉 값 추가 시 모든 해에 동일 값으로 저장\n",
    "examDF['과학'] = 10\n",
    "examDF"
   ]
  },
  {
   "cell_type": "code",
   "execution_count": 33,
   "id": "b0ceabda-5123-4451-b1f2-6da4a0d78bbc",
   "metadata": {},
   "outputs": [],
   "source": [
    "# examDF['컴퓨터'] = [89,10]        # 리스트 크기 다름"
   ]
  },
  {
   "cell_type": "markdown",
   "id": "c2791766-35fc-4b70-a01a-22c51d0a2064",
   "metadata": {},
   "source": [
    "(6) DataFrame에 행(row) 추가\n",
    "- 방법 : DF객체변수명.loc[새로운 행인덱스] = [컬럼수 만큼 데이터]\n",
    "- 방법 : DF객체변수명.loc[새로운 행인덱스] = 데이터\n",
    "- 불가 방법 : DF객체변수명.iloc[새로운 행인덱스] = 데이터 => 데이터 존재해야 인덱스 할당"
   ]
  },
  {
   "cell_type": "code",
   "execution_count": 34,
   "id": "8fd42b48-30c9-411a-ba17-e0fd49b5409c",
   "metadata": {},
   "outputs": [
    {
     "data": {
      "text/plain": [
       "RangeIndex(start=0, stop=4, step=1)"
      ]
     },
     "execution_count": 34,
     "metadata": {},
     "output_type": "execute_result"
    }
   ],
   "source": [
    "examDF.index"
   ]
  },
  {
   "cell_type": "code",
   "execution_count": 42,
   "id": "ddfc0b00-65c8-4c0c-aaa2-fed57290d68c",
   "metadata": {},
   "outputs": [
    {
     "data": {
      "text/html": [
       "<div>\n",
       "<style scoped>\n",
       "    .dataframe tbody tr th:only-of-type {\n",
       "        vertical-align: middle;\n",
       "    }\n",
       "\n",
       "    .dataframe tbody tr th {\n",
       "        vertical-align: top;\n",
       "    }\n",
       "\n",
       "    .dataframe thead th {\n",
       "        text-align: right;\n",
       "    }\n",
       "</style>\n",
       "<table border=\"1\" class=\"dataframe\">\n",
       "  <thead>\n",
       "    <tr style=\"text-align: right;\">\n",
       "      <th></th>\n",
       "      <th>이름</th>\n",
       "      <th>국어</th>\n",
       "      <th>미술</th>\n",
       "      <th>수학</th>\n",
       "      <th>체육</th>\n",
       "      <th>영어</th>\n",
       "      <th>과학</th>\n",
       "    </tr>\n",
       "  </thead>\n",
       "  <tbody>\n",
       "    <tr>\n",
       "      <th>0</th>\n",
       "      <td>마징가</td>\n",
       "      <td>98</td>\n",
       "      <td>70</td>\n",
       "      <td>80</td>\n",
       "      <td>72</td>\n",
       "      <td>90</td>\n",
       "      <td>10</td>\n",
       "    </tr>\n",
       "    <tr>\n",
       "      <th>1</th>\n",
       "      <td>베트맨</td>\n",
       "      <td>79</td>\n",
       "      <td>99</td>\n",
       "      <td>87</td>\n",
       "      <td>83</td>\n",
       "      <td>89</td>\n",
       "      <td>10</td>\n",
       "    </tr>\n",
       "    <tr>\n",
       "      <th>2</th>\n",
       "      <td>홍길동</td>\n",
       "      <td>99</td>\n",
       "      <td>87</td>\n",
       "      <td>99</td>\n",
       "      <td>90</td>\n",
       "      <td>100</td>\n",
       "      <td>10</td>\n",
       "    </tr>\n",
       "    <tr>\n",
       "      <th>3</th>\n",
       "      <td>임꺽정</td>\n",
       "      <td>100</td>\n",
       "      <td>80</td>\n",
       "      <td>72</td>\n",
       "      <td>88</td>\n",
       "      <td>99</td>\n",
       "      <td>10</td>\n",
       "    </tr>\n",
       "    <tr>\n",
       "      <th>4</th>\n",
       "      <td>원더우먼</td>\n",
       "      <td>90</td>\n",
       "      <td>87</td>\n",
       "      <td>99</td>\n",
       "      <td>87</td>\n",
       "      <td>67</td>\n",
       "      <td>80</td>\n",
       "    </tr>\n",
       "  </tbody>\n",
       "</table>\n",
       "</div>"
      ],
      "text/plain": [
       "     이름   국어  미술  수학  체육   영어  과학\n",
       "0   마징가   98  70  80  72   90  10\n",
       "1   베트맨   79  99  87  83   89  10\n",
       "2   홍길동   99  87  99  90  100  10\n",
       "3   임꺽정  100  80  72  88   99  10\n",
       "4  원더우먼   90  87  99  87   67  80"
      ]
     },
     "execution_count": 42,
     "metadata": {},
     "output_type": "execute_result"
    }
   ],
   "source": [
    "# 컬럼 수 만큼의 데이터를 가진 행 추가\n",
    "examDF.loc[4] = ['원더우먼', 90, 87, 99, 87, 67, 80]\n",
    "examDF"
   ]
  },
  {
   "cell_type": "code",
   "execution_count": 44,
   "id": "49a6f5b0-c663-4d19-945e-450365535bd4",
   "metadata": {},
   "outputs": [],
   "source": [
    "# 행 추가 시 iloc는 사용불가 => 데이터 수에 맞게 인덱스 범위 지정이 되기 때문에\n",
    "# 현재 인덱스에 없는 인덱스로 불가\n",
    "# examDF.iloc[5] = ['슈퍼맨', 90, 87, 99, 87, 67, 80]"
   ]
  },
  {
   "cell_type": "code",
   "execution_count": 45,
   "id": "c6a94c32-0de5-4124-b696-87bc3eb10136",
   "metadata": {},
   "outputs": [
    {
     "data": {
      "text/html": [
       "<div>\n",
       "<style scoped>\n",
       "    .dataframe tbody tr th:only-of-type {\n",
       "        vertical-align: middle;\n",
       "    }\n",
       "\n",
       "    .dataframe tbody tr th {\n",
       "        vertical-align: top;\n",
       "    }\n",
       "\n",
       "    .dataframe thead th {\n",
       "        text-align: right;\n",
       "    }\n",
       "</style>\n",
       "<table border=\"1\" class=\"dataframe\">\n",
       "  <thead>\n",
       "    <tr style=\"text-align: right;\">\n",
       "      <th></th>\n",
       "      <th>이름</th>\n",
       "      <th>국어</th>\n",
       "      <th>미술</th>\n",
       "      <th>수학</th>\n",
       "      <th>체육</th>\n",
       "      <th>영어</th>\n",
       "      <th>과학</th>\n",
       "    </tr>\n",
       "  </thead>\n",
       "  <tbody>\n",
       "    <tr>\n",
       "      <th>0</th>\n",
       "      <td>마징가</td>\n",
       "      <td>98</td>\n",
       "      <td>70</td>\n",
       "      <td>80</td>\n",
       "      <td>72</td>\n",
       "      <td>90</td>\n",
       "      <td>10</td>\n",
       "    </tr>\n",
       "    <tr>\n",
       "      <th>1</th>\n",
       "      <td>베트맨</td>\n",
       "      <td>79</td>\n",
       "      <td>99</td>\n",
       "      <td>87</td>\n",
       "      <td>83</td>\n",
       "      <td>89</td>\n",
       "      <td>10</td>\n",
       "    </tr>\n",
       "    <tr>\n",
       "      <th>2</th>\n",
       "      <td>홍길동</td>\n",
       "      <td>99</td>\n",
       "      <td>87</td>\n",
       "      <td>99</td>\n",
       "      <td>90</td>\n",
       "      <td>100</td>\n",
       "      <td>10</td>\n",
       "    </tr>\n",
       "    <tr>\n",
       "      <th>3</th>\n",
       "      <td>임꺽정</td>\n",
       "      <td>100</td>\n",
       "      <td>80</td>\n",
       "      <td>72</td>\n",
       "      <td>88</td>\n",
       "      <td>99</td>\n",
       "      <td>10</td>\n",
       "    </tr>\n",
       "    <tr>\n",
       "      <th>4</th>\n",
       "      <td>원더우먼</td>\n",
       "      <td>90</td>\n",
       "      <td>87</td>\n",
       "      <td>99</td>\n",
       "      <td>87</td>\n",
       "      <td>67</td>\n",
       "      <td>80</td>\n",
       "    </tr>\n",
       "    <tr>\n",
       "      <th>5</th>\n",
       "      <td>슈퍼맨</td>\n",
       "      <td>슈퍼맨</td>\n",
       "      <td>슈퍼맨</td>\n",
       "      <td>슈퍼맨</td>\n",
       "      <td>슈퍼맨</td>\n",
       "      <td>슈퍼맨</td>\n",
       "      <td>슈퍼맨</td>\n",
       "    </tr>\n",
       "  </tbody>\n",
       "</table>\n",
       "</div>"
      ],
      "text/plain": [
       "     이름   국어   미술   수학   체육   영어   과학\n",
       "0   마징가   98   70   80   72   90   10\n",
       "1   베트맨   79   99   87   83   89   10\n",
       "2   홍길동   99   87   99   90  100   10\n",
       "3   임꺽정  100   80   72   88   99   10\n",
       "4  원더우먼   90   87   99   87   67   80\n",
       "5   슈퍼맨  슈퍼맨  슈퍼맨  슈퍼맨  슈퍼맨  슈퍼맨  슈퍼맨"
      ]
     },
     "execution_count": 45,
     "metadata": {},
     "output_type": "execute_result"
    }
   ],
   "source": [
    "# 1개 데이터 가진 행 추가\n",
    "examDF.loc[5] = '슈퍼맨'\n",
    "examDF"
   ]
  },
  {
   "cell_type": "code",
   "execution_count": null,
   "id": "147b9c27-dd8c-42bb-9d30-9deb5bcbf583",
   "metadata": {},
   "outputs": [],
   "source": []
  }
 ],
 "metadata": {
  "kernelspec": {
   "display_name": "Python 3 (ipykernel)",
   "language": "python",
   "name": "python3"
  },
  "language_info": {
   "codemirror_mode": {
    "name": "ipython",
    "version": 3
   },
   "file_extension": ".py",
   "mimetype": "text/x-python",
   "name": "python",
   "nbconvert_exporter": "python",
   "pygments_lexer": "ipython3",
   "version": "3.8.18"
  }
 },
 "nbformat": 4,
 "nbformat_minor": 5
}
