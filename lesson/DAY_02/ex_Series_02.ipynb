{
 "cells": [
  {
   "cell_type": "markdown",
   "id": "11095caf-7cf1-4d53-9b03-b08d266d0d3c",
   "metadata": {},
   "source": [
    "### [ 다양한 Series 객체 생성 ]"
   ]
  },
  {
   "cell_type": "markdown",
   "id": "ed366828-320f-4233-a066-bb250b7313f2",
   "metadata": {},
   "source": [
    "#### (1) 모듈 로딩"
   ]
  },
  {
   "cell_type": "code",
   "execution_count": 2,
   "id": "f68734a3-2970-4f24-a370-79d0662804d5",
   "metadata": {},
   "outputs": [],
   "source": [
    "import pandas as pd"
   ]
  },
  {
   "cell_type": "markdown",
   "id": "a9a358ab-8c86-421f-9a21-acf35ea39a4b",
   "metadata": {},
   "source": [
    "#### (2) Series 객체 생성 - 방법 1  \n",
    "- Series( data, index=지정 )"
   ]
  },
  {
   "cell_type": "code",
   "execution_count": 3,
   "id": "81c9ec69-b8da-4803-baf8-5e874ca6de98",
   "metadata": {},
   "outputs": [],
   "source": [
    "sr1 = pd.Series([11,22,33], index=['one', 'two', 'three'])"
   ]
  },
  {
   "cell_type": "code",
   "execution_count": 4,
   "id": "2f66a0b6-67e7-4262-923e-ec830c0d0c7e",
   "metadata": {},
   "outputs": [
    {
     "data": {
      "text/plain": [
       "one      11\n",
       "two      22\n",
       "three    33\n",
       "dtype: int64"
      ]
     },
     "execution_count": 4,
     "metadata": {},
     "output_type": "execute_result"
    }
   ],
   "source": [
    "sr1"
   ]
  },
  {
   "cell_type": "markdown",
   "id": "aeb6d24a-df23-4ec9-bdd6-fb57a792ecbd",
   "metadata": {},
   "source": [
    "#### (2) Series 객체 생성 - 방법 2  \n"
   ]
  },
  {
   "cell_type": "code",
   "execution_count": 5,
   "id": "a8a1f2d0-8db8-4612-9043-717ec76d8593",
   "metadata": {},
   "outputs": [
    {
     "data": {
      "text/plain": [
       "one      11\n",
       "two      22\n",
       "three    33\n",
       "Name: jumsu, dtype: int64"
      ]
     },
     "execution_count": 5,
     "metadata": {},
     "output_type": "execute_result"
    }
   ],
   "source": [
    "sr1 = pd.Series([11,22,33], index=['one', 'two', 'three'], name='jumsu')\n",
    "sr1"
   ]
  },
  {
   "cell_type": "markdown",
   "id": "c70f8569-7f36-4fc7-8ecf-4d7db4ba75e7",
   "metadata": {},
   "source": [
    "#### (2) Series 객체 생성 - 방법 3  \n"
   ]
  },
  {
   "cell_type": "code",
   "execution_count": 8,
   "id": "eca8fcfc-da86-4ae4-bad3-f8040e99d28c",
   "metadata": {},
   "outputs": [
    {
     "data": {
      "text/plain": [
       "one      11\n",
       "two      22\n",
       "three    33\n",
       "Name: jumsu, dtype: uint8"
      ]
     },
     "execution_count": 8,
     "metadata": {},
     "output_type": "execute_result"
    }
   ],
   "source": [
    "sr1 = pd.Series([11,22,33], index=['one', 'two', 'three'], name='jumsu', dtype='uint8')     # unsigned int\n",
    "sr1"
   ]
  },
  {
   "cell_type": "markdown",
   "id": "b98de0a3-8166-47fe-b50b-5aec39de6c25",
   "metadata": {},
   "source": [
    "#### (2) Series 객체 생성 - 방법 4 => 저장되는 데이터 dict\n"
   ]
  },
  {
   "cell_type": "code",
   "execution_count": 11,
   "id": "58336f94-5d54-4fe9-a27f-0ab909f9472d",
   "metadata": {},
   "outputs": [
    {
     "data": {
      "text/plain": [
       "name    홍길동\n",
       "age      12\n",
       "job      도적\n",
       "dtype: object"
      ]
     },
     "execution_count": 11,
     "metadata": {},
     "output_type": "execute_result"
    }
   ],
   "source": [
    "data = {'name':'홍길동', 'age':12, 'job':'도적'}\n",
    "\n",
    "sr1 = pd.Series(data)\n",
    "sr1"
   ]
  },
  {
   "cell_type": "code",
   "execution_count": 15,
   "id": "11b036d4-c602-4a36-9007-33bb04f8163a",
   "metadata": {},
   "outputs": [
    {
     "name": "stdout",
     "output_type": "stream",
     "text": [
      "Index(['name', 'age', 'job'], dtype='object')\n",
      "['홍길동' 12 '도적']\n"
     ]
    }
   ],
   "source": [
    "# 속성 확인하기\n",
    "print(sr1.index, sr1.values, sep='\\n')"
   ]
  },
  {
   "cell_type": "markdown",
   "id": "42e12982-36ee-4c9b-b5cd-4cb874b7a7af",
   "metadata": {},
   "source": [
    "#### (2) Series 객체 생성 - 방법 4 => 저장되는 데이터 set\n"
   ]
  },
  {
   "cell_type": "code",
   "execution_count": 19,
   "id": "75d82fc7-3d11-42eb-9285-f1444cf7d4b3",
   "metadata": {},
   "outputs": [
    {
     "data": {
      "text/plain": [
       "1    홍길동\n",
       "2     12\n",
       "3     도적\n",
       "dtype: object"
      ]
     },
     "execution_count": 19,
     "metadata": {},
     "output_type": "execute_result"
    }
   ],
   "source": [
    "data={'홍길동', 12, '도적'}         # 순서없는 데이터, 중복 불허\n",
    "\n",
    "# 형변환 후 객체 생성 가\n",
    "sr1 = pd.Series(list(data), index=[1,2,3])\n",
    "sr1"
   ]
  },
  {
   "cell_type": "code",
   "execution_count": null,
   "id": "d6e2742b-bf30-4824-8d88-eb2744197a84",
   "metadata": {},
   "outputs": [],
   "source": []
  }
 ],
 "metadata": {
  "kernelspec": {
   "display_name": "Python 3 (ipykernel)",
   "language": "python",
   "name": "python3"
  },
  "language_info": {
   "codemirror_mode": {
    "name": "ipython",
    "version": 3
   },
   "file_extension": ".py",
   "mimetype": "text/x-python",
   "name": "python",
   "nbconvert_exporter": "python",
   "pygments_lexer": "ipython3",
   "version": "3.8.18"
  }
 },
 "nbformat": 4,
 "nbformat_minor": 5
}
