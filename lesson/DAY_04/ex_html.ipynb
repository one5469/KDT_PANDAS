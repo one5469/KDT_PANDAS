{
 "cells": [
  {
   "cell_type": "markdown",
   "id": "360d4b5d-359c-4adb-8cb0-2be21150117b",
   "metadata": {},
   "source": [
    "## [HTML ==> DataFrame으로 저장]"
   ]
  },
  {
   "cell_type": "markdown",
   "id": "c5872261-ef6c-459e-95b0-2b7894f652d0",
   "metadata": {},
   "source": [
    "(1) 모듈 로딩"
   ]
  },
  {
   "cell_type": "code",
   "execution_count": 11,
   "id": "c901249e-99e7-4a26-b39b-e6cafab16ad2",
   "metadata": {},
   "outputs": [],
   "source": [
    "import pandas as pd\n",
    "import lxml"
   ]
  },
  {
   "cell_type": "markdown",
   "id": "833c4e2a-929c-4a52-986e-2b1fb604c384",
   "metadata": {},
   "source": [
    "(2) 데이터 준비"
   ]
  },
  {
   "cell_type": "code",
   "execution_count": 12,
   "id": "1de76716-9c83-49e5-9e59-e8762dcc7136",
   "metadata": {},
   "outputs": [],
   "source": [
    "file = './test.html'"
   ]
  },
  {
   "cell_type": "markdown",
   "id": "ea2a153b-c79d-403f-b36a-b3aa89409b4a",
   "metadata": {},
   "source": [
    "(3) HTML => DataFrame 저장"
   ]
  },
  {
   "cell_type": "code",
   "execution_count": 16,
   "id": "3cd08094-92b3-4b6b-9726-ec911e676d28",
   "metadata": {},
   "outputs": [],
   "source": [
    "testDF = pd.read_html(file, encoding='utf8')"
   ]
  },
  {
   "cell_type": "code",
   "execution_count": 18,
   "id": "bee0360a-1672-4202-ad76-5801bb47bced",
   "metadata": {},
   "outputs": [
    {
     "data": {
      "text/plain": [
       "([    0      1   2\n",
       "  0  번호     이름  전공\n",
       "  1   1    홍길동  의적\n",
       "  2   2    마징가  로봇\n",
       "  3   4    베트맨  박쥐\n",
       "  4   5  스파이더맨  거미,\n",
       "       0     1   2\n",
       "  0  과일명    가격  수량\n",
       "  1   사과  1000  32\n",
       "  2  바나나  3000  10\n",
       "  3   수박  5800   2],\n",
       " list)"
      ]
     },
     "execution_count": 18,
     "metadata": {},
     "output_type": "execute_result"
    }
   ],
   "source": [
    "testDF, type(testDF)"
   ]
  },
  {
   "cell_type": "code",
   "execution_count": null,
   "id": "b3238628-5b2e-450e-8123-3e2375da9dd5",
   "metadata": {},
   "outputs": [],
   "source": []
  },
  {
   "cell_type": "code",
   "execution_count": null,
   "id": "768a2ce7-6f0d-4322-a491-e1e7bca6154a",
   "metadata": {},
   "outputs": [],
   "source": []
  }
 ],
 "metadata": {
  "kernelspec": {
   "display_name": "Python 3 (ipykernel)",
   "language": "python",
   "name": "python3"
  },
  "language_info": {
   "codemirror_mode": {
    "name": "ipython",
    "version": 3
   },
   "file_extension": ".py",
   "mimetype": "text/x-python",
   "name": "python",
   "nbconvert_exporter": "python",
   "pygments_lexer": "ipython3",
   "version": "3.8.18"
  }
 },
 "nbformat": 4,
 "nbformat_minor": 5
}
