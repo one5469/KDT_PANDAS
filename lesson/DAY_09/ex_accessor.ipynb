{
 "cells": [
  {
   "cell_type": "markdown",
   "id": "81b62c44-999a-4497-9d7f-ac5d35ce4c1d",
   "metadata": {},
   "source": [
    "## [ 접근자 Accessor ]\n",
    "- Series/DataFrame의 데이터가 날짜시간(datetime), 문자열(object), 범주형(Category)등의 경우 데이터타입과 관련된 전용의 함수들을 사용할 수 있도록 해주는 속성\n",
    "- Series.str.문자열처리관련함수명()\n",
    "- Series.dt.날짜시간처리관련속성명"
   ]
  },
  {
   "cell_type": "markdown",
   "id": "65fcc44a-3548-425d-8954-d1c49b3dd085",
   "metadata": {},
   "source": [
    "(1) 모듈로딩"
   ]
  },
  {
   "cell_type": "code",
   "execution_count": 41,
   "id": "9eac0963-ee64-441e-9598-1c5f0c1e3e17",
   "metadata": {},
   "outputs": [],
   "source": [
    "import pandas as pd"
   ]
  },
  {
   "cell_type": "markdown",
   "id": "df6c1f83-272f-4c9b-a32b-20d4a459959d",
   "metadata": {},
   "source": [
    "(2) 데이터 준비"
   ]
  },
  {
   "cell_type": "code",
   "execution_count": 42,
   "id": "7ce0a0ca-537a-4b93-bc67-c18e6599aa9b",
   "metadata": {},
   "outputs": [],
   "source": [
    "datas = {'name':[\" 홍 길동\", \"이 나영\", \"마 징가\", \"베 토벤\"], \n",
    "         \"age\":[10, 21, 73, 89],\n",
    "         \"reg_date\":['2000/01/23', '2020/11/8', '1999/5/4', '1987/12/23']}\n",
    "\n",
    "datas2 = [[\" 홍 길동\", \"이 나영\", \"마 징가\", \"베 토벤\"], \n",
    "         [10, 21, 73, 89],\n",
    "         ['2000/01/23', '2020/11/8', '1999/5/4', '1987/12/23']]"
   ]
  },
  {
   "cell_type": "markdown",
   "id": "bbebd3c4-814d-4cf7-ac54-acdaa8e1ff7b",
   "metadata": {},
   "source": [
    "(3) 데이터 저장"
   ]
  },
  {
   "cell_type": "code",
   "execution_count": 43,
   "id": "2d3b47ac-7031-4911-b158-aaa5aa78f7c5",
   "metadata": {},
   "outputs": [
    {
     "data": {
      "text/html": [
       "<div>\n",
       "<style scoped>\n",
       "    .dataframe tbody tr th:only-of-type {\n",
       "        vertical-align: middle;\n",
       "    }\n",
       "\n",
       "    .dataframe tbody tr th {\n",
       "        vertical-align: top;\n",
       "    }\n",
       "\n",
       "    .dataframe thead th {\n",
       "        text-align: right;\n",
       "    }\n",
       "</style>\n",
       "<table border=\"1\" class=\"dataframe\">\n",
       "  <thead>\n",
       "    <tr style=\"text-align: right;\">\n",
       "      <th></th>\n",
       "      <th>name</th>\n",
       "      <th>age</th>\n",
       "      <th>reg_date</th>\n",
       "    </tr>\n",
       "  </thead>\n",
       "  <tbody>\n",
       "    <tr>\n",
       "      <th>0</th>\n",
       "      <td>홍 길동</td>\n",
       "      <td>10</td>\n",
       "      <td>2000/01/23</td>\n",
       "    </tr>\n",
       "    <tr>\n",
       "      <th>1</th>\n",
       "      <td>이 나영</td>\n",
       "      <td>21</td>\n",
       "      <td>2020/11/8</td>\n",
       "    </tr>\n",
       "    <tr>\n",
       "      <th>2</th>\n",
       "      <td>마 징가</td>\n",
       "      <td>73</td>\n",
       "      <td>1999/5/4</td>\n",
       "    </tr>\n",
       "    <tr>\n",
       "      <th>3</th>\n",
       "      <td>베 토벤</td>\n",
       "      <td>89</td>\n",
       "      <td>1987/12/23</td>\n",
       "    </tr>\n",
       "  </tbody>\n",
       "</table>\n",
       "</div>"
      ],
      "text/plain": [
       "    name  age    reg_date\n",
       "0   홍 길동   10  2000/01/23\n",
       "1   이 나영   21   2020/11/8\n",
       "2   마 징가   73    1999/5/4\n",
       "3   베 토벤   89  1987/12/23"
      ]
     },
     "execution_count": 43,
     "metadata": {},
     "output_type": "execute_result"
    }
   ],
   "source": [
    "# Dict ==> DataFrame\n",
    "df1 = pd.DataFrame(datas)\n",
    "df1"
   ]
  },
  {
   "cell_type": "code",
   "execution_count": 44,
   "id": "041bc22d-2318-4e0b-bba4-a3400e06ec42",
   "metadata": {},
   "outputs": [
    {
     "data": {
      "text/html": [
       "<div>\n",
       "<style scoped>\n",
       "    .dataframe tbody tr th:only-of-type {\n",
       "        vertical-align: middle;\n",
       "    }\n",
       "\n",
       "    .dataframe tbody tr th {\n",
       "        vertical-align: top;\n",
       "    }\n",
       "\n",
       "    .dataframe thead th {\n",
       "        text-align: right;\n",
       "    }\n",
       "</style>\n",
       "<table border=\"1\" class=\"dataframe\">\n",
       "  <thead>\n",
       "    <tr style=\"text-align: right;\">\n",
       "      <th></th>\n",
       "      <th>0</th>\n",
       "      <th>1</th>\n",
       "      <th>2</th>\n",
       "      <th>3</th>\n",
       "    </tr>\n",
       "  </thead>\n",
       "  <tbody>\n",
       "    <tr>\n",
       "      <th>0</th>\n",
       "      <td>홍 길동</td>\n",
       "      <td>이 나영</td>\n",
       "      <td>마 징가</td>\n",
       "      <td>베 토벤</td>\n",
       "    </tr>\n",
       "    <tr>\n",
       "      <th>1</th>\n",
       "      <td>10</td>\n",
       "      <td>21</td>\n",
       "      <td>73</td>\n",
       "      <td>89</td>\n",
       "    </tr>\n",
       "    <tr>\n",
       "      <th>2</th>\n",
       "      <td>2000/01/23</td>\n",
       "      <td>2020/11/8</td>\n",
       "      <td>1999/5/4</td>\n",
       "      <td>1987/12/23</td>\n",
       "    </tr>\n",
       "  </tbody>\n",
       "</table>\n",
       "</div>"
      ],
      "text/plain": [
       "            0          1         2           3\n",
       "0        홍 길동       이 나영      마 징가        베 토벤\n",
       "1          10         21        73          89\n",
       "2  2000/01/23  2020/11/8  1999/5/4  1987/12/23"
      ]
     },
     "execution_count": 44,
     "metadata": {},
     "output_type": "execute_result"
    }
   ],
   "source": [
    "# List ==> DataFrame\n",
    "df2 = pd.DataFrame(datas2)\n",
    "df2"
   ]
  },
  {
   "cell_type": "markdown",
   "id": "18ab040e-ad6e-4c9a-b767-7109fe2ca9ee",
   "metadata": {},
   "source": [
    "(4) 데이터 정보 확인"
   ]
  },
  {
   "cell_type": "code",
   "execution_count": 45,
   "id": "76a8bdfe-d144-4805-826e-453351c06a70",
   "metadata": {},
   "outputs": [
    {
     "name": "stdout",
     "output_type": "stream",
     "text": [
      "<class 'pandas.core.frame.DataFrame'>\n",
      "RangeIndex: 3 entries, 0 to 2\n",
      "Data columns (total 4 columns):\n",
      " #   Column  Non-Null Count  Dtype \n",
      "---  ------  --------------  ----- \n",
      " 0   0       3 non-null      object\n",
      " 1   1       3 non-null      object\n",
      " 2   2       3 non-null      object\n",
      " 3   3       3 non-null      object\n",
      "dtypes: object(4)\n",
      "memory usage: 224.0+ bytes\n"
     ]
    }
   ],
   "source": [
    "# 데이터의 전체 기본 정보 => info()\n",
    "df2.info()"
   ]
  },
  {
   "cell_type": "markdown",
   "id": "a8ae2f03-3ae6-455b-9670-21fb773baf0b",
   "metadata": {},
   "source": [
    "(5) 데이터 전처리"
   ]
  },
  {
   "cell_type": "markdown",
   "id": "66fcce41-9379-478a-95f6-a85ce96ec98e",
   "metadata": {},
   "source": [
    "- (5-1) 행 <=> 열 치환"
   ]
  },
  {
   "cell_type": "code",
   "execution_count": 46,
   "id": "880fc0fe-71c9-4729-8658-4786b540c415",
   "metadata": {},
   "outputs": [
    {
     "data": {
      "text/html": [
       "<div>\n",
       "<style scoped>\n",
       "    .dataframe tbody tr th:only-of-type {\n",
       "        vertical-align: middle;\n",
       "    }\n",
       "\n",
       "    .dataframe tbody tr th {\n",
       "        vertical-align: top;\n",
       "    }\n",
       "\n",
       "    .dataframe thead th {\n",
       "        text-align: right;\n",
       "    }\n",
       "</style>\n",
       "<table border=\"1\" class=\"dataframe\">\n",
       "  <thead>\n",
       "    <tr style=\"text-align: right;\">\n",
       "      <th></th>\n",
       "      <th>0</th>\n",
       "      <th>1</th>\n",
       "      <th>2</th>\n",
       "    </tr>\n",
       "  </thead>\n",
       "  <tbody>\n",
       "    <tr>\n",
       "      <th>0</th>\n",
       "      <td>홍 길동</td>\n",
       "      <td>10</td>\n",
       "      <td>2000/01/23</td>\n",
       "    </tr>\n",
       "    <tr>\n",
       "      <th>1</th>\n",
       "      <td>이 나영</td>\n",
       "      <td>21</td>\n",
       "      <td>2020/11/8</td>\n",
       "    </tr>\n",
       "    <tr>\n",
       "      <th>2</th>\n",
       "      <td>마 징가</td>\n",
       "      <td>73</td>\n",
       "      <td>1999/5/4</td>\n",
       "    </tr>\n",
       "    <tr>\n",
       "      <th>3</th>\n",
       "      <td>베 토벤</td>\n",
       "      <td>89</td>\n",
       "      <td>1987/12/23</td>\n",
       "    </tr>\n",
       "  </tbody>\n",
       "</table>\n",
       "</div>"
      ],
      "text/plain": [
       "       0   1           2\n",
       "0   홍 길동  10  2000/01/23\n",
       "1   이 나영  21   2020/11/8\n",
       "2   마 징가  73    1999/5/4\n",
       "3   베 토벤  89  1987/12/23"
      ]
     },
     "execution_count": 46,
     "metadata": {},
     "output_type": "execute_result"
    }
   ],
   "source": [
    "df2 = df2.T\n",
    "df2"
   ]
  },
  {
   "cell_type": "markdown",
   "id": "0c78c4ef-7d92-477c-821e-9e10943b9985",
   "metadata": {},
   "source": [
    "- (5-2) 실제 데이터와 타입 확인 후 형변환"
   ]
  },
  {
   "cell_type": "code",
   "execution_count": 47,
   "id": "50b73fcf-a687-4237-8d0a-ba55d2a6e36c",
   "metadata": {},
   "outputs": [
    {
     "data": {
      "text/html": [
       "<div>\n",
       "<style scoped>\n",
       "    .dataframe tbody tr th:only-of-type {\n",
       "        vertical-align: middle;\n",
       "    }\n",
       "\n",
       "    .dataframe tbody tr th {\n",
       "        vertical-align: top;\n",
       "    }\n",
       "\n",
       "    .dataframe thead th {\n",
       "        text-align: right;\n",
       "    }\n",
       "</style>\n",
       "<table border=\"1\" class=\"dataframe\">\n",
       "  <thead>\n",
       "    <tr style=\"text-align: right;\">\n",
       "      <th></th>\n",
       "      <th>0</th>\n",
       "      <th>1</th>\n",
       "      <th>2</th>\n",
       "    </tr>\n",
       "  </thead>\n",
       "  <tbody>\n",
       "    <tr>\n",
       "      <th>0</th>\n",
       "      <td>홍 길동</td>\n",
       "      <td>10</td>\n",
       "      <td>2000/01/23</td>\n",
       "    </tr>\n",
       "    <tr>\n",
       "      <th>1</th>\n",
       "      <td>이 나영</td>\n",
       "      <td>21</td>\n",
       "      <td>2020/11/8</td>\n",
       "    </tr>\n",
       "    <tr>\n",
       "      <th>2</th>\n",
       "      <td>마 징가</td>\n",
       "      <td>73</td>\n",
       "      <td>1999/5/4</td>\n",
       "    </tr>\n",
       "    <tr>\n",
       "      <th>3</th>\n",
       "      <td>베 토벤</td>\n",
       "      <td>89</td>\n",
       "      <td>1987/12/23</td>\n",
       "    </tr>\n",
       "  </tbody>\n",
       "</table>\n",
       "</div>"
      ],
      "text/plain": [
       "       0   1           2\n",
       "0   홍 길동  10  2000/01/23\n",
       "1   이 나영  21   2020/11/8\n",
       "2   마 징가  73    1999/5/4\n",
       "3   베 토벤  89  1987/12/23"
      ]
     },
     "execution_count": 47,
     "metadata": {},
     "output_type": "execute_result"
    }
   ],
   "source": [
    "df2.head()"
   ]
  },
  {
   "cell_type": "code",
   "execution_count": 48,
   "id": "e1a70df3-62d2-4d21-85a6-776ba8d537df",
   "metadata": {},
   "outputs": [],
   "source": [
    "# 1번 컬럼 : object => 정수\n",
    "df2[1]=df2[1].astype('uint8')"
   ]
  },
  {
   "cell_type": "code",
   "execution_count": 49,
   "id": "f1092490-dfad-4a49-90f9-344219bc268d",
   "metadata": {},
   "outputs": [
    {
     "data": {
      "text/plain": [
       "0    object\n",
       "1     uint8\n",
       "2    object\n",
       "dtype: object"
      ]
     },
     "execution_count": 49,
     "metadata": {},
     "output_type": "execute_result"
    }
   ],
   "source": [
    "df2.dtypes"
   ]
  },
  {
   "cell_type": "code",
   "execution_count": 50,
   "id": "25e1b678-2962-4b1b-bc08-148b28cf8027",
   "metadata": {},
   "outputs": [],
   "source": [
    "# 2번 컬럼 : object => datetime64[ns]\n",
    "df2[2]=df2[2].astype('datetime64[ns]')"
   ]
  },
  {
   "cell_type": "code",
   "execution_count": 51,
   "id": "2ab96302-0b1c-4262-82f2-5ca2ede3a13e",
   "metadata": {},
   "outputs": [
    {
     "data": {
      "text/plain": [
       "0            object\n",
       "1             uint8\n",
       "2    datetime64[ns]\n",
       "dtype: object"
      ]
     },
     "execution_count": 51,
     "metadata": {},
     "output_type": "execute_result"
    }
   ],
   "source": [
    "df2.dtypes"
   ]
  },
  {
   "cell_type": "markdown",
   "id": "4b4b0372-601d-4379-aece-b28d65d52134",
   "metadata": {},
   "source": [
    "- (5-3) 0번 컬럼의 이름을 성과 이름으로 분리하기"
   ]
  },
  {
   "cell_type": "code",
   "execution_count": 52,
   "id": "ed6cfe67-484f-4974-86dd-ab24c72ad5c6",
   "metadata": {},
   "outputs": [
    {
     "data": {
      "text/plain": [
       "0     홍 길동\n",
       "1     이 나영\n",
       "2     마 징가\n",
       "3     베 토벤\n",
       "Name: 0, dtype: object"
      ]
     },
     "execution_count": 52,
     "metadata": {},
     "output_type": "execute_result"
    }
   ],
   "source": [
    "# 0번 컬럼만 추출 => Series\n",
    "nameSR = df2[0]\n",
    "nameSR"
   ]
  },
  {
   "cell_type": "code",
   "execution_count": 53,
   "id": "1d22916a-d9c9-4688-8d7e-0fc3f532d8f5",
   "metadata": {},
   "outputs": [
    {
     "data": {
      "text/plain": [
       "'이 나영'"
      ]
     },
     "execution_count": 53,
     "metadata": {},
     "output_type": "execute_result"
    }
   ],
   "source": [
    "# \"이 나영\" 데이터를 추출 => 성과 이름으로 분리\n",
    "nameSR[1]"
   ]
  },
  {
   "cell_type": "code",
   "execution_count": 54,
   "id": "35594424-0cec-4ff7-8c50-5be6c0d109d5",
   "metadata": {},
   "outputs": [
    {
     "data": {
      "text/html": [
       "<div>\n",
       "<style scoped>\n",
       "    .dataframe tbody tr th:only-of-type {\n",
       "        vertical-align: middle;\n",
       "    }\n",
       "\n",
       "    .dataframe tbody tr th {\n",
       "        vertical-align: top;\n",
       "    }\n",
       "\n",
       "    .dataframe thead th {\n",
       "        text-align: right;\n",
       "    }\n",
       "</style>\n",
       "<table border=\"1\" class=\"dataframe\">\n",
       "  <thead>\n",
       "    <tr style=\"text-align: right;\">\n",
       "      <th></th>\n",
       "      <th>0</th>\n",
       "      <th>1</th>\n",
       "    </tr>\n",
       "  </thead>\n",
       "  <tbody>\n",
       "    <tr>\n",
       "      <th>0</th>\n",
       "      <td>홍</td>\n",
       "      <td>길동</td>\n",
       "    </tr>\n",
       "    <tr>\n",
       "      <th>1</th>\n",
       "      <td>이</td>\n",
       "      <td>나영</td>\n",
       "    </tr>\n",
       "    <tr>\n",
       "      <th>2</th>\n",
       "      <td>마</td>\n",
       "      <td>징가</td>\n",
       "    </tr>\n",
       "    <tr>\n",
       "      <th>3</th>\n",
       "      <td>베</td>\n",
       "      <td>토벤</td>\n",
       "    </tr>\n",
       "  </tbody>\n",
       "</table>\n",
       "</div>"
      ],
      "text/plain": [
       "   0   1\n",
       "0  홍  길동\n",
       "1  이  나영\n",
       "2  마  징가\n",
       "3  베  토벤"
      ]
     },
     "execution_count": 54,
     "metadata": {},
     "output_type": "execute_result"
    }
   ],
   "source": [
    "namesDF = nameSR.str.split(expand=True)\n",
    "namesDF"
   ]
  },
  {
   "cell_type": "markdown",
   "id": "7256cca5-e3d4-47d6-a7ab-fc9cf9acf738",
   "metadata": {},
   "source": [
    "- (5-4) 두개의 DatafFrame을 컬럼방향으로 연결"
   ]
  },
  {
   "cell_type": "code",
   "execution_count": 55,
   "id": "86436091-c142-4459-a357-68378dcc28fa",
   "metadata": {},
   "outputs": [
    {
     "data": {
      "text/html": [
       "<div>\n",
       "<style scoped>\n",
       "    .dataframe tbody tr th:only-of-type {\n",
       "        vertical-align: middle;\n",
       "    }\n",
       "\n",
       "    .dataframe tbody tr th {\n",
       "        vertical-align: top;\n",
       "    }\n",
       "\n",
       "    .dataframe thead th {\n",
       "        text-align: right;\n",
       "    }\n",
       "</style>\n",
       "<table border=\"1\" class=\"dataframe\">\n",
       "  <thead>\n",
       "    <tr style=\"text-align: right;\">\n",
       "      <th></th>\n",
       "      <th>0</th>\n",
       "      <th>1</th>\n",
       "      <th>2</th>\n",
       "      <th>3</th>\n",
       "      <th>4</th>\n",
       "    </tr>\n",
       "  </thead>\n",
       "  <tbody>\n",
       "    <tr>\n",
       "      <th>0</th>\n",
       "      <td>홍 길동</td>\n",
       "      <td>10</td>\n",
       "      <td>2000-01-23</td>\n",
       "      <td>홍</td>\n",
       "      <td>길동</td>\n",
       "    </tr>\n",
       "    <tr>\n",
       "      <th>1</th>\n",
       "      <td>이 나영</td>\n",
       "      <td>21</td>\n",
       "      <td>2020-11-08</td>\n",
       "      <td>이</td>\n",
       "      <td>나영</td>\n",
       "    </tr>\n",
       "    <tr>\n",
       "      <th>2</th>\n",
       "      <td>마 징가</td>\n",
       "      <td>73</td>\n",
       "      <td>1999-05-04</td>\n",
       "      <td>마</td>\n",
       "      <td>징가</td>\n",
       "    </tr>\n",
       "    <tr>\n",
       "      <th>3</th>\n",
       "      <td>베 토벤</td>\n",
       "      <td>89</td>\n",
       "      <td>1987-12-23</td>\n",
       "      <td>베</td>\n",
       "      <td>토벤</td>\n",
       "    </tr>\n",
       "  </tbody>\n",
       "</table>\n",
       "</div>"
      ],
      "text/plain": [
       "       0   1          2  3   4\n",
       "0   홍 길동  10 2000-01-23  홍  길동\n",
       "1   이 나영  21 2020-11-08  이  나영\n",
       "2   마 징가  73 1999-05-04  마  징가\n",
       "3   베 토벤  89 1987-12-23  베  토벤"
      ]
     },
     "execution_count": 55,
     "metadata": {},
     "output_type": "execute_result"
    }
   ],
   "source": [
    "pd.concat([df2, namesDF], axis='columns', ignore_index=True)"
   ]
  },
  {
   "cell_type": "markdown",
   "id": "dcfe5d7f-d964-44d4-ac95-e9f3d979098b",
   "metadata": {},
   "source": [
    "- (5-5) 2번 컬럼에서 년, 월, 일을 분리"
   ]
  },
  {
   "cell_type": "code",
   "execution_count": 56,
   "id": "9958a700-500f-4ffe-baf6-2c9e629802bc",
   "metadata": {},
   "outputs": [
    {
     "data": {
      "text/plain": [
       "0   2000-01-23\n",
       "1   2020-11-08\n",
       "2   1999-05-04\n",
       "3   1987-12-23\n",
       "Name: 2, dtype: datetime64[ns]"
      ]
     },
     "execution_count": 56,
     "metadata": {},
     "output_type": "execute_result"
    }
   ],
   "source": [
    "df2[2]"
   ]
  },
  {
   "cell_type": "code",
   "execution_count": 57,
   "id": "0d554c3d-569b-49f6-92cb-50297e2f8023",
   "metadata": {},
   "outputs": [
    {
     "data": {
      "text/plain": [
       "0    2000\n",
       "1    2020\n",
       "2    1999\n",
       "3    1987\n",
       "Name: 2, dtype: int64"
      ]
     },
     "execution_count": 57,
     "metadata": {},
     "output_type": "execute_result"
    }
   ],
   "source": [
    "yearSR = df2[2].dt.year\n",
    "yearSR"
   ]
  },
  {
   "cell_type": "code",
   "execution_count": 58,
   "id": "38cf6f0f-769b-40c8-ac56-a242f97e1565",
   "metadata": {},
   "outputs": [
    {
     "data": {
      "text/plain": [
       "0     1\n",
       "1    11\n",
       "2     5\n",
       "3    12\n",
       "Name: 2, dtype: int64"
      ]
     },
     "execution_count": 58,
     "metadata": {},
     "output_type": "execute_result"
    }
   ],
   "source": [
    "monthSR = df2[2].dt.month\n",
    "monthSR"
   ]
  },
  {
   "cell_type": "code",
   "execution_count": 59,
   "id": "5c1d960d-1593-4e7d-b04a-cb088fc573a0",
   "metadata": {},
   "outputs": [
    {
     "data": {
      "text/plain": [
       "0    23\n",
       "1     8\n",
       "2     4\n",
       "3    23\n",
       "Name: 2, dtype: int64"
      ]
     },
     "execution_count": 59,
     "metadata": {},
     "output_type": "execute_result"
    }
   ],
   "source": [
    "daySR = df2[2].dt.day\n",
    "daySR"
   ]
  },
  {
   "cell_type": "code",
   "execution_count": 62,
   "id": "123e2e30-85cd-4e4f-9d50-8d72fa79c137",
   "metadata": {},
   "outputs": [
    {
     "data": {
      "text/html": [
       "<div>\n",
       "<style scoped>\n",
       "    .dataframe tbody tr th:only-of-type {\n",
       "        vertical-align: middle;\n",
       "    }\n",
       "\n",
       "    .dataframe tbody tr th {\n",
       "        vertical-align: top;\n",
       "    }\n",
       "\n",
       "    .dataframe thead th {\n",
       "        text-align: right;\n",
       "    }\n",
       "</style>\n",
       "<table border=\"1\" class=\"dataframe\">\n",
       "  <thead>\n",
       "    <tr style=\"text-align: right;\">\n",
       "      <th></th>\n",
       "      <th>0</th>\n",
       "      <th>1</th>\n",
       "      <th>2</th>\n",
       "      <th>3</th>\n",
       "      <th>4</th>\n",
       "      <th>5</th>\n",
       "    </tr>\n",
       "  </thead>\n",
       "  <tbody>\n",
       "    <tr>\n",
       "      <th>0</th>\n",
       "      <td>홍 길동</td>\n",
       "      <td>10</td>\n",
       "      <td>2000-01-23</td>\n",
       "      <td>2000</td>\n",
       "      <td>1</td>\n",
       "      <td>23</td>\n",
       "    </tr>\n",
       "    <tr>\n",
       "      <th>1</th>\n",
       "      <td>이 나영</td>\n",
       "      <td>21</td>\n",
       "      <td>2020-11-08</td>\n",
       "      <td>2020</td>\n",
       "      <td>11</td>\n",
       "      <td>8</td>\n",
       "    </tr>\n",
       "    <tr>\n",
       "      <th>2</th>\n",
       "      <td>마 징가</td>\n",
       "      <td>73</td>\n",
       "      <td>1999-05-04</td>\n",
       "      <td>1999</td>\n",
       "      <td>5</td>\n",
       "      <td>4</td>\n",
       "    </tr>\n",
       "    <tr>\n",
       "      <th>3</th>\n",
       "      <td>베 토벤</td>\n",
       "      <td>89</td>\n",
       "      <td>1987-12-23</td>\n",
       "      <td>1987</td>\n",
       "      <td>12</td>\n",
       "      <td>23</td>\n",
       "    </tr>\n",
       "  </tbody>\n",
       "</table>\n",
       "</div>"
      ],
      "text/plain": [
       "       0   1          2     3   4   5\n",
       "0   홍 길동  10 2000-01-23  2000   1  23\n",
       "1   이 나영  21 2020-11-08  2020  11   8\n",
       "2   마 징가  73 1999-05-04  1999   5   4\n",
       "3   베 토벤  89 1987-12-23  1987  12  23"
      ]
     },
     "execution_count": 62,
     "metadata": {},
     "output_type": "execute_result"
    }
   ],
   "source": [
    "pd.concat([df2, yearSR, monthSR, daySR], axis=1, ignore_index=True)"
   ]
  },
  {
   "cell_type": "markdown",
   "id": "e47d912e-5636-47e4-90b0-f4f2f0698b18",
   "metadata": {},
   "source": [
    "- (5-6) 현재 DataFrame을 파일로 저장하기 => pandas.to_XXX('파일경로+파일명')"
   ]
  },
  {
   "cell_type": "code",
   "execution_count": 63,
   "id": "1bd3d0fb-a4cd-43ec-8165-f80481aa8706",
   "metadata": {},
   "outputs": [],
   "source": [
    "# CSV ==> 데이터와 데이터의 구분자\n",
    "filename = \"./backup.csv\"       # \"backup.csv\""
   ]
  },
  {
   "cell_type": "code",
   "execution_count": 64,
   "id": "4a379c97-3ba3-479c-b511-5ebaf20f8f3d",
   "metadata": {},
   "outputs": [],
   "source": [
    "df2.to_csv(filename)"
   ]
  },
  {
   "cell_type": "code",
   "execution_count": null,
   "id": "96a4e730-c2f9-4602-b89b-cefd4abc5ba3",
   "metadata": {},
   "outputs": [],
   "source": []
  }
 ],
 "metadata": {
  "kernelspec": {
   "display_name": "Python 3 (ipykernel)",
   "language": "python",
   "name": "python3"
  },
  "language_info": {
   "codemirror_mode": {
    "name": "ipython",
    "version": 3
   },
   "file_extension": ".py",
   "mimetype": "text/x-python",
   "name": "python",
   "nbconvert_exporter": "python",
   "pygments_lexer": "ipython3",
   "version": "3.8.18"
  }
 },
 "nbformat": 4,
 "nbformat_minor": 5
}
