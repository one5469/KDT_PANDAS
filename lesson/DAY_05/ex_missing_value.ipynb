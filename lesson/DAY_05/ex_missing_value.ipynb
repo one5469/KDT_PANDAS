{
 "cells": [
  {
   "cell_type": "markdown",
   "id": "8aee4d78-09b4-4166-9b4f-7d6958901464",
   "metadata": {},
   "source": [
    "## [결측치 Missing value 처리]\n",
    "- 데이터 미입력 또는 데이터 저장 과정에서 지워진 데이터\n",
    "- 빈칸 의미\n",
    "- 표시 : NaN (Not a Number) NaT (Not a Text)\n",
    "- 표현 : numpy 모듈의 nan, math 모듈의 nan 사용"
   ]
  },
  {
   "cell_type": "markdown",
   "id": "96d57e60-8afc-440a-9bfb-5c682751caea",
   "metadata": {},
   "source": [
    "(1) 모듈 로딩"
   ]
  },
  {
   "cell_type": "code",
   "execution_count": 1,
   "id": "6cc1a510-6c67-4ba3-a8f1-7978db34c38f",
   "metadata": {},
   "outputs": [],
   "source": [
    "import pandas as pd\n",
    "import numpy as np"
   ]
  },
  {
   "cell_type": "markdown",
   "id": "a7b19b61-396b-4fa1-85f0-3d47d1f12d25",
   "metadata": {},
   "source": [
    "(2) 데이터 준비"
   ]
  },
  {
   "cell_type": "code",
   "execution_count": 2,
   "id": "8c3b3d45-5eec-4022-b503-fe5d057b3bb2",
   "metadata": {},
   "outputs": [],
   "source": [
    "file = '../DATA/employees.csv'"
   ]
  },
  {
   "cell_type": "markdown",
   "id": "416e786b-6fea-4809-b75a-e61c23ece219",
   "metadata": {},
   "source": [
    "(3) 데이터 저장 : csv => DataFrame"
   ]
  },
  {
   "cell_type": "code",
   "execution_count": 3,
   "id": "6749b315-7fc7-46c6-9d9c-772ebef4e13c",
   "metadata": {},
   "outputs": [],
   "source": [
    "# 구분자: ,  헤더 : 첫번째 줄 컬럼명\n",
    "empDF =  pd.read_csv(file)"
   ]
  },
  {
   "cell_type": "markdown",
   "id": "6828f083-dedd-4635-82e1-7dd653503704",
   "metadata": {},
   "source": [
    "(4) 데이터 확인"
   ]
  },
  {
   "cell_type": "code",
   "execution_count": 4,
   "id": "8e494731-7aa6-4c09-aad3-cf4a7c04c738",
   "metadata": {},
   "outputs": [
    {
     "name": "stdout",
     "output_type": "stream",
     "text": [
      "<class 'pandas.core.frame.DataFrame'>\n",
      "RangeIndex: 1001 entries, 0 to 1000\n",
      "Data columns (total 6 columns):\n",
      " #   Column      Non-Null Count  Dtype  \n",
      "---  ------      --------------  -----  \n",
      " 0   First Name  933 non-null    object \n",
      " 1   Gender      854 non-null    object \n",
      " 2   Start Date  999 non-null    object \n",
      " 3   Salary      999 non-null    float64\n",
      " 4   Mgmt        933 non-null    object \n",
      " 5   Team        957 non-null    object \n",
      "dtypes: float64(1), object(5)\n",
      "memory usage: 47.0+ KB\n"
     ]
    }
   ],
   "source": [
    "# 데이터의 전반적인 요약정보 확인 => info() 메소드\n",
    "# - 컬럼별 결측치 여부 확인 ==> 실제 데이터에서 결측치 체크 & 처리\n",
    "# - 컬럼별 데이터 타입과 실제 데이터 타입 비교 ==> 타입 다른 경우, 타입 변환\n",
    "empDF.info()"
   ]
  },
  {
   "cell_type": "markdown",
   "id": "4752bbde-0415-4a51-a029-092b5d16dd7a",
   "metadata": {},
   "source": [
    "- 데이터의 컬럼별 분포 확인 => describe() : 컬럼별 기술통계값"
   ]
  },
  {
   "cell_type": "code",
   "execution_count": 5,
   "id": "9040843e-843d-491a-90de-47d43b2f8282",
   "metadata": {},
   "outputs": [
    {
     "data": {
      "text/html": [
       "<div>\n",
       "<style scoped>\n",
       "    .dataframe tbody tr th:only-of-type {\n",
       "        vertical-align: middle;\n",
       "    }\n",
       "\n",
       "    .dataframe tbody tr th {\n",
       "        vertical-align: top;\n",
       "    }\n",
       "\n",
       "    .dataframe thead th {\n",
       "        text-align: right;\n",
       "    }\n",
       "</style>\n",
       "<table border=\"1\" class=\"dataframe\">\n",
       "  <thead>\n",
       "    <tr style=\"text-align: right;\">\n",
       "      <th></th>\n",
       "      <th>Salary</th>\n",
       "    </tr>\n",
       "  </thead>\n",
       "  <tbody>\n",
       "    <tr>\n",
       "      <th>count</th>\n",
       "      <td>999.000000</td>\n",
       "    </tr>\n",
       "    <tr>\n",
       "      <th>mean</th>\n",
       "      <td>90655.528529</td>\n",
       "    </tr>\n",
       "    <tr>\n",
       "      <th>std</th>\n",
       "      <td>32939.511615</td>\n",
       "    </tr>\n",
       "    <tr>\n",
       "      <th>min</th>\n",
       "      <td>35013.000000</td>\n",
       "    </tr>\n",
       "    <tr>\n",
       "      <th>25%</th>\n",
       "      <td>62560.000000</td>\n",
       "    </tr>\n",
       "    <tr>\n",
       "      <th>50%</th>\n",
       "      <td>90427.000000</td>\n",
       "    </tr>\n",
       "    <tr>\n",
       "      <th>75%</th>\n",
       "      <td>118744.500000</td>\n",
       "    </tr>\n",
       "    <tr>\n",
       "      <th>max</th>\n",
       "      <td>149908.000000</td>\n",
       "    </tr>\n",
       "  </tbody>\n",
       "</table>\n",
       "</div>"
      ],
      "text/plain": [
       "              Salary\n",
       "count     999.000000\n",
       "mean    90655.528529\n",
       "std     32939.511615\n",
       "min     35013.000000\n",
       "25%     62560.000000\n",
       "50%     90427.000000\n",
       "75%    118744.500000\n",
       "max    149908.000000"
      ]
     },
     "execution_count": 5,
     "metadata": {},
     "output_type": "execute_result"
    }
   ],
   "source": [
    "empDF.describe()"
   ]
  },
  {
   "cell_type": "code",
   "execution_count": 6,
   "id": "59b68580-a82e-46b7-bdae-97730672dbfd",
   "metadata": {},
   "outputs": [
    {
     "name": "stdout",
     "output_type": "stream",
     "text": [
      "     Salary\n",
      "0   86676.0\n",
      "1   91462.0\n",
      "2  121160.0\n",
      "3  145988.0\n",
      "4  147183.0\n",
      "\n",
      "Salary    90427.0\n",
      "dtype: float64\n",
      "\n",
      "Salary    90655.528529\n",
      "dtype: float64\n"
     ]
    }
   ],
   "source": [
    "# 최빈값 => mode(), 중앙값 => median()\n",
    "print(empDF.mode(numeric_only=True), empDF.median(numeric_only=True), empDF.mean(numeric_only=True), sep='\\n\\n')"
   ]
  },
  {
   "cell_type": "markdown",
   "id": "59148d8a-d038-42f3-8871-2ac00cc4b3b2",
   "metadata": {},
   "source": [
    "(5) 데이터 전처리(Preprocessing) => 가. 결측치 처리"
   ]
  },
  {
   "cell_type": "markdown",
   "id": "7650a675-31f7-48a6-a844-73914c0b9035",
   "metadata": {},
   "source": [
    "- 결측치 확인 ==> isna(), isnull() : 원소 단위로 검사 후 결측치 인 경우 True 반환"
   ]
  },
  {
   "cell_type": "code",
   "execution_count": 7,
   "id": "bdbf8635-1fd2-4600-85d3-fc80262e87af",
   "metadata": {},
   "outputs": [
    {
     "data": {
      "text/plain": [
       "Index(['First Name', 'Gender', 'Start Date', 'Salary', 'Mgmt', 'Team'], dtype='object')"
      ]
     },
     "execution_count": 7,
     "metadata": {},
     "output_type": "execute_result"
    }
   ],
   "source": [
    "empDF.columns"
   ]
  },
  {
   "cell_type": "code",
   "execution_count": 8,
   "id": "321b02bb-67ce-4177-b25f-b092ee3132d5",
   "metadata": {},
   "outputs": [
    {
     "data": {
      "text/html": [
       "<div>\n",
       "<style scoped>\n",
       "    .dataframe tbody tr th:only-of-type {\n",
       "        vertical-align: middle;\n",
       "    }\n",
       "\n",
       "    .dataframe tbody tr th {\n",
       "        vertical-align: top;\n",
       "    }\n",
       "\n",
       "    .dataframe thead th {\n",
       "        text-align: right;\n",
       "    }\n",
       "</style>\n",
       "<table border=\"1\" class=\"dataframe\">\n",
       "  <thead>\n",
       "    <tr style=\"text-align: right;\">\n",
       "      <th></th>\n",
       "      <th>First Name</th>\n",
       "      <th>Gender</th>\n",
       "      <th>Start Date</th>\n",
       "      <th>Salary</th>\n",
       "      <th>Mgmt</th>\n",
       "      <th>Team</th>\n",
       "    </tr>\n",
       "  </thead>\n",
       "  <tbody>\n",
       "    <tr>\n",
       "      <th>0</th>\n",
       "      <td>False</td>\n",
       "      <td>False</td>\n",
       "      <td>False</td>\n",
       "      <td>True</td>\n",
       "      <td>False</td>\n",
       "      <td>False</td>\n",
       "    </tr>\n",
       "    <tr>\n",
       "      <th>1</th>\n",
       "      <td>False</td>\n",
       "      <td>False</td>\n",
       "      <td>False</td>\n",
       "      <td>False</td>\n",
       "      <td>False</td>\n",
       "      <td>True</td>\n",
       "    </tr>\n",
       "    <tr>\n",
       "      <th>2</th>\n",
       "      <td>False</td>\n",
       "      <td>False</td>\n",
       "      <td>True</td>\n",
       "      <td>False</td>\n",
       "      <td>False</td>\n",
       "      <td>False</td>\n",
       "    </tr>\n",
       "    <tr>\n",
       "      <th>3</th>\n",
       "      <td>False</td>\n",
       "      <td>True</td>\n",
       "      <td>False</td>\n",
       "      <td>False</td>\n",
       "      <td>False</td>\n",
       "      <td>False</td>\n",
       "    </tr>\n",
       "    <tr>\n",
       "      <th>4</th>\n",
       "      <td>False</td>\n",
       "      <td>False</td>\n",
       "      <td>False</td>\n",
       "      <td>False</td>\n",
       "      <td>False</td>\n",
       "      <td>False</td>\n",
       "    </tr>\n",
       "    <tr>\n",
       "      <th>...</th>\n",
       "      <td>...</td>\n",
       "      <td>...</td>\n",
       "      <td>...</td>\n",
       "      <td>...</td>\n",
       "      <td>...</td>\n",
       "      <td>...</td>\n",
       "    </tr>\n",
       "    <tr>\n",
       "      <th>996</th>\n",
       "      <td>False</td>\n",
       "      <td>False</td>\n",
       "      <td>False</td>\n",
       "      <td>False</td>\n",
       "      <td>False</td>\n",
       "      <td>False</td>\n",
       "    </tr>\n",
       "    <tr>\n",
       "      <th>997</th>\n",
       "      <td>False</td>\n",
       "      <td>False</td>\n",
       "      <td>False</td>\n",
       "      <td>False</td>\n",
       "      <td>False</td>\n",
       "      <td>False</td>\n",
       "    </tr>\n",
       "    <tr>\n",
       "      <th>998</th>\n",
       "      <td>False</td>\n",
       "      <td>False</td>\n",
       "      <td>False</td>\n",
       "      <td>False</td>\n",
       "      <td>False</td>\n",
       "      <td>False</td>\n",
       "    </tr>\n",
       "    <tr>\n",
       "      <th>999</th>\n",
       "      <td>False</td>\n",
       "      <td>False</td>\n",
       "      <td>False</td>\n",
       "      <td>False</td>\n",
       "      <td>False</td>\n",
       "      <td>False</td>\n",
       "    </tr>\n",
       "    <tr>\n",
       "      <th>1000</th>\n",
       "      <td>True</td>\n",
       "      <td>True</td>\n",
       "      <td>True</td>\n",
       "      <td>True</td>\n",
       "      <td>True</td>\n",
       "      <td>True</td>\n",
       "    </tr>\n",
       "  </tbody>\n",
       "</table>\n",
       "<p>1001 rows × 6 columns</p>\n",
       "</div>"
      ],
      "text/plain": [
       "      First Name  Gender  Start Date  Salary   Mgmt   Team\n",
       "0          False   False       False    True  False  False\n",
       "1          False   False       False   False  False   True\n",
       "2          False   False        True   False  False  False\n",
       "3          False    True       False   False  False  False\n",
       "4          False   False       False   False  False  False\n",
       "...          ...     ...         ...     ...    ...    ...\n",
       "996        False   False       False   False  False  False\n",
       "997        False   False       False   False  False  False\n",
       "998        False   False       False   False  False  False\n",
       "999        False   False       False   False  False  False\n",
       "1000        True    True        True    True   True   True\n",
       "\n",
       "[1001 rows x 6 columns]"
      ]
     },
     "execution_count": 8,
     "metadata": {},
     "output_type": "execute_result"
    }
   ],
   "source": [
    "# 전체 데이터의 컬럼별 결측치 체크\n",
    "empDF.isna()"
   ]
  },
  {
   "cell_type": "code",
   "execution_count": 9,
   "id": "39bdf355-3d3c-4109-be90-2a3b26b803d1",
   "metadata": {},
   "outputs": [
    {
     "data": {
      "text/plain": [
       "First Name     68\n",
       "Gender        147\n",
       "Start Date      2\n",
       "Salary          2\n",
       "Mgmt           68\n",
       "Team           44\n",
       "dtype: int64"
      ]
     },
     "execution_count": 9,
     "metadata": {},
     "output_type": "execute_result"
    }
   ],
   "source": [
    "# 전체 데이터의 컬럼별 결측치 체크 후 갯수 파악 => 합계\n",
    "empDF.isna().sum()"
   ]
  },
  {
   "cell_type": "markdown",
   "id": "72402b12-a75d-4915-98b6-fae8708ee6b1",
   "metadata": {},
   "source": [
    "- 결측치 확인 ==> notna(), notnull() : 결측치가 아니면 True 반환"
   ]
  },
  {
   "cell_type": "code",
   "execution_count": 10,
   "id": "2e63ba07-3a76-4859-9703-cdb8976bb1b7",
   "metadata": {},
   "outputs": [
    {
     "data": {
      "text/html": [
       "<div>\n",
       "<style scoped>\n",
       "    .dataframe tbody tr th:only-of-type {\n",
       "        vertical-align: middle;\n",
       "    }\n",
       "\n",
       "    .dataframe tbody tr th {\n",
       "        vertical-align: top;\n",
       "    }\n",
       "\n",
       "    .dataframe thead th {\n",
       "        text-align: right;\n",
       "    }\n",
       "</style>\n",
       "<table border=\"1\" class=\"dataframe\">\n",
       "  <thead>\n",
       "    <tr style=\"text-align: right;\">\n",
       "      <th></th>\n",
       "      <th>First Name</th>\n",
       "      <th>Gender</th>\n",
       "      <th>Start Date</th>\n",
       "      <th>Salary</th>\n",
       "      <th>Mgmt</th>\n",
       "      <th>Team</th>\n",
       "    </tr>\n",
       "  </thead>\n",
       "  <tbody>\n",
       "    <tr>\n",
       "      <th>0</th>\n",
       "      <td>True</td>\n",
       "      <td>True</td>\n",
       "      <td>True</td>\n",
       "      <td>False</td>\n",
       "      <td>True</td>\n",
       "      <td>True</td>\n",
       "    </tr>\n",
       "    <tr>\n",
       "      <th>1</th>\n",
       "      <td>True</td>\n",
       "      <td>True</td>\n",
       "      <td>True</td>\n",
       "      <td>True</td>\n",
       "      <td>True</td>\n",
       "      <td>False</td>\n",
       "    </tr>\n",
       "    <tr>\n",
       "      <th>2</th>\n",
       "      <td>True</td>\n",
       "      <td>True</td>\n",
       "      <td>False</td>\n",
       "      <td>True</td>\n",
       "      <td>True</td>\n",
       "      <td>True</td>\n",
       "    </tr>\n",
       "    <tr>\n",
       "      <th>3</th>\n",
       "      <td>True</td>\n",
       "      <td>False</td>\n",
       "      <td>True</td>\n",
       "      <td>True</td>\n",
       "      <td>True</td>\n",
       "      <td>True</td>\n",
       "    </tr>\n",
       "    <tr>\n",
       "      <th>4</th>\n",
       "      <td>True</td>\n",
       "      <td>True</td>\n",
       "      <td>True</td>\n",
       "      <td>True</td>\n",
       "      <td>True</td>\n",
       "      <td>True</td>\n",
       "    </tr>\n",
       "    <tr>\n",
       "      <th>...</th>\n",
       "      <td>...</td>\n",
       "      <td>...</td>\n",
       "      <td>...</td>\n",
       "      <td>...</td>\n",
       "      <td>...</td>\n",
       "      <td>...</td>\n",
       "    </tr>\n",
       "    <tr>\n",
       "      <th>996</th>\n",
       "      <td>True</td>\n",
       "      <td>True</td>\n",
       "      <td>True</td>\n",
       "      <td>True</td>\n",
       "      <td>True</td>\n",
       "      <td>True</td>\n",
       "    </tr>\n",
       "    <tr>\n",
       "      <th>997</th>\n",
       "      <td>True</td>\n",
       "      <td>True</td>\n",
       "      <td>True</td>\n",
       "      <td>True</td>\n",
       "      <td>True</td>\n",
       "      <td>True</td>\n",
       "    </tr>\n",
       "    <tr>\n",
       "      <th>998</th>\n",
       "      <td>True</td>\n",
       "      <td>True</td>\n",
       "      <td>True</td>\n",
       "      <td>True</td>\n",
       "      <td>True</td>\n",
       "      <td>True</td>\n",
       "    </tr>\n",
       "    <tr>\n",
       "      <th>999</th>\n",
       "      <td>True</td>\n",
       "      <td>True</td>\n",
       "      <td>True</td>\n",
       "      <td>True</td>\n",
       "      <td>True</td>\n",
       "      <td>True</td>\n",
       "    </tr>\n",
       "    <tr>\n",
       "      <th>1000</th>\n",
       "      <td>False</td>\n",
       "      <td>False</td>\n",
       "      <td>False</td>\n",
       "      <td>False</td>\n",
       "      <td>False</td>\n",
       "      <td>False</td>\n",
       "    </tr>\n",
       "  </tbody>\n",
       "</table>\n",
       "<p>1001 rows × 6 columns</p>\n",
       "</div>"
      ],
      "text/plain": [
       "      First Name  Gender  Start Date  Salary   Mgmt   Team\n",
       "0           True    True        True   False   True   True\n",
       "1           True    True        True    True   True  False\n",
       "2           True    True       False    True   True   True\n",
       "3           True   False        True    True   True   True\n",
       "4           True    True        True    True   True   True\n",
       "...          ...     ...         ...     ...    ...    ...\n",
       "996         True    True        True    True   True   True\n",
       "997         True    True        True    True   True   True\n",
       "998         True    True        True    True   True   True\n",
       "999         True    True        True    True   True   True\n",
       "1000       False   False       False   False  False  False\n",
       "\n",
       "[1001 rows x 6 columns]"
      ]
     },
     "execution_count": 10,
     "metadata": {},
     "output_type": "execute_result"
    }
   ],
   "source": [
    "empDF.notna()"
   ]
  },
  {
   "cell_type": "code",
   "execution_count": 11,
   "id": "3724e8e7-fddd-4363-a5d7-a980fa42ffea",
   "metadata": {},
   "outputs": [
    {
     "data": {
      "text/plain": [
       "First Name    933\n",
       "Gender        854\n",
       "Start Date    999\n",
       "Salary        999\n",
       "Mgmt          933\n",
       "Team          957\n",
       "dtype: int64"
      ]
     },
     "execution_count": 11,
     "metadata": {},
     "output_type": "execute_result"
    }
   ],
   "source": [
    "empDF.notna().sum()"
   ]
  },
  {
   "cell_type": "markdown",
   "id": "a0c9b701-34d6-4f7e-ae1e-84f7165a6cae",
   "metadata": {},
   "source": [
    "- 결측치 처리 ==> (1) 삭제 : dropna()"
   ]
  },
  {
   "cell_type": "code",
   "execution_count": 12,
   "id": "9a928c12-f302-487d-a013-bb9d73fa3fb1",
   "metadata": {},
   "outputs": [
    {
     "name": "stdout",
     "output_type": "stream",
     "text": [
      "(1001, 6) (761, 6)\n"
     ]
    }
   ],
   "source": [
    "# [기본] 모든 행에 1개의 값이라도 NaN이면 삭제\n",
    "empDF2 = empDF.dropna()\n",
    "print(empDF.shape, empDF2.shape)"
   ]
  },
  {
   "cell_type": "code",
   "execution_count": 13,
   "id": "aa9b0927-6138-4cc0-b751-775f0486b1ab",
   "metadata": {},
   "outputs": [
    {
     "name": "stdout",
     "output_type": "stream",
     "text": [
      "(1001, 6) (1000, 6)\n"
     ]
    }
   ],
   "source": [
    "# [설정] 행에 모든 데이터 즉 값이 NaN이면 삭제\n",
    "empDF3 = empDF.dropna(how='all')\n",
    "print(empDF.shape, empDF3.shape)"
   ]
  },
  {
   "cell_type": "code",
   "execution_count": 14,
   "id": "99069889-3c4b-492b-a6a5-e0ecf1fc846d",
   "metadata": {},
   "outputs": [
    {
     "name": "stdout",
     "output_type": "stream",
     "text": [
      "(1001, 6) (853, 6)\n"
     ]
    }
   ],
   "source": [
    "# [설정] 특정 컬럼의 NaN만 체크 후 삭제하는 방법\n",
    "empDF4 = empDF.dropna(subset=['Gender', 'Salary'])\n",
    "print(empDF.shape, empDF4.shape)"
   ]
  },
  {
   "cell_type": "code",
   "execution_count": 15,
   "id": "902dfdf4-d478-40af-b3f0-d31801ed8869",
   "metadata": {},
   "outputs": [
    {
     "name": "stdout",
     "output_type": "stream",
     "text": [
      "(1001, 6) (1001, 5) Index(['First Name', 'Start Date', 'Salary', 'Mgmt', 'Team'], dtype='object')\n"
     ]
    }
   ],
   "source": [
    "# [설정] 컬럼별 정상데이터 즉 NaN이 아닌 데이터의 갯수를 지정 후 해당 수 만큼 정상 데이터가 없는 컬럼 삭제\n",
    "empDF5 = empDF.dropna(thresh=900, axis='columns')\n",
    "print(empDF.shape, empDF5.shape, empDF5.columns)"
   ]
  },
  {
   "cell_type": "markdown",
   "id": "402d8a06-fd52-49b4-9928-5b04bdda171c",
   "metadata": {},
   "source": [
    "- 결측치 처리 => 대체 : fillna()"
   ]
  },
  {
   "cell_type": "code",
   "execution_count": 16,
   "id": "550cbc78-3186-4d57-82f8-2779237715ab",
   "metadata": {},
   "outputs": [
    {
     "data": {
      "text/html": [
       "<div>\n",
       "<style scoped>\n",
       "    .dataframe tbody tr th:only-of-type {\n",
       "        vertical-align: middle;\n",
       "    }\n",
       "\n",
       "    .dataframe tbody tr th {\n",
       "        vertical-align: top;\n",
       "    }\n",
       "\n",
       "    .dataframe thead th {\n",
       "        text-align: right;\n",
       "    }\n",
       "</style>\n",
       "<table border=\"1\" class=\"dataframe\">\n",
       "  <thead>\n",
       "    <tr style=\"text-align: right;\">\n",
       "      <th></th>\n",
       "      <th>First Name</th>\n",
       "      <th>Gender</th>\n",
       "      <th>Start Date</th>\n",
       "      <th>Salary</th>\n",
       "      <th>Mgmt</th>\n",
       "      <th>Team</th>\n",
       "    </tr>\n",
       "  </thead>\n",
       "  <tbody>\n",
       "    <tr>\n",
       "      <th>count</th>\n",
       "      <td>933</td>\n",
       "      <td>854</td>\n",
       "      <td>999</td>\n",
       "      <td>999.0</td>\n",
       "      <td>933</td>\n",
       "      <td>957</td>\n",
       "    </tr>\n",
       "    <tr>\n",
       "      <th>unique</th>\n",
       "      <td>200</td>\n",
       "      <td>2</td>\n",
       "      <td>971</td>\n",
       "      <td>NaN</td>\n",
       "      <td>2</td>\n",
       "      <td>10</td>\n",
       "    </tr>\n",
       "    <tr>\n",
       "      <th>top</th>\n",
       "      <td>Marilyn</td>\n",
       "      <td>Female</td>\n",
       "      <td>10/30/04</td>\n",
       "      <td>NaN</td>\n",
       "      <td>True</td>\n",
       "      <td>IT</td>\n",
       "    </tr>\n",
       "    <tr>\n",
       "      <th>freq</th>\n",
       "      <td>11</td>\n",
       "      <td>431</td>\n",
       "      <td>2</td>\n",
       "      <td>NaN</td>\n",
       "      <td>468</td>\n",
       "      <td>106</td>\n",
       "    </tr>\n",
       "  </tbody>\n",
       "</table>\n",
       "</div>"
      ],
      "text/plain": [
       "       First Name  Gender Start Date  Salary  Mgmt Team\n",
       "count         933     854        999   999.0   933  957\n",
       "unique        200       2        971     NaN     2   10\n",
       "top       Marilyn  Female   10/30/04     NaN  True   IT\n",
       "freq           11     431          2     NaN   468  106"
      ]
     },
     "execution_count": 16,
     "metadata": {},
     "output_type": "execute_result"
    }
   ],
   "source": [
    "# Gender 컬럼에 결측 값을 무엇으로 채울지???\n",
    "empDF.describe(include='all').head(4)"
   ]
  },
  {
   "cell_type": "code",
   "execution_count": 17,
   "id": "88e0e885-50e4-4718-9f4f-6956e30364e2",
   "metadata": {},
   "outputs": [
    {
     "data": {
      "text/plain": [
       "0    Female\n",
       "Name: Gender, dtype: object"
      ]
     },
     "execution_count": 17,
     "metadata": {},
     "output_type": "execute_result"
    }
   ],
   "source": [
    "# ==> 컬럼의 최빈값으로 na 채우기\n",
    "empDF.Gender.mode()"
   ]
  },
  {
   "cell_type": "code",
   "execution_count": 18,
   "id": "b7466641-6c53-494a-8568-1890c3c23f3c",
   "metadata": {},
   "outputs": [
    {
     "data": {
      "text/plain": [
       "0"
      ]
     },
     "execution_count": 18,
     "metadata": {},
     "output_type": "execute_result"
    }
   ],
   "source": [
    "genSR = empDF.Gender.fillna(empDF.Gender.mode()[0])\n",
    "genSR.isna().sum()"
   ]
  },
  {
   "cell_type": "code",
   "execution_count": 19,
   "id": "02100801-aa2c-4bc8-8bbd-f8496e8cb57d",
   "metadata": {},
   "outputs": [
    {
     "data": {
      "text/plain": [
       "0         Male\n",
       "1         Male\n",
       "2       Female\n",
       "3       Female\n",
       "4         Male\n",
       "         ...  \n",
       "996       Male\n",
       "997       Male\n",
       "998       Male\n",
       "999       Male\n",
       "1000      Male\n",
       "Name: Gender, Length: 1001, dtype: object"
      ]
     },
     "execution_count": 19,
     "metadata": {},
     "output_type": "execute_result"
    }
   ],
   "source": [
    "# ==> NaN값 이전과 이후 값으로 채우기 => method='ffill', method='bfill'\n",
    "empDF.Gender.fillna(method='ffill')"
   ]
  },
  {
   "cell_type": "code",
   "execution_count": 20,
   "id": "05018292-86d5-4191-9269-b6079f566dae",
   "metadata": {},
   "outputs": [
    {
     "data": {
      "text/html": [
       "<div>\n",
       "<style scoped>\n",
       "    .dataframe tbody tr th:only-of-type {\n",
       "        vertical-align: middle;\n",
       "    }\n",
       "\n",
       "    .dataframe tbody tr th {\n",
       "        vertical-align: top;\n",
       "    }\n",
       "\n",
       "    .dataframe thead th {\n",
       "        text-align: right;\n",
       "    }\n",
       "</style>\n",
       "<table border=\"1\" class=\"dataframe\">\n",
       "  <thead>\n",
       "    <tr style=\"text-align: right;\">\n",
       "      <th></th>\n",
       "      <th>A</th>\n",
       "      <th>B</th>\n",
       "      <th>C</th>\n",
       "      <th>D</th>\n",
       "    </tr>\n",
       "  </thead>\n",
       "  <tbody>\n",
       "    <tr>\n",
       "      <th>0</th>\n",
       "      <td>NaN</td>\n",
       "      <td>2.0</td>\n",
       "      <td>NaN</td>\n",
       "      <td>0.0</td>\n",
       "    </tr>\n",
       "    <tr>\n",
       "      <th>1</th>\n",
       "      <td>3.0</td>\n",
       "      <td>4.0</td>\n",
       "      <td>NaN</td>\n",
       "      <td>1.0</td>\n",
       "    </tr>\n",
       "    <tr>\n",
       "      <th>2</th>\n",
       "      <td>NaN</td>\n",
       "      <td>NaN</td>\n",
       "      <td>NaN</td>\n",
       "      <td>NaN</td>\n",
       "    </tr>\n",
       "    <tr>\n",
       "      <th>3</th>\n",
       "      <td>NaN</td>\n",
       "      <td>3.0</td>\n",
       "      <td>NaN</td>\n",
       "      <td>4.0</td>\n",
       "    </tr>\n",
       "  </tbody>\n",
       "</table>\n",
       "</div>"
      ],
      "text/plain": [
       "     A    B   C    D\n",
       "0  NaN  2.0 NaN  0.0\n",
       "1  3.0  4.0 NaN  1.0\n",
       "2  NaN  NaN NaN  NaN\n",
       "3  NaN  3.0 NaN  4.0"
      ]
     },
     "execution_count": 20,
     "metadata": {},
     "output_type": "execute_result"
    }
   ],
   "source": [
    "df = pd.DataFrame([[np.nan, 2, np.nan, 0],\n",
    "                    [3, 4, np.nan, 1],\n",
    "                    [np.nan, np.nan, np.nan, np.nan],\n",
    "                    [np.nan, 3, np.nan, 4]],\n",
    "                   columns=list(\"ABCD\"))\n",
    "df"
   ]
  },
  {
   "cell_type": "code",
   "execution_count": 21,
   "id": "032bf057-26fc-44de-b4e9-55af8a1caf59",
   "metadata": {},
   "outputs": [
    {
     "data": {
      "text/plain": [
       "0    NaN\n",
       "1    3.0\n",
       "2    3.0\n",
       "3    3.0\n",
       "Name: A, dtype: float64"
      ]
     },
     "execution_count": 21,
     "metadata": {},
     "output_type": "execute_result"
    }
   ],
   "source": [
    "df.A.fillna(method='ffill')"
   ]
  },
  {
   "cell_type": "code",
   "execution_count": 22,
   "id": "ae2d3643-d19c-4245-b49e-c64c14696836",
   "metadata": {},
   "outputs": [
    {
     "data": {
      "text/plain": [
       "0    NaN\n",
       "1    3.0\n",
       "2    3.0\n",
       "3    NaN\n",
       "Name: A, dtype: float64"
      ]
     },
     "execution_count": 22,
     "metadata": {},
     "output_type": "execute_result"
    }
   ],
   "source": [
    "df.A.fillna(method='ffill', limit=1)"
   ]
  },
  {
   "cell_type": "code",
   "execution_count": 23,
   "id": "947fda2d-ec0c-454d-b121-e4c085853b44",
   "metadata": {},
   "outputs": [
    {
     "data": {
      "text/plain": [
       "0    3.0\n",
       "1    3.0\n",
       "2    NaN\n",
       "3    NaN\n",
       "Name: A, dtype: float64"
      ]
     },
     "execution_count": 23,
     "metadata": {},
     "output_type": "execute_result"
    }
   ],
   "source": [
    "df.A.fillna(method='bfill')"
   ]
  },
  {
   "cell_type": "code",
   "execution_count": 24,
   "id": "8d5438b6-9990-4b1e-a69f-9788f21c2d9f",
   "metadata": {},
   "outputs": [
    {
     "data": {
      "text/plain": [
       "0    2.0\n",
       "1    4.0\n",
       "2    3.0\n",
       "3    3.0\n",
       "Name: B, dtype: float64"
      ]
     },
     "execution_count": 24,
     "metadata": {},
     "output_type": "execute_result"
    }
   ],
   "source": [
    "# B 컬럼과 D 컬럼을 평균으로 결측치를 대체\n",
    "df.B.fillna(df.B.mean())"
   ]
  },
  {
   "cell_type": "code",
   "execution_count": null,
   "id": "a6ffe2b8-011e-48a4-80bb-ecac8f757c3e",
   "metadata": {},
   "outputs": [],
   "source": []
  }
 ],
 "metadata": {
  "kernelspec": {
   "display_name": "Python 3 (ipykernel)",
   "language": "python",
   "name": "python3"
  },
  "language_info": {
   "codemirror_mode": {
    "name": "ipython",
    "version": 3
   },
   "file_extension": ".py",
   "mimetype": "text/x-python",
   "name": "python",
   "nbconvert_exporter": "python",
   "pygments_lexer": "ipython3",
   "version": "3.8.18"
  }
 },
 "nbformat": 4,
 "nbformat_minor": 5
}
