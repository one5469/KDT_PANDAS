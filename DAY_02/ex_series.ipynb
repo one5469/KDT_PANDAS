{
 "cells": [
  {
   "cell_type": "markdown",
   "id": "3d339e66-41bd-4ba9-b086-6e0a3d1f8228",
   "metadata": {},
   "source": [
    "<h1>시리즈(Series) 살펴보기</h1>\n",
    "- 판다스에서 데이터를 저장하는 자료 구조 중 하나  \n",
    "\n",
    "- 동일한 타입의 데이터를 연속된 메모리 공간에 저장함\n",
    "\n",
    "- 구성 : 인덱스 + 데이터\n",
    "  \n",
    "- 생성 : Series() 생성자 메소드\n",
    "  "
   ]
  },
  {
   "cell_type": "markdown",
   "id": "3a9428a2-3b4f-43fb-a50a-c223236336af",
   "metadata": {},
   "source": [
    "### (1) 모듈 로딩 -------------------------------------------------------------"
   ]
  },
  {
   "cell_type": "code",
   "execution_count": 60,
   "id": "99547d0d-27e0-45e4-92b7-03357f106fd7",
   "metadata": {},
   "outputs": [],
   "source": [
    "import pandas as pd"
   ]
  },
  {
   "cell_type": "code",
   "execution_count": 61,
   "id": "27d4d901-975f-4252-8d40-6d0d9bbcd93c",
   "metadata": {},
   "outputs": [],
   "source": [
    "# 객체 생성에 사용되는 메소드 => 생성자(constructor)\n",
    "# 데이터 타입과 동일한 이름의 메소드 => Series()\n",
    "sr = pd.Series([11,22,33])\n",
    "sr2 = pd.Series([11,22.,'33'])"
   ]
  },
  {
   "cell_type": "markdown",
   "id": "3d939b68-0637-43fe-b8e8-6708651332e7",
   "metadata": {},
   "source": [
    "### (2) 시리즈 객체 생성 -------------------------------------------------------------"
   ]
  },
  {
   "cell_type": "code",
   "execution_count": 62,
   "id": "a208101a-960e-4efa-9f3c-72680c9ad0b3",
   "metadata": {},
   "outputs": [
    {
     "data": {
      "text/plain": [
       "0      11\n",
       "1    22.0\n",
       "2      33\n",
       "dtype: object"
      ]
     },
     "execution_count": 62,
     "metadata": {},
     "output_type": "execute_result"
    }
   ],
   "source": [
    "sr\n",
    "sr2"
   ]
  },
  {
   "cell_type": "code",
   "execution_count": 63,
   "id": "1e47c280-9c8d-4b73-993e-fe93a38dfad9",
   "metadata": {},
   "outputs": [
    {
     "data": {
      "text/plain": [
       "pandas.core.series.Series"
      ]
     },
     "execution_count": 63,
     "metadata": {},
     "output_type": "execute_result"
    }
   ],
   "source": [
    "type(sr)\n",
    "type(sr2)"
   ]
  },
  {
   "cell_type": "markdown",
   "id": "d2ae2754-f41d-4453-be55-68492f6a360c",
   "metadata": {},
   "source": [
    "### (3) Series 객체의 속성(attribute) / 필드(field) 살펴보기\n",
    "    * 기본 : data, index, dtype\n",
    "    * 읽기 : 객체변수명.속성명\n",
    "    * 쓰기 : 객체변수명.속성명 = 새로운 값     [ 모든 속성이 가능한 것은 아님!!! ]"
   ]
  },
  {
   "cell_type": "code",
   "execution_count": 64,
   "id": "ac2c7cd9-6afd-4cc6-89c8-b1a5d8a135ba",
   "metadata": {},
   "outputs": [
    {
     "data": {
      "text/plain": [
       "RangeIndex(start=0, stop=3, step=1)"
      ]
     },
     "execution_count": 64,
     "metadata": {},
     "output_type": "execute_result"
    }
   ],
   "source": [
    "sr.index\n",
    "sr2.index"
   ]
  },
  {
   "cell_type": "code",
   "execution_count": 65,
   "id": "cedcbb73-23a0-4edc-ba16-bb5a87de230d",
   "metadata": {},
   "outputs": [
    {
     "data": {
      "text/plain": [
       "array([11, 22.0, '33'], dtype=object)"
      ]
     },
     "execution_count": 65,
     "metadata": {},
     "output_type": "execute_result"
    }
   ],
   "source": [
    "# 현재 시리즈 객체에 저장된 데이터 즉 값 확인\n",
    "sr.values\n",
    "sr2.values"
   ]
  },
  {
   "cell_type": "code",
   "execution_count": 66,
   "id": "083a780a-d76d-48dc-9984-6d01b454a7c1",
   "metadata": {},
   "outputs": [],
   "source": [
    "# 시리즈 객체의 인덱스 변경\n",
    "sr.index=[100, 200, 300]"
   ]
  },
  {
   "cell_type": "code",
   "execution_count": 67,
   "id": "35f7b4e6-d6bd-479e-96bd-6693ac6352c5",
   "metadata": {},
   "outputs": [
    {
     "data": {
      "text/plain": [
       "100    11\n",
       "200    22\n",
       "300    33\n",
       "dtype: int64"
      ]
     },
     "execution_count": 67,
     "metadata": {},
     "output_type": "execute_result"
    }
   ],
   "source": [
    "sr"
   ]
  },
  {
   "cell_type": "code",
   "execution_count": 68,
   "id": "4be0a78b-9d3e-4c10-a809-27e530bb279e",
   "metadata": {},
   "outputs": [],
   "source": [
    "sr.index = ['A', 'B', 'C']"
   ]
  },
  {
   "cell_type": "code",
   "execution_count": 69,
   "id": "cac2db46-1c27-4013-a96d-ff66f6d4f4ed",
   "metadata": {},
   "outputs": [
    {
     "data": {
      "text/plain": [
       "A    11\n",
       "B    22\n",
       "C    33\n",
       "dtype: int64"
      ]
     },
     "execution_count": 69,
     "metadata": {},
     "output_type": "execute_result"
    }
   ],
   "source": [
    "sr"
   ]
  },
  {
   "cell_type": "code",
   "execution_count": 70,
   "id": "9a0b0118-971c-4782-aa39-043f5eddd4c4",
   "metadata": {},
   "outputs": [],
   "source": [
    "# value 속성은 속성방식으로 변경 불가!!!\n",
    "# sr.values = [777, 888,999]"
   ]
  },
  {
   "cell_type": "markdown",
   "id": "f2e1aac1-2c79-4abd-87c5-582ca2c691ac",
   "metadata": {},
   "source": [
    "### (4) 시리즈 객체의 요소 데이터/값 읽기\n",
    "    * 읽기 : 객체변수명[인덱스]\n",
    "    * 쓰기 : 객체변수명[인덱스] = 새로운 값"
   ]
  },
  {
   "cell_type": "code",
   "execution_count": 71,
   "id": "b9c1ab47-0ba2-440d-987d-01223b93de90",
   "metadata": {},
   "outputs": [
    {
     "data": {
      "text/plain": [
       "(11, 11)"
      ]
     },
     "execution_count": 71,
     "metadata": {},
     "output_type": "execute_result"
    }
   ],
   "source": [
    "sr['A'], sr[0]"
   ]
  },
  {
   "cell_type": "code",
   "execution_count": 72,
   "id": "858553a0-e709-4722-a301-59da81147f49",
   "metadata": {},
   "outputs": [
    {
     "data": {
      "text/plain": [
       "A    2024\n",
       "B      22\n",
       "C      33\n",
       "dtype: int64"
      ]
     },
     "execution_count": 72,
     "metadata": {},
     "output_type": "execute_result"
    }
   ],
   "source": [
    "sr['A'] = 2024\n",
    "sr"
   ]
  },
  {
   "cell_type": "code",
   "execution_count": 73,
   "id": "43134efb-77ad-4c5d-993c-81b1187d5108",
   "metadata": {},
   "outputs": [
    {
     "data": {
      "text/plain": [
       "Index(['A', 'B', 'C'], dtype='object')"
      ]
     },
     "execution_count": 73,
     "metadata": {},
     "output_type": "execute_result"
    }
   ],
   "source": [
    "sr.index"
   ]
  },
  {
   "cell_type": "code",
   "execution_count": 74,
   "id": "2b865581-18b8-4f14-a2a1-b2dd4ce87477",
   "metadata": {},
   "outputs": [
    {
     "data": {
      "text/plain": [
       "(2024, 2024)"
      ]
     },
     "execution_count": 74,
     "metadata": {},
     "output_type": "execute_result"
    }
   ],
   "source": [
    "sr[0], sr['A']"
   ]
  },
  {
   "cell_type": "code",
   "execution_count": 75,
   "id": "5bb413b2-09c3-4b2d-88ad-e29094d3415c",
   "metadata": {},
   "outputs": [
    {
     "data": {
      "text/plain": [
       "Int64Index([1, 2, 3], dtype='int64')"
      ]
     },
     "execution_count": 75,
     "metadata": {},
     "output_type": "execute_result"
    }
   ],
   "source": [
    "sr.index = [1, 2, 3]\n",
    "sr.index"
   ]
  },
  {
   "cell_type": "code",
   "execution_count": 76,
   "id": "ab4db907-f2e6-48a3-8502-76734c0fe439",
   "metadata": {},
   "outputs": [
    {
     "data": {
      "text/plain": [
       "2024"
      ]
     },
     "execution_count": 76,
     "metadata": {},
     "output_type": "execute_result"
    }
   ],
   "source": [
    "sr[1]"
   ]
  },
  {
   "cell_type": "code",
   "execution_count": 77,
   "id": "4c1ca9e6-2914-4455-a77a-466b19ec7225",
   "metadata": {},
   "outputs": [],
   "source": [
    "# 숫자 라벨 인덱스 지정하면 정수 위치 인덱스 사용 불가!!\n",
    "# sr[0]"
   ]
  },
  {
   "cell_type": "code",
   "execution_count": 78,
   "id": "b3c2f898-faeb-4772-8272-615f5a701e16",
   "metadata": {},
   "outputs": [
    {
     "name": "stdout",
     "output_type": "stream",
     "text": [
      "1 2024\n",
      "2 22\n",
      "3 33\n"
     ]
    }
   ],
   "source": [
    "for idx in sr.index:\n",
    "    print(idx, sr[idx])"
   ]
  },
  {
   "cell_type": "code",
   "execution_count": 80,
   "id": "f6a6d2d0-f8eb-4fad-8e2c-6b845c070ca8",
   "metadata": {},
   "outputs": [
    {
     "data": {
      "text/plain": [
       "1    2024\n",
       "2      22\n",
       "3      33\n",
       "dtype: int64"
      ]
     },
     "execution_count": 80,
     "metadata": {},
     "output_type": "execute_result"
    }
   ],
   "source": [
    "# 문자열 숫자로 인덱스 변경\n",
    "sr.index = ['1', '2', '3']\n",
    "sr"
   ]
  },
  {
   "cell_type": "code",
   "execution_count": 81,
   "id": "19a57ff3-d3ab-4ead-b20d-88896bcba99b",
   "metadata": {},
   "outputs": [
    {
     "data": {
      "text/plain": [
       "(2024, 2024)"
      ]
     },
     "execution_count": 81,
     "metadata": {},
     "output_type": "execute_result"
    }
   ],
   "source": [
    "sr['1'], sr[0]"
   ]
  },
  {
   "cell_type": "code",
   "execution_count": null,
   "id": "7767a8d9-aedc-4d31-9a71-68d737f1b88b",
   "metadata": {},
   "outputs": [],
   "source": []
  }
 ],
 "metadata": {
  "kernelspec": {
   "display_name": "Python 3 (ipykernel)",
   "language": "python",
   "name": "python3"
  },
  "language_info": {
   "codemirror_mode": {
    "name": "ipython",
    "version": 3
   },
   "file_extension": ".py",
   "mimetype": "text/x-python",
   "name": "python",
   "nbconvert_exporter": "python",
   "pygments_lexer": "ipython3",
   "version": "3.8.18"
  }
 },
 "nbformat": 4,
 "nbformat_minor": 5
}
