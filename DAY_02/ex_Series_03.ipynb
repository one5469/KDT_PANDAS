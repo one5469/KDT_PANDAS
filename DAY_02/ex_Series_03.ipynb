{
 "cells": [
  {
   "cell_type": "markdown",
   "id": "f80a61ed-6ba5-4104-b346-4b176d88eafa",
   "metadata": {},
   "source": [
    "### [ Series 객체 원소 인덱싱 & 슬라이싱 ]"
   ]
  },
  {
   "cell_type": "markdown",
   "id": "bd88f6a8-d69f-4662-9981-2983744eeea7",
   "metadata": {},
   "source": [
    "(1) 모듈 로딩"
   ]
  },
  {
   "cell_type": "code",
   "execution_count": 3,
   "id": "a2241c9e-cb34-4313-bcad-fab6fed5e12a",
   "metadata": {},
   "outputs": [],
   "source": [
    "import pandas as pd"
   ]
  },
  {
   "cell_type": "markdown",
   "id": "42e3d748-da12-4e2f-8001-59da3f603f73",
   "metadata": {},
   "source": [
    "(2) 데이터 준비"
   ]
  },
  {
   "cell_type": "code",
   "execution_count": 4,
   "id": "e09ef35b-e1cc-4fb9-b9a6-8e7ceff2ce9a",
   "metadata": {},
   "outputs": [],
   "source": [
    "datas = {'name':'홍길동', 'age':12, 'job':'도적'}"
   ]
  },
  {
   "cell_type": "markdown",
   "id": "4ed53e94-dd5c-4cb8-8413-620d04723677",
   "metadata": {},
   "source": [
    "(3) Series 객체 생성"
   ]
  },
  {
   "cell_type": "code",
   "execution_count": 5,
   "id": "2a703051-05fc-44e4-a27c-4fc9871b4102",
   "metadata": {},
   "outputs": [
    {
     "data": {
      "text/plain": [
       "name    홍길동\n",
       "age      12\n",
       "job      도적\n",
       "dtype: object"
      ]
     },
     "execution_count": 5,
     "metadata": {},
     "output_type": "execute_result"
    }
   ],
   "source": [
    "sr1 = pd.Series(datas)\n",
    "sr1"
   ]
  },
  {
   "cell_type": "markdown",
   "id": "f6de4f36-39d9-4614-b70a-84764377f27d",
   "metadata": {},
   "source": [
    "(3) 인덱싱으로 원소 읽기  \n",
    "\n",
    "=> 1개 원소 읽기"
   ]
  },
  {
   "cell_type": "code",
   "execution_count": 12,
   "id": "3c2a1e44-ba0e-4a2e-be05-a998c01322a6",
   "metadata": {},
   "outputs": [
    {
     "name": "stdout",
     "output_type": "stream",
     "text": [
      "12 12 Index(['name', 'age', 'job'], dtype='object') <class 'str'>\n"
     ]
    }
   ],
   "source": [
    "print(sr1['age'], sr1[1], sr1.index, type(sr1[0]))\n"
   ]
  },
  {
   "cell_type": "markdown",
   "id": "86c31e56-bf1e-4ebd-be34-01bfcabbec6f",
   "metadata": {},
   "source": [
    "=> 2개 원소 읽기"
   ]
  },
  {
   "cell_type": "code",
   "execution_count": 10,
   "id": "cbb8f155-30ac-4c34-a89a-a9ac26e0df2c",
   "metadata": {},
   "outputs": [
    {
     "data": {
      "text/plain": [
       "('홍길동', '도적', '홍길동', '도적')"
      ]
     },
     "execution_count": 10,
     "metadata": {},
     "output_type": "execute_result"
    }
   ],
   "source": [
    "# 이름과 직업 데이터 읽기\n",
    "sr1['name'], sr1['job'], sr1[0], sr1[2]"
   ]
  },
  {
   "cell_type": "code",
   "execution_count": 19,
   "id": "8fc0c2a1-a0eb-48c8-9fc0-29b459b15345",
   "metadata": {},
   "outputs": [
    {
     "name": "stdout",
     "output_type": "stream",
     "text": [
      "<class 'pandas.core.series.Series'>\n",
      "name    홍길동\n",
      "job      도적\n",
      "dtype: object\n",
      "<class 'pandas.core.series.Series'>\n",
      "name    홍길동\n",
      "job      도적\n",
      "dtype: object\n"
     ]
    }
   ],
   "source": [
    "# 이름과 직업 데이터 읽기 ==> 리스트 단위로 읽기\n",
    "ret = sr1[['name', 'job']]\n",
    "ret2 = sr1[[0, 2]]\n",
    "print(type(ret), ret, sep='\\n')\n",
    "print(type(ret2), ret2, sep='\\n')"
   ]
  },
  {
   "cell_type": "markdown",
   "id": "0bfc6455-644f-42b7-80e1-51ea959fb54b",
   "metadata": {},
   "source": [
    "(4) 슬라이싱으로 원소 읽기"
   ]
  },
  {
   "cell_type": "markdown",
   "id": "271c740a-1626-440a-a8bd-644f5d79ab1b",
   "metadata": {},
   "source": [
    "- 위치 인덱스로 슬라이싱"
   ]
  },
  {
   "cell_type": "code",
   "execution_count": 23,
   "id": "b527fbcd-84bc-43b8-aaa0-606dc46a8c45",
   "metadata": {},
   "outputs": [
    {
     "data": {
      "text/plain": [
       "name    홍길동\n",
       "age      12\n",
       "dtype: object"
      ]
     },
     "execution_count": 23,
     "metadata": {},
     "output_type": "execute_result"
    }
   ],
   "source": [
    "sr1[:2]"
   ]
  },
  {
   "cell_type": "markdown",
   "id": "8a58d62a-9ef3-43e1-90b6-d95492c4a0b5",
   "metadata": {},
   "source": [
    "- 레이블 인덱스로 슬라이싱"
   ]
  },
  {
   "cell_type": "code",
   "execution_count": 25,
   "id": "9ecc4ea3-fde8-4567-9a3e-97f8579b3126",
   "metadata": {},
   "outputs": [
    {
     "data": {
      "text/plain": [
       "name    홍길동\n",
       "age      12\n",
       "job      도적\n",
       "dtype: object"
      ]
     },
     "execution_count": 25,
     "metadata": {},
     "output_type": "execute_result"
    }
   ],
   "source": [
    "sr1['name':'job']      # 시작<= ~ <=끝"
   ]
  },
  {
   "cell_type": "code",
   "execution_count": 26,
   "id": "518730b3-7252-46b3-90e0-31ca1ef13b7b",
   "metadata": {},
   "outputs": [
    {
     "data": {
      "text/plain": [
       "name    홍길동\n",
       "age      12\n",
       "dtype: object"
      ]
     },
     "execution_count": 26,
     "metadata": {},
     "output_type": "execute_result"
    }
   ],
   "source": [
    "sr1['name':'age']      # 시작<= ~ <=끝 == sr1[:2]"
   ]
  },
  {
   "cell_type": "code",
   "execution_count": null,
   "id": "b739ada0-629c-477e-8541-367f242794ee",
   "metadata": {},
   "outputs": [],
   "source": []
  }
 ],
 "metadata": {
  "kernelspec": {
   "display_name": "Python 3 (ipykernel)",
   "language": "python",
   "name": "python3"
  },
  "language_info": {
   "codemirror_mode": {
    "name": "ipython",
    "version": 3
   },
   "file_extension": ".py",
   "mimetype": "text/x-python",
   "name": "python",
   "nbconvert_exporter": "python",
   "pygments_lexer": "ipython3",
   "version": "3.8.18"
  }
 },
 "nbformat": 4,
 "nbformat_minor": 5
}
