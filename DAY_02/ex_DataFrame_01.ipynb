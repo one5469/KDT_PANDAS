{
 "cells": [
  {
   "cell_type": "markdown",
   "id": "aa297950-bbb0-49c8-aa2a-661cb0f8073f",
   "metadata": {},
   "source": [
    "# [ DataFrame 살펴보기 ]\n",
    "* 데이터를 테이블 즉 표 형태로 저장하는 자료구조\n",
    "* 구성 : 행 + 열\n",
    "* 생성 : pandas.DataFrame() 생성자 메소드"
   ]
  },
  {
   "cell_type": "markdown",
   "id": "af540cf7-e624-4e11-a9e2-ded29d36a921",
   "metadata": {},
   "source": [
    "(1) 모듈로딩"
   ]
  },
  {
   "cell_type": "code",
   "execution_count": 139,
   "id": "b5236862-a4b5-4cab-9971-0ab6a245518f",
   "metadata": {},
   "outputs": [],
   "source": [
    "from pandas import DataFrame as DF"
   ]
  },
  {
   "cell_type": "markdown",
   "id": "314cf83d-f650-474c-858d-dc520584372d",
   "metadata": {},
   "source": [
    "(2) 데이터 준비"
   ]
  },
  {
   "cell_type": "code",
   "execution_count": 140,
   "id": "be1ceeb0-f604-45a4-b6c7-146fdeb707cf",
   "metadata": {},
   "outputs": [],
   "source": [
    "data = [[11, 22, 33], [44, 55, 66], [77, 88, 99]]"
   ]
  },
  {
   "cell_type": "markdown",
   "id": "ae99f2e2-c037-4dbc-98ae-48e0d8d0e76e",
   "metadata": {},
   "source": [
    "(3) DataFrame으로 저장 즉, DataFrame 객체 생성"
   ]
  },
  {
   "cell_type": "code",
   "execution_count": 141,
   "id": "213b7a1f-37a2-4b40-a158-354497f8310f",
   "metadata": {},
   "outputs": [
    {
     "data": {
      "text/html": [
       "<div>\n",
       "<style scoped>\n",
       "    .dataframe tbody tr th:only-of-type {\n",
       "        vertical-align: middle;\n",
       "    }\n",
       "\n",
       "    .dataframe tbody tr th {\n",
       "        vertical-align: top;\n",
       "    }\n",
       "\n",
       "    .dataframe thead th {\n",
       "        text-align: right;\n",
       "    }\n",
       "</style>\n",
       "<table border=\"1\" class=\"dataframe\">\n",
       "  <thead>\n",
       "    <tr style=\"text-align: right;\">\n",
       "      <th></th>\n",
       "    </tr>\n",
       "  </thead>\n",
       "  <tbody>\n",
       "  </tbody>\n",
       "</table>\n",
       "</div>"
      ],
      "text/plain": [
       "Empty DataFrame\n",
       "Columns: []\n",
       "Index: []"
      ]
     },
     "execution_count": 141,
     "metadata": {},
     "output_type": "execute_result"
    }
   ],
   "source": [
    "df1 = DF()\n",
    "df1"
   ]
  },
  {
   "cell_type": "code",
   "execution_count": 142,
   "id": "56b5fd1f-ba47-4dc3-bb0a-cb61aa1d6dcf",
   "metadata": {},
   "outputs": [
    {
     "data": {
      "text/html": [
       "<div>\n",
       "<style scoped>\n",
       "    .dataframe tbody tr th:only-of-type {\n",
       "        vertical-align: middle;\n",
       "    }\n",
       "\n",
       "    .dataframe tbody tr th {\n",
       "        vertical-align: top;\n",
       "    }\n",
       "\n",
       "    .dataframe thead th {\n",
       "        text-align: right;\n",
       "    }\n",
       "</style>\n",
       "<table border=\"1\" class=\"dataframe\">\n",
       "  <thead>\n",
       "    <tr style=\"text-align: right;\">\n",
       "      <th></th>\n",
       "      <th>0</th>\n",
       "      <th>1</th>\n",
       "      <th>2</th>\n",
       "    </tr>\n",
       "  </thead>\n",
       "  <tbody>\n",
       "    <tr>\n",
       "      <th>0</th>\n",
       "      <td>11</td>\n",
       "      <td>22</td>\n",
       "      <td>33</td>\n",
       "    </tr>\n",
       "    <tr>\n",
       "      <th>1</th>\n",
       "      <td>44</td>\n",
       "      <td>55</td>\n",
       "      <td>66</td>\n",
       "    </tr>\n",
       "    <tr>\n",
       "      <th>2</th>\n",
       "      <td>77</td>\n",
       "      <td>88</td>\n",
       "      <td>99</td>\n",
       "    </tr>\n",
       "  </tbody>\n",
       "</table>\n",
       "</div>"
      ],
      "text/plain": [
       "    0   1   2\n",
       "0  11  22  33\n",
       "1  44  55  66\n",
       "2  77  88  99"
      ]
     },
     "execution_count": 142,
     "metadata": {},
     "output_type": "execute_result"
    }
   ],
   "source": [
    "df1 = DF(data)\n",
    "df1"
   ]
  },
  {
   "cell_type": "markdown",
   "id": "f468078d-e621-4592-adb4-f2efe4d3014f",
   "metadata": {},
   "source": [
    "(4) DataFrame의 속성 읽기 => 객체변수명.속성명"
   ]
  },
  {
   "cell_type": "code",
   "execution_count": 143,
   "id": "ed243405-0c05-43a6-9faa-98b0456eca2f",
   "metadata": {},
   "outputs": [
    {
     "data": {
      "text/plain": [
       "RangeIndex(start=0, stop=3, step=1)"
      ]
     },
     "execution_count": 143,
     "metadata": {},
     "output_type": "execute_result"
    }
   ],
   "source": [
    "df1.index"
   ]
  },
  {
   "cell_type": "code",
   "execution_count": 144,
   "id": "bcd458e3-9fb1-43d1-b2e4-4939f407cf89",
   "metadata": {},
   "outputs": [
    {
     "data": {
      "text/plain": [
       "RangeIndex(start=0, stop=3, step=1)"
      ]
     },
     "execution_count": 144,
     "metadata": {},
     "output_type": "execute_result"
    }
   ],
   "source": [
    "df1.columns"
   ]
  },
  {
   "cell_type": "code",
   "execution_count": 145,
   "id": "1189284e-2824-4383-9eda-4e00025a7a46",
   "metadata": {},
   "outputs": [
    {
     "data": {
      "text/plain": [
       "array([[11, 22, 33],\n",
       "       [44, 55, 66],\n",
       "       [77, 88, 99]], dtype=int64)"
      ]
     },
     "execution_count": 145,
     "metadata": {},
     "output_type": "execute_result"
    }
   ],
   "source": [
    "df1.values"
   ]
  },
  {
   "cell_type": "code",
   "execution_count": 146,
   "id": "68414790-1ca1-4d53-a5ce-a46edbabb263",
   "metadata": {},
   "outputs": [
    {
     "data": {
      "text/plain": [
       "(3, 3)"
      ]
     },
     "execution_count": 146,
     "metadata": {},
     "output_type": "execute_result"
    }
   ],
   "source": [
    "# 데이터가 저장된 표의 형태\n",
    "df1.shape"
   ]
  },
  {
   "cell_type": "code",
   "execution_count": 147,
   "id": "07b31641-0f6c-4ba3-b3ba-19ca7c0699f3",
   "metadata": {},
   "outputs": [
    {
     "data": {
      "text/plain": [
       "2"
      ]
     },
     "execution_count": 147,
     "metadata": {},
     "output_type": "execute_result"
    }
   ],
   "source": [
    "# 데이터의 차원정보 n-dimention\n",
    "df1.ndim"
   ]
  },
  {
   "cell_type": "code",
   "execution_count": 148,
   "id": "311b3ce8-0ee8-40dd-8de2-65f22ba613c1",
   "metadata": {},
   "outputs": [
    {
     "data": {
      "text/plain": [
       "0    int64\n",
       "1    int64\n",
       "2    int64\n",
       "dtype: object"
      ]
     },
     "execution_count": 148,
     "metadata": {},
     "output_type": "execute_result"
    }
   ],
   "source": [
    "# 컬럼별 데이터 타입\n",
    "df1.dtypes"
   ]
  },
  {
   "cell_type": "markdown",
   "id": "82c52c7c-8a47-4971-b1e7-c9de7867373d",
   "metadata": {},
   "source": [
    "(5) 원소 읽기 ==> 행과 열 징 ===> 1개 원소"
   ]
  },
  {
   "cell_type": "markdown",
   "id": "fe86a77f-5c7d-4de0-ab02-cafc354e8b43",
   "metadata": {},
   "source": [
    "- 컬럼 즉 열 (column) 읽기 ==> 객체변수명[인덱스]"
   ]
  },
  {
   "cell_type": "code",
   "execution_count": 149,
   "id": "a8cfde18-f907-48a1-925d-d21e00f6d81d",
   "metadata": {},
   "outputs": [
    {
     "name": "stdout",
     "output_type": "stream",
     "text": [
      "<class 'pandas.core.series.Series'>\n",
      "0    11\n",
      "1    44\n",
      "2    77\n",
      "Name: 0, dtype: int64\n"
     ]
    }
   ],
   "source": [
    "zerocol = df1[0]\n",
    "print(type(zerocol))\n",
    "print(zerocol)"
   ]
  },
  {
   "cell_type": "code",
   "execution_count": 150,
   "id": "f88e465f-252a-4b37-b6cb-b50174090f1c",
   "metadata": {},
   "outputs": [
    {
     "data": {
      "text/plain": [
       "0    33\n",
       "1    66\n",
       "2    99\n",
       "Name: 2, dtype: int64"
      ]
     },
     "execution_count": 150,
     "metadata": {},
     "output_type": "execute_result"
    }
   ],
   "source": [
    "df1[2]"
   ]
  },
  {
   "cell_type": "code",
   "execution_count": 151,
   "id": "4dda99bb-7e13-490d-abea-cf22d1100046",
   "metadata": {},
   "outputs": [],
   "source": [
    "# df1[-1]"
   ]
  },
  {
   "cell_type": "code",
   "execution_count": 152,
   "id": "0df7f26a-a35c-49cb-8b0d-95e7b1151432",
   "metadata": {},
   "outputs": [
    {
     "data": {
      "text/html": [
       "<div>\n",
       "<style scoped>\n",
       "    .dataframe tbody tr th:only-of-type {\n",
       "        vertical-align: middle;\n",
       "    }\n",
       "\n",
       "    .dataframe tbody tr th {\n",
       "        vertical-align: top;\n",
       "    }\n",
       "\n",
       "    .dataframe thead th {\n",
       "        text-align: right;\n",
       "    }\n",
       "</style>\n",
       "<table border=\"1\" class=\"dataframe\">\n",
       "  <thead>\n",
       "    <tr style=\"text-align: right;\">\n",
       "      <th></th>\n",
       "      <th>A</th>\n",
       "      <th>B</th>\n",
       "      <th>C</th>\n",
       "    </tr>\n",
       "  </thead>\n",
       "  <tbody>\n",
       "    <tr>\n",
       "      <th>0</th>\n",
       "      <td>11</td>\n",
       "      <td>22</td>\n",
       "      <td>33</td>\n",
       "    </tr>\n",
       "    <tr>\n",
       "      <th>1</th>\n",
       "      <td>44</td>\n",
       "      <td>55</td>\n",
       "      <td>66</td>\n",
       "    </tr>\n",
       "    <tr>\n",
       "      <th>2</th>\n",
       "      <td>77</td>\n",
       "      <td>88</td>\n",
       "      <td>99</td>\n",
       "    </tr>\n",
       "  </tbody>\n",
       "</table>\n",
       "</div>"
      ],
      "text/plain": [
       "    A   B   C\n",
       "0  11  22  33\n",
       "1  44  55  66\n",
       "2  77  88  99"
      ]
     },
     "execution_count": 152,
     "metadata": {},
     "output_type": "execute_result"
    }
   ],
   "source": [
    "## 컬럼변경\n",
    "df1.columns = ['A', 'B', 'C']\n",
    "df1"
   ]
  },
  {
   "cell_type": "code",
   "execution_count": 153,
   "id": "0d05f719-bfe8-4d99-a764-e710476c46a8",
   "metadata": {},
   "outputs": [
    {
     "data": {
      "text/plain": [
       "0    11\n",
       "1    44\n",
       "2    77\n",
       "Name: A, dtype: int64"
      ]
     },
     "execution_count": 153,
     "metadata": {},
     "output_type": "execute_result"
    }
   ],
   "source": [
    "df1['A']"
   ]
  },
  {
   "cell_type": "code",
   "execution_count": 154,
   "id": "1135096f-4698-4669-ba8a-7c0a24b95b2f",
   "metadata": {},
   "outputs": [
    {
     "data": {
      "text/plain": [
       "0    11\n",
       "1    44\n",
       "2    77\n",
       "Name: A, dtype: int64"
      ]
     },
     "execution_count": 154,
     "metadata": {},
     "output_type": "execute_result"
    }
   ],
   "source": [
    "df1.A"
   ]
  },
  {
   "cell_type": "markdown",
   "id": "55f13a80-b798-4a85-9962-e587c53e917e",
   "metadata": {},
   "source": [
    "- 로우 즉 행 (row) 읽기 ==> 방법 2가지\n",
    "    * 위치 인덱스로 읽기   : 객체변수명.iloc[인덱스]\n",
    "    * 레이블 인덱스로 읽기 : 객체변수명.loc[인덱스]"
   ]
  },
  {
   "cell_type": "code",
   "execution_count": 156,
   "id": "59ad3c05-a004-45fe-8623-1bb91808c971",
   "metadata": {},
   "outputs": [
    {
     "data": {
      "text/html": [
       "<div>\n",
       "<style scoped>\n",
       "    .dataframe tbody tr th:only-of-type {\n",
       "        vertical-align: middle;\n",
       "    }\n",
       "\n",
       "    .dataframe tbody tr th {\n",
       "        vertical-align: top;\n",
       "    }\n",
       "\n",
       "    .dataframe thead th {\n",
       "        text-align: right;\n",
       "    }\n",
       "</style>\n",
       "<table border=\"1\" class=\"dataframe\">\n",
       "  <thead>\n",
       "    <tr style=\"text-align: right;\">\n",
       "      <th></th>\n",
       "      <th>A</th>\n",
       "      <th>B</th>\n",
       "      <th>C</th>\n",
       "    </tr>\n",
       "  </thead>\n",
       "  <tbody>\n",
       "    <tr>\n",
       "      <th>one</th>\n",
       "      <td>11</td>\n",
       "      <td>22</td>\n",
       "      <td>33</td>\n",
       "    </tr>\n",
       "    <tr>\n",
       "      <th>two</th>\n",
       "      <td>44</td>\n",
       "      <td>55</td>\n",
       "      <td>66</td>\n",
       "    </tr>\n",
       "    <tr>\n",
       "      <th>three</th>\n",
       "      <td>77</td>\n",
       "      <td>88</td>\n",
       "      <td>99</td>\n",
       "    </tr>\n",
       "  </tbody>\n",
       "</table>\n",
       "</div>"
      ],
      "text/plain": [
       "        A   B   C\n",
       "one    11  22  33\n",
       "two    44  55  66\n",
       "three  77  88  99"
      ]
     },
     "execution_count": 156,
     "metadata": {},
     "output_type": "execute_result"
    }
   ],
   "source": [
    "df1.index = ['one', 'two', 'three']\n",
    "df1"
   ]
  },
  {
   "cell_type": "code",
   "execution_count": 157,
   "id": "9274443c-7b85-4d0b-ab81-014f21a20ce6",
   "metadata": {},
   "outputs": [
    {
     "name": "stdout",
     "output_type": "stream",
     "text": [
      "<class 'pandas.core.series.Series'>\n",
      "A    11\n",
      "B    22\n",
      "C    33\n",
      "Name: one, dtype: int64\n"
     ]
    }
   ],
   "source": [
    "one = df1.loc['one']\n",
    "print(type(one))\n",
    "print(one)"
   ]
  },
  {
   "cell_type": "code",
   "execution_count": 158,
   "id": "8736f4f5-4bbc-49d5-897e-162feb2470ce",
   "metadata": {},
   "outputs": [
    {
     "name": "stdout",
     "output_type": "stream",
     "text": [
      "<class 'pandas.core.series.Series'>\n",
      "A    11\n",
      "B    22\n",
      "C    33\n",
      "Name: one, dtype: int64\n"
     ]
    }
   ],
   "source": [
    "one = df1.iloc[0]\n",
    "print(type(one))\n",
    "print(one)"
   ]
  },
  {
   "cell_type": "markdown",
   "id": "bebdad21-541c-44f7-8eb7-8deed1e31a03",
   "metadata": {},
   "source": [
    "(6) 모든 원소를 한번에 한개씩만 출력"
   ]
  },
  {
   "cell_type": "code",
   "execution_count": 159,
   "id": "b24b596e-8ca2-45d1-8a97-ce6b0be69e97",
   "metadata": {},
   "outputs": [
    {
     "name": "stdout",
     "output_type": "stream",
     "text": [
      "11 22 33 \n",
      "44 55 66 \n",
      "77 88 99 \n"
     ]
    }
   ],
   "source": [
    "for idx in df1.index:\n",
    "    for col in df1.loc[idx]:\n",
    "        print(col, end=' ')\n",
    "    print()"
   ]
  },
  {
   "cell_type": "code",
   "execution_count": 160,
   "id": "d6d9cf25-ed0c-4628-b699-69705328c9f7",
   "metadata": {},
   "outputs": [
    {
     "name": "stdout",
     "output_type": "stream",
     "text": [
      "11 44 77 \n",
      "22 55 88 \n",
      "33 66 99 \n"
     ]
    }
   ],
   "source": [
    "for col in df1.columns:\n",
    "    for idx in df1[col]:\n",
    "        print(idx, end=' ')\n",
    "    print()"
   ]
  },
  {
   "cell_type": "code",
   "execution_count": 161,
   "id": "47e1478c-bfe6-4df3-adb6-980faef6f294",
   "metadata": {},
   "outputs": [
    {
     "name": "stdout",
     "output_type": "stream",
     "text": [
      "[11 22 33] [44 55 66] [77 88 99] "
     ]
    }
   ],
   "source": [
    "for val in df1.values:\n",
    "    print(val, end=' ')"
   ]
  },
  {
   "cell_type": "markdown",
   "id": "cf253f43-27a3-4e18-a52b-4439c4e6da31",
   "metadata": {},
   "source": [
    "- 객체변수명.iloc[행인덱스, 열인덱스] / 객체변수명.loc[행레이블, 열인덱스 or 열레이블]"
   ]
  },
  {
   "cell_type": "code",
   "execution_count": 162,
   "id": "05884cbd-0fab-4f25-91da-4e94200d4167",
   "metadata": {},
   "outputs": [
    {
     "data": {
      "text/plain": [
       "(11, 33, 44, 66)"
      ]
     },
     "execution_count": 162,
     "metadata": {},
     "output_type": "execute_result"
    }
   ],
   "source": [
    "df1.iloc[0, 0], df1.iloc[0, 2], df1.iloc[1, 0], df1.iloc[1, 2]"
   ]
  },
  {
   "cell_type": "code",
   "execution_count": 163,
   "id": "4624b79e-e707-4307-9278-01005207210b",
   "metadata": {},
   "outputs": [
    {
     "data": {
      "text/plain": [
       "(11, 22, 44, 55)"
      ]
     },
     "execution_count": 163,
     "metadata": {},
     "output_type": "execute_result"
    }
   ],
   "source": [
    "df1.loc['one', 'A'], df1.loc['one', 'B'], df1.loc['two', 'A'], df1.loc['two', 'B']"
   ]
  },
  {
   "cell_type": "code",
   "execution_count": 164,
   "id": "0d696e38-a1fb-4531-a387-33c3b7f0abb8",
   "metadata": {},
   "outputs": [
    {
     "data": {
      "text/plain": [
       "11"
      ]
     },
     "execution_count": 164,
     "metadata": {},
     "output_type": "execute_result"
    }
   ],
   "source": [
    "df1.iloc[0][0]"
   ]
  },
  {
   "cell_type": "code",
   "execution_count": 165,
   "id": "3202f909-9013-4160-88d9-850542ce6244",
   "metadata": {},
   "outputs": [
    {
     "data": {
      "text/plain": [
       "A    11\n",
       "B    22\n",
       "C    33\n",
       "Name: one, dtype: int64"
      ]
     },
     "execution_count": 165,
     "metadata": {},
     "output_type": "execute_result"
    }
   ],
   "source": [
    "zero = df1.iloc[0]\n",
    "zero"
   ]
  },
  {
   "cell_type": "code",
   "execution_count": 166,
   "id": "aedc55f5-f91c-42ad-bda1-61a272022a3a",
   "metadata": {},
   "outputs": [
    {
     "data": {
      "text/plain": [
       "one      22\n",
       "two      55\n",
       "three    88\n",
       "Name: B, dtype: int64"
      ]
     },
     "execution_count": 166,
     "metadata": {},
     "output_type": "execute_result"
    }
   ],
   "source": [
    "b = df1['B']\n",
    "b"
   ]
  },
  {
   "cell_type": "code",
   "execution_count": 167,
   "id": "9b2aa53c-ff2f-4f73-96bc-06af9ce26278",
   "metadata": {},
   "outputs": [
    {
     "data": {
      "text/plain": [
       "(Index(['one', 'two', 'three'], dtype='object'),\n",
       " Index(['A', 'B', 'C'], dtype='object'))"
      ]
     },
     "execution_count": 167,
     "metadata": {},
     "output_type": "execute_result"
    }
   ],
   "source": [
    "df1.index, df1.columns"
   ]
  },
  {
   "cell_type": "markdown",
   "id": "4bb0328c-9e08-411d-bc31-df5a4e00c565",
   "metadata": {},
   "source": [
    "- iloc를 활용한 모든 원소 출력 ==> 행과 열의 변호"
   ]
  },
  {
   "cell_type": "code",
   "execution_count": 168,
   "id": "b4277ee3-91d6-4f95-a94f-6d30f3d050bd",
   "metadata": {},
   "outputs": [
    {
     "name": "stdout",
     "output_type": "stream",
     "text": [
      "(0, 0) : 11\n",
      "(0, 1) : 22\n",
      "(0, 2) : 33\n",
      "(1, 0) : 44\n",
      "(1, 1) : 55\n",
      "(1, 2) : 66\n",
      "(2, 0) : 77\n",
      "(2, 1) : 88\n",
      "(2, 2) : 99\n"
     ]
    }
   ],
   "source": [
    "for row in range(df1.shape[0]):\n",
    "    for col in range(df1.shape[1]):\n",
    "        print(f'({row}, {col}) : {df1.iloc[row, col]}')"
   ]
  },
  {
   "cell_type": "markdown",
   "id": "95b95439-c947-4060-8c4d-5e7dbc095ee9",
   "metadata": {},
   "source": [
    "- loc를 활용한 모든 원소 출력 => 행 레이블/이름과 열 레이블/이름"
   ]
  },
  {
   "cell_type": "code",
   "execution_count": 169,
   "id": "b9b83fec-3d2f-4fcd-814f-0a5b515b7779",
   "metadata": {},
   "outputs": [
    {
     "name": "stdout",
     "output_type": "stream",
     "text": [
      "one : A11 B22 C33 \n",
      "two : A44 B55 C66 \n",
      "three : A77 B88 C99 \n"
     ]
    }
   ],
   "source": [
    "for row in df1.index:\n",
    "    print(f'{row} :', end=' ')\n",
    "    for col in df1.columns:\n",
    "        print(f'{col}{df1.loc[row,col]}', end=' ')\n",
    "    print()"
   ]
  },
  {
   "cell_type": "markdown",
   "id": "b7d61cca-ad95-4ab1-9aac-4198d8146cd8",
   "metadata": {},
   "source": [
    "#### [ 문제 ] one, three 행을 선택 후 저장하기"
   ]
  },
  {
   "cell_type": "code",
   "execution_count": 177,
   "id": "b1df9c23-4244-4518-b03b-66ad1d6cbf0b",
   "metadata": {},
   "outputs": [
    {
     "name": "stdout",
     "output_type": "stream",
     "text": [
      "<class 'pandas.core.series.Series'>\n",
      "one      11\n",
      "three    77\n",
      "Name: A, dtype: int64\n"
     ]
    }
   ],
   "source": [
    "df2 = df1.loc[['one', 'three'], 'A']\n",
    "\n",
    "print(type(df2), df2, sep='\\n')"
   ]
  },
  {
   "cell_type": "code",
   "execution_count": 179,
   "id": "e8c1ceec-6e5b-4729-b424-7e94624b5c82",
   "metadata": {},
   "outputs": [
    {
     "data": {
      "text/html": [
       "<div>\n",
       "<style scoped>\n",
       "    .dataframe tbody tr th:only-of-type {\n",
       "        vertical-align: middle;\n",
       "    }\n",
       "\n",
       "    .dataframe tbody tr th {\n",
       "        vertical-align: top;\n",
       "    }\n",
       "\n",
       "    .dataframe thead th {\n",
       "        text-align: right;\n",
       "    }\n",
       "</style>\n",
       "<table border=\"1\" class=\"dataframe\">\n",
       "  <thead>\n",
       "    <tr style=\"text-align: right;\">\n",
       "      <th></th>\n",
       "      <th>A</th>\n",
       "      <th>B</th>\n",
       "      <th>C</th>\n",
       "    </tr>\n",
       "  </thead>\n",
       "  <tbody>\n",
       "    <tr>\n",
       "      <th>one</th>\n",
       "      <td>11</td>\n",
       "      <td>22</td>\n",
       "      <td>33</td>\n",
       "    </tr>\n",
       "  </tbody>\n",
       "</table>\n",
       "</div>"
      ],
      "text/plain": [
       "      A   B   C\n",
       "one  11  22  33"
      ]
     },
     "execution_count": 179,
     "metadata": {},
     "output_type": "execute_result"
    }
   ],
   "source": [
    "df1.loc[['one']]"
   ]
  },
  {
   "cell_type": "code",
   "execution_count": 180,
   "id": "baca21b6-6edb-4a57-9f58-ba103c9f855e",
   "metadata": {},
   "outputs": [
    {
     "data": {
      "text/plain": [
       "A    11\n",
       "B    22\n",
       "C    33\n",
       "Name: one, dtype: int64"
      ]
     },
     "execution_count": 180,
     "metadata": {},
     "output_type": "execute_result"
    }
   ],
   "source": [
    "df1.loc['one']"
   ]
  },
  {
   "cell_type": "code",
   "execution_count": null,
   "id": "4aecf23a-0842-44fa-91b0-fdca6cdbf2c3",
   "metadata": {},
   "outputs": [],
   "source": []
  }
 ],
 "metadata": {
  "kernelspec": {
   "display_name": "Python 3 (ipykernel)",
   "language": "python",
   "name": "python3"
  },
  "language_info": {
   "codemirror_mode": {
    "name": "ipython",
    "version": 3
   },
   "file_extension": ".py",
   "mimetype": "text/x-python",
   "name": "python",
   "nbconvert_exporter": "python",
   "pygments_lexer": "ipython3",
   "version": "3.8.18"
  }
 },
 "nbformat": 4,
 "nbformat_minor": 5
}
