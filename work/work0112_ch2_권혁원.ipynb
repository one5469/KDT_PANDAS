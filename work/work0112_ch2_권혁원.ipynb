{
 "cells": [
  {
   "cell_type": "markdown",
   "id": "86aedb74-d0c4-4288-b97e-f2c3fdc573b6",
   "metadata": {},
   "source": [
    "### 문제 1번"
   ]
  },
  {
   "cell_type": "code",
   "execution_count": 3,
   "id": "e877314b-c808-44a3-a690-669d7b3b1787",
   "metadata": {},
   "outputs": [],
   "source": [
    "superheroes = [\n",
    "        \"Batman\",\n",
    "        \"Superman\",\n",
    "        \"Spider-man\",\n",
    "        \"Iron Man\",\n",
    "        \"Captain America\",\n",
    "        \"Wonder Woman\"\n",
    "]\n",
    "\n",
    "strength_levels = (100, 120, 90, 95, 110, 120)"
   ]
  },
  {
   "cell_type": "code",
   "execution_count": 4,
   "id": "117159f2-68a6-42b6-a587-9a5ec9efd44f",
   "metadata": {},
   "outputs": [],
   "source": [
    "import pandas as pd"
   ]
  },
  {
   "cell_type": "code",
   "execution_count": 5,
   "id": "5cc70498-c770-4666-bed7-372e05cabf70",
   "metadata": {},
   "outputs": [
    {
     "name": "stdout",
     "output_type": "stream",
     "text": [
      "0             Batman\n",
      "1           Superman\n",
      "2         Spider-man\n",
      "3           Iron Man\n",
      "4    Captain America\n",
      "5       Wonder Woman\n",
      "dtype: object\n"
     ]
    }
   ],
   "source": [
    "heroSr = pd.Series(superheroes)\n",
    "print(heroSr)"
   ]
  },
  {
   "cell_type": "markdown",
   "id": "8bf9a10f-8515-42a0-9646-a2b4de8720de",
   "metadata": {},
   "source": [
    "### 문제 2번"
   ]
  },
  {
   "cell_type": "code",
   "execution_count": 6,
   "id": "d3a96d82-666f-40e2-9b46-113f9b6de925",
   "metadata": {},
   "outputs": [
    {
     "name": "stdout",
     "output_type": "stream",
     "text": [
      "0    100\n",
      "1    120\n",
      "2     90\n",
      "3     95\n",
      "4    110\n",
      "5    120\n",
      "dtype: int64\n"
     ]
    }
   ],
   "source": [
    "strlSr = pd.Series(strength_levels)\n",
    "print(strlSr)"
   ]
  },
  {
   "cell_type": "markdown",
   "id": "2e05f045-cd3f-4a5b-aeeb-dfef349ef7ec",
   "metadata": {},
   "source": [
    "### 문제 3번"
   ]
  },
  {
   "cell_type": "code",
   "execution_count": 8,
   "id": "350bbf0e-57ce-497d-8426-05d8e98a0fa1",
   "metadata": {},
   "outputs": [
    {
     "data": {
      "text/plain": [
       "Batman             100\n",
       "Superman           120\n",
       "Spider-man          90\n",
       "Iron Man            95\n",
       "Captain America    110\n",
       "Wonder Woman       120\n",
       "dtype: int64"
      ]
     },
     "execution_count": 8,
     "metadata": {},
     "output_type": "execute_result"
    }
   ],
   "source": [
    "heroes = pd.Series(data=strength_levels, index=superheroes)\n",
    "heroes"
   ]
  },
  {
   "cell_type": "markdown",
   "id": "2b83f4ed-bc62-4790-a00a-4c5fbfb78dae",
   "metadata": {},
   "source": [
    "### 문제 4번"
   ]
  },
  {
   "cell_type": "code",
   "execution_count": 9,
   "id": "09635b06-6bfe-4122-bd0c-d3f54c9a90fd",
   "metadata": {},
   "outputs": [
    {
     "data": {
      "text/plain": [
       "Batman      100\n",
       "Superman    120\n",
       "dtype: int64"
      ]
     },
     "execution_count": 9,
     "metadata": {},
     "output_type": "execute_result"
    }
   ],
   "source": [
    "heroes.head(2)"
   ]
  },
  {
   "cell_type": "markdown",
   "id": "f72e5132-3e94-4653-9c20-caba9c890c9b",
   "metadata": {},
   "source": [
    "### 문제 5번"
   ]
  },
  {
   "cell_type": "code",
   "execution_count": 10,
   "id": "5350e89f-0113-42de-9a0a-ba31774610a4",
   "metadata": {},
   "outputs": [
    {
     "data": {
      "text/plain": [
       "Spider-man          90\n",
       "Iron Man            95\n",
       "Captain America    110\n",
       "Wonder Woman       120\n",
       "dtype: int64"
      ]
     },
     "execution_count": 10,
     "metadata": {},
     "output_type": "execute_result"
    }
   ],
   "source": [
    "heroes.tail(4)"
   ]
  },
  {
   "cell_type": "markdown",
   "id": "60fda6d0-fd42-47b3-9beb-f9a70d8b51d4",
   "metadata": {},
   "source": [
    "### 문제 6번"
   ]
  },
  {
   "cell_type": "code",
   "execution_count": 23,
   "id": "7d12e071-df94-4a9d-935e-3f39bd105397",
   "metadata": {},
   "outputs": [
    {
     "data": {
      "text/plain": [
       "(array([100, 120,  90,  95, 110], dtype=int64), 5)"
      ]
     },
     "execution_count": 23,
     "metadata": {},
     "output_type": "execute_result"
    }
   ],
   "source": [
    "heroes.unique(), len(heroes.unique())"
   ]
  },
  {
   "cell_type": "markdown",
   "id": "54a1694f-d137-440f-adc6-45a9c5a75e5b",
   "metadata": {},
   "source": [
    "### 문제 7번"
   ]
  },
  {
   "cell_type": "code",
   "execution_count": 25,
   "id": "a9aa5b3e-935e-48fa-a641-e1eb6a834209",
   "metadata": {},
   "outputs": [
    {
     "data": {
      "text/plain": [
       "105.83333333333333"
      ]
     },
     "execution_count": 25,
     "metadata": {},
     "output_type": "execute_result"
    }
   ],
   "source": [
    "heroes.mean()"
   ]
  },
  {
   "cell_type": "markdown",
   "id": "623bb06a-741b-43cb-b030-16738d542a47",
   "metadata": {},
   "source": [
    "### 문제 8번"
   ]
  },
  {
   "cell_type": "code",
   "execution_count": 28,
   "id": "f59b7d4b-00e1-4ae5-8ba0-fca03aeca47b",
   "metadata": {},
   "outputs": [
    {
     "data": {
      "text/plain": [
       "(120, 90)"
      ]
     },
     "execution_count": 28,
     "metadata": {},
     "output_type": "execute_result"
    }
   ],
   "source": [
    "heroes.max(), heroes.min()"
   ]
  },
  {
   "cell_type": "markdown",
   "id": "729ebeb7-4239-414d-a19f-8a505805f086",
   "metadata": {},
   "source": [
    "### 문제 9번"
   ]
  },
  {
   "cell_type": "code",
   "execution_count": 26,
   "id": "278bae84-e1f1-4953-90a5-ead1983346cc",
   "metadata": {},
   "outputs": [
    {
     "data": {
      "text/plain": [
       "Batman             200\n",
       "Superman           240\n",
       "Spider-man         180\n",
       "Iron Man           190\n",
       "Captain America    220\n",
       "Wonder Woman       240\n",
       "dtype: int64"
      ]
     },
     "execution_count": 26,
     "metadata": {},
     "output_type": "execute_result"
    }
   ],
   "source": [
    "heroes.mul(2)"
   ]
  },
  {
   "cell_type": "markdown",
   "id": "35b92d30-f55f-4c3c-a334-c2e8f7e2f7e6",
   "metadata": {},
   "source": [
    "### 문제 10번"
   ]
  },
  {
   "cell_type": "code",
   "execution_count": 29,
   "id": "487a5a2d-feac-46ec-abd6-81e515369502",
   "metadata": {},
   "outputs": [
    {
     "data": {
      "text/plain": [
       "{'Batman': 100,\n",
       " 'Superman': 120,\n",
       " 'Spider-man': 90,\n",
       " 'Iron Man': 95,\n",
       " 'Captain America': 110,\n",
       " 'Wonder Woman': 120}"
      ]
     },
     "execution_count": 29,
     "metadata": {},
     "output_type": "execute_result"
    }
   ],
   "source": [
    "dict(zip(heroes.index, heroes.values))"
   ]
  }
 ],
 "metadata": {
  "kernelspec": {
   "display_name": "Python 3 (ipykernel)",
   "language": "python",
   "name": "python3"
  },
  "language_info": {
   "codemirror_mode": {
    "name": "ipython",
    "version": 3
   },
   "file_extension": ".py",
   "mimetype": "text/x-python",
   "name": "python",
   "nbconvert_exporter": "python",
   "pygments_lexer": "ipython3",
   "version": "3.8.18"
  }
 },
 "nbformat": 4,
 "nbformat_minor": 5
}
