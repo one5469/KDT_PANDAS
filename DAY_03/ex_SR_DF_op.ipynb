{
 "cells": [
  {
   "cell_type": "markdown",
   "id": "8462f614-5864-4d61-ba8c-2aea70f01ca4",
   "metadata": {},
   "source": [
    "## [ Series 데이터 연산 ]"
   ]
  },
  {
   "cell_type": "markdown",
   "id": "b0d9643d-4268-42c9-b62f-06782a395ea1",
   "metadata": {},
   "source": [
    "- (1) 모듈 로딩"
   ]
  },
  {
   "cell_type": "code",
   "execution_count": 4,
   "id": "00614429-c371-4a0b-a88b-90bc0d09f003",
   "metadata": {},
   "outputs": [],
   "source": [
    "import pandas as pd\n",
    "import numpy as np                          # import math as m ==> m.nan"
   ]
  },
  {
   "cell_type": "markdown",
   "id": "421993ee-2eae-41b6-8583-59b35230bf5c",
   "metadata": {},
   "source": [
    "- (2) 데이터 준비"
   ]
  },
  {
   "cell_type": "code",
   "execution_count": 5,
   "id": "a022801b-a4e5-4153-b111-dfd081527a0b",
   "metadata": {},
   "outputs": [],
   "source": [
    "data = [5, 7, np.nan, 9, 11]"
   ]
  },
  {
   "cell_type": "markdown",
   "id": "6d14f285-bc7c-4a0c-9cc4-2c8864abd38a",
   "metadata": {},
   "source": [
    "- (3) 데이터 저장 => 1차원 데이터로 Series에 저장"
   ]
  },
  {
   "cell_type": "code",
   "execution_count": 6,
   "id": "9729d20f-0d90-4650-9966-59f7282a5c5d",
   "metadata": {},
   "outputs": [],
   "source": [
    "sr = pd.Series(data)"
   ]
  },
  {
   "cell_type": "markdown",
   "id": "abd666f0-5617-42e1-90ae-9feb2e28fe61",
   "metadata": {},
   "source": [
    "- (4) 데이터 확인"
   ]
  },
  {
   "cell_type": "code",
   "execution_count": 8,
   "id": "3e814ac0-37cd-4a7b-b704-c537491f71d0",
   "metadata": {},
   "outputs": [
    {
     "data": {
      "text/plain": [
       "(RangeIndex(start=0, stop=5, step=1), (5,), 1, dtype('float64'), 5)"
      ]
     },
     "execution_count": 8,
     "metadata": {},
     "output_type": "execute_result"
    }
   ],
   "source": [
    "sr.index, sr.shape, sr.ndim, sr.dtypes, sr.size"
   ]
  },
  {
   "cell_type": "code",
   "execution_count": 9,
   "id": "b7e1bc70-8b96-40b1-8cf0-02292a018a37",
   "metadata": {},
   "outputs": [
    {
     "data": {
      "text/plain": [
       "array([ 5.,  7., nan,  9., 11.])"
      ]
     },
     "execution_count": 9,
     "metadata": {},
     "output_type": "execute_result"
    }
   ],
   "source": [
    "sr.values"
   ]
  },
  {
   "cell_type": "markdown",
   "id": "d95d8890-f184-4d2d-81e8-6c8fbbf8a287",
   "metadata": {},
   "source": [
    "- (5) 연산 수행 => Series 객체 - 연산자 - 숫자"
   ]
  },
  {
   "cell_type": "code",
   "execution_count": 12,
   "id": "ab87e4c6-0858-47a6-a361-caab29b77004",
   "metadata": {},
   "outputs": [
    {
     "data": {
      "text/plain": [
       "0    10.0\n",
       "1    12.0\n",
       "2     NaN\n",
       "3    14.0\n",
       "4    16.0\n",
       "dtype: float64"
      ]
     },
     "execution_count": 12,
     "metadata": {},
     "output_type": "execute_result"
    }
   ],
   "source": [
    "sr + 5"
   ]
  },
  {
   "cell_type": "code",
   "execution_count": 13,
   "id": "e6ae9bf4-5d12-4300-996e-7887f1253f37",
   "metadata": {},
   "outputs": [
    {
     "data": {
      "text/plain": [
       "0    0.0\n",
       "1    2.0\n",
       "2    NaN\n",
       "3    4.0\n",
       "4    6.0\n",
       "dtype: float64"
      ]
     },
     "execution_count": 13,
     "metadata": {},
     "output_type": "execute_result"
    }
   ],
   "source": [
    "sr - 5"
   ]
  },
  {
   "cell_type": "code",
   "execution_count": 14,
   "id": "ec6fa8d6-fe5a-4201-8296-416cea4752d6",
   "metadata": {},
   "outputs": [
    {
     "data": {
      "text/plain": [
       "0    10.0\n",
       "1    14.0\n",
       "2     NaN\n",
       "3    18.0\n",
       "4    22.0\n",
       "dtype: float64"
      ]
     },
     "execution_count": 14,
     "metadata": {},
     "output_type": "execute_result"
    }
   ],
   "source": [
    "sr * 2"
   ]
  },
  {
   "cell_type": "code",
   "execution_count": 15,
   "id": "fa0f0266-f07d-4270-bf6e-ef55006b591c",
   "metadata": {},
   "outputs": [
    {
     "data": {
      "text/plain": [
       "0    1.0\n",
       "1    1.4\n",
       "2    NaN\n",
       "3    1.8\n",
       "4    2.2\n",
       "dtype: float64"
      ]
     },
     "execution_count": 15,
     "metadata": {},
     "output_type": "execute_result"
    }
   ],
   "source": [
    "sr / 5"
   ]
  },
  {
   "cell_type": "code",
   "execution_count": 16,
   "id": "bcdf4ae2-3bd6-4d63-86be-50e4b9e0fe93",
   "metadata": {},
   "outputs": [
    {
     "data": {
      "text/plain": [
       "0    1.0\n",
       "1    2.0\n",
       "2    NaN\n",
       "3    3.0\n",
       "4    3.0\n",
       "dtype: float64"
      ]
     },
     "execution_count": 16,
     "metadata": {},
     "output_type": "execute_result"
    }
   ],
   "source": [
    "sr // 3"
   ]
  },
  {
   "cell_type": "code",
   "execution_count": 17,
   "id": "8145604a-9754-46ac-85ac-23369111c066",
   "metadata": {},
   "outputs": [
    {
     "data": {
      "text/plain": [
       "0    2.0\n",
       "1    1.0\n",
       "2    NaN\n",
       "3    0.0\n",
       "4    2.0\n",
       "dtype: float64"
      ]
     },
     "execution_count": 17,
     "metadata": {},
     "output_type": "execute_result"
    }
   ],
   "source": [
    "sr % 3"
   ]
  },
  {
   "cell_type": "code",
   "execution_count": 18,
   "id": "51c6897f-1085-426f-8bf3-1c49457680c9",
   "metadata": {},
   "outputs": [
    {
     "data": {
      "text/plain": [
       "0    False\n",
       "1     True\n",
       "2    False\n",
       "3     True\n",
       "4     True\n",
       "dtype: bool"
      ]
     },
     "execution_count": 18,
     "metadata": {},
     "output_type": "execute_result"
    }
   ],
   "source": [
    "sr > 5"
   ]
  },
  {
   "cell_type": "code",
   "execution_count": 19,
   "id": "32bfc8cd-1d1e-44be-a909-ec335849fbf9",
   "metadata": {},
   "outputs": [
    {
     "data": {
      "text/plain": [
       "0     True\n",
       "1     True\n",
       "2    False\n",
       "3     True\n",
       "4    False\n",
       "dtype: bool"
      ]
     },
     "execution_count": 19,
     "metadata": {},
     "output_type": "execute_result"
    }
   ],
   "source": [
    "sr < 10"
   ]
  },
  {
   "cell_type": "markdown",
   "id": "158fc6fa-bcad-4b67-ba45-dce21c5dc39a",
   "metadata": {},
   "source": [
    "- 논리연산 => & : and 연산   | : or 연산   ~ : not 연산"
   ]
  },
  {
   "cell_type": "code",
   "execution_count": 22,
   "id": "e88d059a-fe0f-48ea-9b4e-1d60aeddb938",
   "metadata": {},
   "outputs": [
    {
     "data": {
      "text/plain": [
       "0    False\n",
       "1     True\n",
       "2    False\n",
       "3     True\n",
       "4    False\n",
       "dtype: bool"
      ]
     },
     "execution_count": 22,
     "metadata": {},
     "output_type": "execute_result"
    }
   ],
   "source": [
    "# sr > 5 and sr < 10\n",
    "(sr > 5) & (sr < 10)"
   ]
  },
  {
   "cell_type": "code",
   "execution_count": 23,
   "id": "3cf6845a-ee80-4b9b-86b8-d44f4b6d736d",
   "metadata": {},
   "outputs": [
    {
     "data": {
      "text/plain": [
       "0    False\n",
       "1    False\n",
       "2    False\n",
       "3    False\n",
       "4     True\n",
       "dtype: bool"
      ]
     },
     "execution_count": 23,
     "metadata": {},
     "output_type": "execute_result"
    }
   ],
   "source": [
    "(sr < 5) | (sr > 10)"
   ]
  },
  {
   "cell_type": "code",
   "execution_count": 24,
   "id": "3670c70c-f11e-4708-ac3b-7157c0f92d91",
   "metadata": {},
   "outputs": [
    {
     "data": {
      "text/plain": [
       "0     True\n",
       "1    False\n",
       "2     True\n",
       "3    False\n",
       "4    False\n",
       "dtype: bool"
      ]
     },
     "execution_count": 24,
     "metadata": {},
     "output_type": "execute_result"
    }
   ],
   "source": [
    "~(sr>5)"
   ]
  },
  {
   "cell_type": "markdown",
   "id": "b63869ed-175d-4dd6-a1da-85b903412794",
   "metadata": {},
   "source": [
    "- (5) 연산 수행 => Series 객체 + Series 객체"
   ]
  },
  {
   "cell_type": "code",
   "execution_count": 25,
   "id": "e4492d76-f018-49d2-82d0-64d370c5fc8b",
   "metadata": {},
   "outputs": [],
   "source": [
    "data2 = [2,4,6,8,9]\n",
    "sr2 = pd.Series(data2)"
   ]
  },
  {
   "cell_type": "code",
   "execution_count": 26,
   "id": "ff8f59b6-55c7-4bdd-9ad5-d195c5e2e368",
   "metadata": {},
   "outputs": [
    {
     "data": {
      "text/plain": [
       "0     7.0\n",
       "1    11.0\n",
       "2     NaN\n",
       "3    17.0\n",
       "4    20.0\n",
       "dtype: float64"
      ]
     },
     "execution_count": 26,
     "metadata": {},
     "output_type": "execute_result"
    }
   ],
   "source": [
    "sr + sr2"
   ]
  },
  {
   "cell_type": "code",
   "execution_count": 27,
   "id": "02cfe2a4-98cf-4788-8fe6-531436ddc9a6",
   "metadata": {},
   "outputs": [
    {
     "data": {
      "text/plain": [
       "0    3.0\n",
       "1    3.0\n",
       "2    NaN\n",
       "3    1.0\n",
       "4    2.0\n",
       "dtype: float64"
      ]
     },
     "execution_count": 27,
     "metadata": {},
     "output_type": "execute_result"
    }
   ],
   "source": [
    "sr - sr2"
   ]
  },
  {
   "cell_type": "code",
   "execution_count": 28,
   "id": "41fdb960-d406-491e-8319-d5b4bcf9fa82",
   "metadata": {},
   "outputs": [
    {
     "data": {
      "text/plain": [
       "0    10.0\n",
       "1    28.0\n",
       "2     NaN\n",
       "3    72.0\n",
       "4    99.0\n",
       "dtype: float64"
      ]
     },
     "execution_count": 28,
     "metadata": {},
     "output_type": "execute_result"
    }
   ],
   "source": [
    "sr * sr2"
   ]
  },
  {
   "cell_type": "code",
   "execution_count": 29,
   "id": "60ecf939-fe56-4976-b815-e242fe0397da",
   "metadata": {},
   "outputs": [
    {
     "data": {
      "text/plain": [
       "0    2.500000\n",
       "1    1.750000\n",
       "2         NaN\n",
       "3    1.125000\n",
       "4    1.222222\n",
       "dtype: float64"
      ]
     },
     "execution_count": 29,
     "metadata": {},
     "output_type": "execute_result"
    }
   ],
   "source": [
    "sr / sr2"
   ]
  },
  {
   "cell_type": "code",
   "execution_count": 30,
   "id": "84f80f37-693f-4cf8-a545-a7f590862478",
   "metadata": {},
   "outputs": [
    {
     "data": {
      "text/plain": [
       "0    1.0\n",
       "1    3.0\n",
       "2    NaN\n",
       "3    1.0\n",
       "4    2.0\n",
       "dtype: float64"
      ]
     },
     "execution_count": 30,
     "metadata": {},
     "output_type": "execute_result"
    }
   ],
   "source": [
    "sr % sr2"
   ]
  },
  {
   "cell_type": "code",
   "execution_count": 31,
   "id": "0409b8af-52da-48b4-a941-180981d57a4a",
   "metadata": {},
   "outputs": [
    {
     "data": {
      "text/plain": [
       "0     True\n",
       "1     True\n",
       "2    False\n",
       "3     True\n",
       "4     True\n",
       "dtype: bool"
      ]
     },
     "execution_count": 31,
     "metadata": {},
     "output_type": "execute_result"
    }
   ],
   "source": [
    "sr > sr2"
   ]
  },
  {
   "cell_type": "code",
   "execution_count": 32,
   "id": "69b79e1a-c86b-485b-ade3-22a5879c1623",
   "metadata": {},
   "outputs": [
    {
     "data": {
      "text/plain": [
       "0    False\n",
       "1    False\n",
       "2    False\n",
       "3    False\n",
       "4    False\n",
       "dtype: bool"
      ]
     },
     "execution_count": 32,
     "metadata": {},
     "output_type": "execute_result"
    }
   ],
   "source": [
    "sr < sr2"
   ]
  },
  {
   "cell_type": "code",
   "execution_count": 33,
   "id": "86d5bf3a-0a53-4333-a83c-22eeaee4006f",
   "metadata": {},
   "outputs": [
    {
     "data": {
      "text/plain": [
       "0    False\n",
       "1    False\n",
       "2    False\n",
       "3    False\n",
       "4    False\n",
       "dtype: bool"
      ]
     },
     "execution_count": 33,
     "metadata": {},
     "output_type": "execute_result"
    }
   ],
   "source": [
    "sr == sr2"
   ]
  },
  {
   "cell_type": "code",
   "execution_count": 34,
   "id": "9a4461e2-fdb1-4674-afd8-5c8397d1a8ef",
   "metadata": {},
   "outputs": [
    {
     "data": {
      "text/plain": [
       "2    2\n",
       "3    4\n",
       "4    6\n",
       "5    8\n",
       "6    9\n",
       "dtype: int64"
      ]
     },
     "execution_count": 34,
     "metadata": {},
     "output_type": "execute_result"
    }
   ],
   "source": [
    "sr2.index=[2,3,4,5,6]\n",
    "sr2"
   ]
  },
  {
   "cell_type": "code",
   "execution_count": 35,
   "id": "ff6a005b-d239-4e16-a313-64bbd743ab31",
   "metadata": {},
   "outputs": [
    {
     "data": {
      "text/plain": [
       "0     NaN\n",
       "1     NaN\n",
       "2     NaN\n",
       "3    13.0\n",
       "4    17.0\n",
       "5     NaN\n",
       "6     NaN\n",
       "dtype: float64"
      ]
     },
     "execution_count": 35,
     "metadata": {},
     "output_type": "execute_result"
    }
   ],
   "source": [
    "sr + sr2"
   ]
  },
  {
   "cell_type": "code",
   "execution_count": 47,
   "id": "6af9d5d2-33a7-49bf-8a46-79bdeb935c22",
   "metadata": {},
   "outputs": [
    {
     "data": {
      "text/plain": [
       "0    2\n",
       "1    4\n",
       "2    6\n",
       "3    8\n",
       "4    9\n",
       "dtype: int64"
      ]
     },
     "execution_count": 47,
     "metadata": {},
     "output_type": "execute_result"
    }
   ],
   "source": [
    "sr2 = sr2.reset_index(drop=True)\n",
    "sr2"
   ]
  },
  {
   "cell_type": "markdown",
   "id": "9bc4272f-f3ac-43ff-96b7-2e4447f5e25d",
   "metadata": {},
   "source": [
    "- (5) Series 연산수행 => 전용 메소드"
   ]
  },
  {
   "cell_type": "code",
   "execution_count": 54,
   "id": "c19b76df-8988-4fb2-ae38-92085483e5e1",
   "metadata": {},
   "outputs": [
    {
     "data": {
      "text/plain": [
       "0    10.0\n",
       "1    12.0\n",
       "2     NaN\n",
       "3    14.0\n",
       "4    16.0\n",
       "dtype: float64"
      ]
     },
     "execution_count": 54,
     "metadata": {},
     "output_type": "execute_result"
    }
   ],
   "source": [
    "sr.add(5)\n"
   ]
  },
  {
   "cell_type": "code",
   "execution_count": 55,
   "id": "5f34e4a7-081e-4ae3-9129-46aeb43c0fcb",
   "metadata": {},
   "outputs": [
    {
     "data": {
      "text/plain": [
       "0    10.0\n",
       "1    12.0\n",
       "2     5.0\n",
       "3    14.0\n",
       "4    16.0\n",
       "dtype: float64"
      ]
     },
     "execution_count": 55,
     "metadata": {},
     "output_type": "execute_result"
    }
   ],
   "source": [
    "sr.add(5, fill_value=0)"
   ]
  },
  {
   "cell_type": "code",
   "execution_count": 56,
   "id": "79f9da56-71a2-494c-96fb-e7afc61cc95b",
   "metadata": {},
   "outputs": [
    {
     "data": {
      "text/plain": [
       "0    3.0\n",
       "1    3.0\n",
       "2    NaN\n",
       "3    1.0\n",
       "4    2.0\n",
       "dtype: float64"
      ]
     },
     "execution_count": 56,
     "metadata": {},
     "output_type": "execute_result"
    }
   ],
   "source": [
    "sr.sub(sr2)\n"
   ]
  },
  {
   "cell_type": "code",
   "execution_count": 57,
   "id": "07023995-f831-4225-8c01-b947fde7c5df",
   "metadata": {},
   "outputs": [
    {
     "data": {
      "text/plain": [
       "0    3.0\n",
       "1    3.0\n",
       "2   -6.0\n",
       "3    1.0\n",
       "4    2.0\n",
       "dtype: float64"
      ]
     },
     "execution_count": 57,
     "metadata": {},
     "output_type": "execute_result"
    }
   ],
   "source": [
    "sr.sub(sr2, fill_value=0)"
   ]
  },
  {
   "cell_type": "code",
   "execution_count": 58,
   "id": "3f84f6e7-d5a2-48cc-8f51-eeb4965341fa",
   "metadata": {},
   "outputs": [],
   "source": [
    "addSR = sr.add(5, fill_value=0)\n",
    "subSR = sr.sub(5, fill_value=0)\n",
    "mulSR = sr.mul(5, fill_value=0)\n",
    "divSR = sr.div(5, fill_value=0)"
   ]
  },
  {
   "cell_type": "code",
   "execution_count": 59,
   "id": "64b4ecba-e417-4646-932a-576e1740368e",
   "metadata": {},
   "outputs": [
    {
     "data": {
      "text/plain": [
       "(0    10.0\n",
       " 1    12.0\n",
       " 2     5.0\n",
       " 3    14.0\n",
       " 4    16.0\n",
       " dtype: float64,\n",
       " 0    0.0\n",
       " 1    2.0\n",
       " 2   -5.0\n",
       " 3    4.0\n",
       " 4    6.0\n",
       " dtype: float64,\n",
       " 0    25.0\n",
       " 1    35.0\n",
       " 2     0.0\n",
       " 3    45.0\n",
       " 4    55.0\n",
       " dtype: float64,\n",
       " 0    1.0\n",
       " 1    1.4\n",
       " 2    0.0\n",
       " 3    1.8\n",
       " 4    2.2\n",
       " dtype: float64)"
      ]
     },
     "execution_count": 59,
     "metadata": {},
     "output_type": "execute_result"
    }
   ],
   "source": [
    "addSR, subSR, mulSR, divSR"
   ]
  },
  {
   "cell_type": "markdown",
   "id": "819421bf-0708-4d9a-8e99-2bd0cef8b57d",
   "metadata": {},
   "source": [
    "- (6) DataFrame 연산 수행"
   ]
  },
  {
   "cell_type": "code",
   "execution_count": 63,
   "id": "fd2791a4-7115-4e13-aff2-bbbb5bfaaa37",
   "metadata": {},
   "outputs": [],
   "source": [
    "df = pd.DataFrame([addSR, subSR, mulSR, divSR], index = ['add', 'sub', 'mul', 'div'])"
   ]
  },
  {
   "cell_type": "code",
   "execution_count": 64,
   "id": "d227b6c5-83b0-4374-a16a-410137f6a8e9",
   "metadata": {},
   "outputs": [
    {
     "data": {
      "text/html": [
       "<div>\n",
       "<style scoped>\n",
       "    .dataframe tbody tr th:only-of-type {\n",
       "        vertical-align: middle;\n",
       "    }\n",
       "\n",
       "    .dataframe tbody tr th {\n",
       "        vertical-align: top;\n",
       "    }\n",
       "\n",
       "    .dataframe thead th {\n",
       "        text-align: right;\n",
       "    }\n",
       "</style>\n",
       "<table border=\"1\" class=\"dataframe\">\n",
       "  <thead>\n",
       "    <tr style=\"text-align: right;\">\n",
       "      <th></th>\n",
       "      <th>0</th>\n",
       "      <th>1</th>\n",
       "      <th>2</th>\n",
       "      <th>3</th>\n",
       "      <th>4</th>\n",
       "    </tr>\n",
       "  </thead>\n",
       "  <tbody>\n",
       "    <tr>\n",
       "      <th>add</th>\n",
       "      <td>10.0</td>\n",
       "      <td>12.0</td>\n",
       "      <td>5.0</td>\n",
       "      <td>14.0</td>\n",
       "      <td>16.0</td>\n",
       "    </tr>\n",
       "    <tr>\n",
       "      <th>sub</th>\n",
       "      <td>0.0</td>\n",
       "      <td>2.0</td>\n",
       "      <td>-5.0</td>\n",
       "      <td>4.0</td>\n",
       "      <td>6.0</td>\n",
       "    </tr>\n",
       "    <tr>\n",
       "      <th>mul</th>\n",
       "      <td>25.0</td>\n",
       "      <td>35.0</td>\n",
       "      <td>0.0</td>\n",
       "      <td>45.0</td>\n",
       "      <td>55.0</td>\n",
       "    </tr>\n",
       "    <tr>\n",
       "      <th>div</th>\n",
       "      <td>1.0</td>\n",
       "      <td>1.4</td>\n",
       "      <td>0.0</td>\n",
       "      <td>1.8</td>\n",
       "      <td>2.2</td>\n",
       "    </tr>\n",
       "  </tbody>\n",
       "</table>\n",
       "</div>"
      ],
      "text/plain": [
       "        0     1    2     3     4\n",
       "add  10.0  12.0  5.0  14.0  16.0\n",
       "sub   0.0   2.0 -5.0   4.0   6.0\n",
       "mul  25.0  35.0  0.0  45.0  55.0\n",
       "div   1.0   1.4  0.0   1.8   2.2"
      ]
     },
     "execution_count": 64,
     "metadata": {},
     "output_type": "execute_result"
    }
   ],
   "source": [
    "df"
   ]
  },
  {
   "cell_type": "code",
   "execution_count": 65,
   "id": "295e4379-034e-4dc4-bee5-c8378b17e13c",
   "metadata": {},
   "outputs": [
    {
     "name": "stdout",
     "output_type": "stream",
     "text": [
      "        0     1     2     3     4\n",
      "add  15.0  17.0  10.0  19.0  21.0\n",
      "sub   5.0   7.0   0.0   9.0  11.0\n",
      "mul  30.0  40.0   5.0  50.0  60.0\n",
      "div   6.0   6.4   5.0   6.8   7.2\n",
      "\n",
      "        0     1     2     3     4\n",
      "add   5.0   7.0   0.0   9.0  11.0\n",
      "sub  -5.0  -3.0 -10.0  -1.0   1.0\n",
      "mul  20.0  30.0  -5.0  40.0  50.0\n",
      "div  -4.0  -3.6  -5.0  -3.2  -2.8\n"
     ]
    }
   ],
   "source": [
    "print(df+5, df-5, sep='\\n\\n')"
   ]
  },
  {
   "cell_type": "code",
   "execution_count": 66,
   "id": "de278bed-dff7-43db-a3ca-dd383e92935f",
   "metadata": {},
   "outputs": [
    {
     "name": "stdout",
     "output_type": "stream",
     "text": [
      "         0      1      2      3      4\n",
      "add   True   True  False   True   True\n",
      "sub  False  False  False  False   True\n",
      "mul   True   True  False   True   True\n",
      "div  False  False  False  False  False\n",
      "\n",
      "         0      1      2      3      4\n",
      "add  False  False  False  False  False\n",
      "sub   True   True   True   True  False\n",
      "mul  False  False   True  False  False\n",
      "div   True   True   True   True   True\n"
     ]
    }
   ],
   "source": [
    "print(df>5, df<5, sep='\\n\\n')"
   ]
  },
  {
   "cell_type": "markdown",
   "id": "c937567a-b5a6-473e-9947-881a2d78ea0d",
   "metadata": {},
   "source": [
    "- DataFrame과 DataFrame 연산 수행 => 동일 위치에 원소끼리 연산 수행"
   ]
  },
  {
   "cell_type": "code",
   "execution_count": 67,
   "id": "d345def3-526c-4ed5-b8c0-915d57135659",
   "metadata": {},
   "outputs": [
    {
     "data": {
      "text/html": [
       "<div>\n",
       "<style scoped>\n",
       "    .dataframe tbody tr th:only-of-type {\n",
       "        vertical-align: middle;\n",
       "    }\n",
       "\n",
       "    .dataframe tbody tr th {\n",
       "        vertical-align: top;\n",
       "    }\n",
       "\n",
       "    .dataframe thead th {\n",
       "        text-align: right;\n",
       "    }\n",
       "</style>\n",
       "<table border=\"1\" class=\"dataframe\">\n",
       "  <thead>\n",
       "    <tr style=\"text-align: right;\">\n",
       "      <th></th>\n",
       "      <th>0</th>\n",
       "      <th>1</th>\n",
       "      <th>2</th>\n",
       "      <th>3</th>\n",
       "      <th>4</th>\n",
       "    </tr>\n",
       "  </thead>\n",
       "  <tbody>\n",
       "    <tr>\n",
       "      <th>add</th>\n",
       "      <td>100.0</td>\n",
       "      <td>120.0</td>\n",
       "      <td>50.0</td>\n",
       "      <td>140.0</td>\n",
       "      <td>160.0</td>\n",
       "    </tr>\n",
       "    <tr>\n",
       "      <th>sub</th>\n",
       "      <td>0.0</td>\n",
       "      <td>20.0</td>\n",
       "      <td>-50.0</td>\n",
       "      <td>40.0</td>\n",
       "      <td>60.0</td>\n",
       "    </tr>\n",
       "    <tr>\n",
       "      <th>mul</th>\n",
       "      <td>250.0</td>\n",
       "      <td>350.0</td>\n",
       "      <td>0.0</td>\n",
       "      <td>450.0</td>\n",
       "      <td>550.0</td>\n",
       "    </tr>\n",
       "    <tr>\n",
       "      <th>div</th>\n",
       "      <td>10.0</td>\n",
       "      <td>14.0</td>\n",
       "      <td>0.0</td>\n",
       "      <td>18.0</td>\n",
       "      <td>22.0</td>\n",
       "    </tr>\n",
       "  </tbody>\n",
       "</table>\n",
       "</div>"
      ],
      "text/plain": [
       "         0      1     2      3      4\n",
       "add  100.0  120.0  50.0  140.0  160.0\n",
       "sub    0.0   20.0 -50.0   40.0   60.0\n",
       "mul  250.0  350.0   0.0  450.0  550.0\n",
       "div   10.0   14.0   0.0   18.0   22.0"
      ]
     },
     "execution_count": 67,
     "metadata": {},
     "output_type": "execute_result"
    }
   ],
   "source": [
    "df2 = df*10\n",
    "df2"
   ]
  },
  {
   "cell_type": "code",
   "execution_count": 68,
   "id": "9448f61c-43ea-4d31-bbff-d588ec2637c1",
   "metadata": {},
   "outputs": [
    {
     "name": "stdout",
     "output_type": "stream",
     "text": [
      "         0      1     2      3      4\n",
      "add  110.0  132.0  55.0  154.0  176.0\n",
      "sub    0.0   22.0 -55.0   44.0   66.0\n",
      "mul  275.0  385.0   0.0  495.0  605.0\n",
      "div   11.0   15.4   0.0   19.8   24.2\n",
      "\n",
      "          0        1      2        3        4\n",
      "add  1000.0   1440.0  250.0   1960.0   2560.0\n",
      "sub     0.0     40.0  250.0    160.0    360.0\n",
      "mul  6250.0  12250.0    0.0  20250.0  30250.0\n",
      "div    10.0     19.6    0.0     32.4     48.4\n"
     ]
    }
   ],
   "source": [
    "print(df+df2, df*df2, sep='\\n\\n')"
   ]
  },
  {
   "cell_type": "code",
   "execution_count": 69,
   "id": "28ebd6ba-6e62-44c5-8ae5-b8ce0493e88f",
   "metadata": {},
   "outputs": [],
   "source": [
    "df2.index = ['add','minus','mul','/']"
   ]
  },
  {
   "cell_type": "code",
   "execution_count": 70,
   "id": "417dd8eb-691d-4060-a7e4-9985ae796af1",
   "metadata": {},
   "outputs": [
    {
     "name": "stdout",
     "output_type": "stream",
     "text": [
      "           0      1     2      3      4\n",
      "/        NaN    NaN   NaN    NaN    NaN\n",
      "add    110.0  132.0  55.0  154.0  176.0\n",
      "div      NaN    NaN   NaN    NaN    NaN\n",
      "minus    NaN    NaN   NaN    NaN    NaN\n",
      "mul    275.0  385.0   0.0  495.0  605.0\n",
      "sub      NaN    NaN   NaN    NaN    NaN\n",
      "\n",
      "            0        1      2        3        4\n",
      "/         NaN      NaN    NaN      NaN      NaN\n",
      "add    1000.0   1440.0  250.0   1960.0   2560.0\n",
      "div       NaN      NaN    NaN      NaN      NaN\n",
      "minus     NaN      NaN    NaN      NaN      NaN\n",
      "mul    6250.0  12250.0    0.0  20250.0  30250.0\n",
      "sub       NaN      NaN    NaN      NaN      NaN\n"
     ]
    }
   ],
   "source": [
    "print(df+df2, df*df2, sep='\\n\\n')"
   ]
  },
  {
   "cell_type": "markdown",
   "id": "dc915823-4ab5-492b-8b6f-46307e44c440",
   "metadata": {},
   "source": [
    "- 연산 수행 메소드 활용 => 결측치 즉 NaN 빈칸에 대한 처리를 수행 가능\n",
    "    * fill_value 파라미터에 값 설정"
   ]
  },
  {
   "cell_type": "code",
   "execution_count": 71,
   "id": "43db6976-94f7-4ef4-91ff-edf34b977b41",
   "metadata": {},
   "outputs": [
    {
     "data": {
      "text/html": [
       "<div>\n",
       "<style scoped>\n",
       "    .dataframe tbody tr th:only-of-type {\n",
       "        vertical-align: middle;\n",
       "    }\n",
       "\n",
       "    .dataframe tbody tr th {\n",
       "        vertical-align: top;\n",
       "    }\n",
       "\n",
       "    .dataframe thead th {\n",
       "        text-align: right;\n",
       "    }\n",
       "</style>\n",
       "<table border=\"1\" class=\"dataframe\">\n",
       "  <thead>\n",
       "    <tr style=\"text-align: right;\">\n",
       "      <th></th>\n",
       "      <th>0</th>\n",
       "      <th>1</th>\n",
       "      <th>2</th>\n",
       "      <th>3</th>\n",
       "      <th>4</th>\n",
       "    </tr>\n",
       "  </thead>\n",
       "  <tbody>\n",
       "    <tr>\n",
       "      <th>/</th>\n",
       "      <td>10.0</td>\n",
       "      <td>14.0</td>\n",
       "      <td>0.0</td>\n",
       "      <td>18.0</td>\n",
       "      <td>22.0</td>\n",
       "    </tr>\n",
       "    <tr>\n",
       "      <th>add</th>\n",
       "      <td>110.0</td>\n",
       "      <td>132.0</td>\n",
       "      <td>55.0</td>\n",
       "      <td>154.0</td>\n",
       "      <td>176.0</td>\n",
       "    </tr>\n",
       "    <tr>\n",
       "      <th>div</th>\n",
       "      <td>1.0</td>\n",
       "      <td>1.4</td>\n",
       "      <td>0.0</td>\n",
       "      <td>1.8</td>\n",
       "      <td>2.2</td>\n",
       "    </tr>\n",
       "    <tr>\n",
       "      <th>minus</th>\n",
       "      <td>0.0</td>\n",
       "      <td>20.0</td>\n",
       "      <td>-50.0</td>\n",
       "      <td>40.0</td>\n",
       "      <td>60.0</td>\n",
       "    </tr>\n",
       "    <tr>\n",
       "      <th>mul</th>\n",
       "      <td>275.0</td>\n",
       "      <td>385.0</td>\n",
       "      <td>0.0</td>\n",
       "      <td>495.0</td>\n",
       "      <td>605.0</td>\n",
       "    </tr>\n",
       "    <tr>\n",
       "      <th>sub</th>\n",
       "      <td>0.0</td>\n",
       "      <td>2.0</td>\n",
       "      <td>-5.0</td>\n",
       "      <td>4.0</td>\n",
       "      <td>6.0</td>\n",
       "    </tr>\n",
       "  </tbody>\n",
       "</table>\n",
       "</div>"
      ],
      "text/plain": [
       "           0      1     2      3      4\n",
       "/       10.0   14.0   0.0   18.0   22.0\n",
       "add    110.0  132.0  55.0  154.0  176.0\n",
       "div      1.0    1.4   0.0    1.8    2.2\n",
       "minus    0.0   20.0 -50.0   40.0   60.0\n",
       "mul    275.0  385.0   0.0  495.0  605.0\n",
       "sub      0.0    2.0  -5.0    4.0    6.0"
      ]
     },
     "execution_count": 71,
     "metadata": {},
     "output_type": "execute_result"
    }
   ],
   "source": [
    "df.add(df2, fill_value=0)"
   ]
  },
  {
   "cell_type": "code",
   "execution_count": null,
   "id": "da89cd84-ba93-4279-bd4e-b51a76b1fa97",
   "metadata": {},
   "outputs": [],
   "source": []
  }
 ],
 "metadata": {
  "kernelspec": {
   "display_name": "Python 3 (ipykernel)",
   "language": "python",
   "name": "python3"
  },
  "language_info": {
   "codemirror_mode": {
    "name": "ipython",
    "version": 3
   },
   "file_extension": ".py",
   "mimetype": "text/x-python",
   "name": "python",
   "nbconvert_exporter": "python",
   "pygments_lexer": "ipython3",
   "version": "3.8.18"
  }
 },
 "nbformat": 4,
 "nbformat_minor": 5
}
